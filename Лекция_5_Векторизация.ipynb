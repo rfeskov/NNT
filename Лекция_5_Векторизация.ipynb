{
  "nbformat": 4,
  "nbformat_minor": 0,
  "metadata": {
    "colab": {
      "provenance": [],
      "toc_visible": true
    },
    "kernelspec": {
      "name": "python3",
      "display_name": "Python 3"
    },
    "language_info": {
      "name": "python"
    },
    "widgets": {
      "application/vnd.jupyter.widget-state+json": {
        "78028d63218443f6a16b0b3098b512f0": {
          "model_module": "@jupyter-widgets/controls",
          "model_name": "HBoxModel",
          "model_module_version": "1.5.0",
          "state": {
            "_dom_classes": [],
            "_model_module": "@jupyter-widgets/controls",
            "_model_module_version": "1.5.0",
            "_model_name": "HBoxModel",
            "_view_count": null,
            "_view_module": "@jupyter-widgets/controls",
            "_view_module_version": "1.5.0",
            "_view_name": "HBoxView",
            "box_style": "",
            "children": [
              "IPY_MODEL_7e62f8e2d88145daa763a1e710a99e0d",
              "IPY_MODEL_e51dab4be2ed4a788285fba07419d7ea",
              "IPY_MODEL_a11bea4f1a944b179490d0c3d797433c"
            ],
            "layout": "IPY_MODEL_13349c79020a43c69c00316ac318dac5"
          }
        },
        "7e62f8e2d88145daa763a1e710a99e0d": {
          "model_module": "@jupyter-widgets/controls",
          "model_name": "HTMLModel",
          "model_module_version": "1.5.0",
          "state": {
            "_dom_classes": [],
            "_model_module": "@jupyter-widgets/controls",
            "_model_module_version": "1.5.0",
            "_model_name": "HTMLModel",
            "_view_count": null,
            "_view_module": "@jupyter-widgets/controls",
            "_view_module_version": "1.5.0",
            "_view_name": "HTMLView",
            "description": "",
            "description_tooltip": null,
            "layout": "IPY_MODEL_b699cb4157e24c9dba971a6e278be0e3",
            "placeholder": "​",
            "style": "IPY_MODEL_e4803a4888c4461786b56ce144c80b2b",
            "value": "tokenizer_config.json: 100%"
          }
        },
        "e51dab4be2ed4a788285fba07419d7ea": {
          "model_module": "@jupyter-widgets/controls",
          "model_name": "FloatProgressModel",
          "model_module_version": "1.5.0",
          "state": {
            "_dom_classes": [],
            "_model_module": "@jupyter-widgets/controls",
            "_model_module_version": "1.5.0",
            "_model_name": "FloatProgressModel",
            "_view_count": null,
            "_view_module": "@jupyter-widgets/controls",
            "_view_module_version": "1.5.0",
            "_view_name": "ProgressView",
            "bar_style": "success",
            "description": "",
            "description_tooltip": null,
            "layout": "IPY_MODEL_e1fdca03b6ad4f079370d23d4e670a6c",
            "max": 49,
            "min": 0,
            "orientation": "horizontal",
            "style": "IPY_MODEL_d3ee1bc8f37449a4b119c06fff62209a",
            "value": 49
          }
        },
        "a11bea4f1a944b179490d0c3d797433c": {
          "model_module": "@jupyter-widgets/controls",
          "model_name": "HTMLModel",
          "model_module_version": "1.5.0",
          "state": {
            "_dom_classes": [],
            "_model_module": "@jupyter-widgets/controls",
            "_model_module_version": "1.5.0",
            "_model_name": "HTMLModel",
            "_view_count": null,
            "_view_module": "@jupyter-widgets/controls",
            "_view_module_version": "1.5.0",
            "_view_name": "HTMLView",
            "description": "",
            "description_tooltip": null,
            "layout": "IPY_MODEL_4322f6272444492a84f28e01a6b99ab5",
            "placeholder": "​",
            "style": "IPY_MODEL_f760f0a93e274207beb725fc17f89b23",
            "value": " 49.0/49.0 [00:00&lt;00:00, 4.61kB/s]"
          }
        },
        "13349c79020a43c69c00316ac318dac5": {
          "model_module": "@jupyter-widgets/base",
          "model_name": "LayoutModel",
          "model_module_version": "1.2.0",
          "state": {
            "_model_module": "@jupyter-widgets/base",
            "_model_module_version": "1.2.0",
            "_model_name": "LayoutModel",
            "_view_count": null,
            "_view_module": "@jupyter-widgets/base",
            "_view_module_version": "1.2.0",
            "_view_name": "LayoutView",
            "align_content": null,
            "align_items": null,
            "align_self": null,
            "border": null,
            "bottom": null,
            "display": null,
            "flex": null,
            "flex_flow": null,
            "grid_area": null,
            "grid_auto_columns": null,
            "grid_auto_flow": null,
            "grid_auto_rows": null,
            "grid_column": null,
            "grid_gap": null,
            "grid_row": null,
            "grid_template_areas": null,
            "grid_template_columns": null,
            "grid_template_rows": null,
            "height": null,
            "justify_content": null,
            "justify_items": null,
            "left": null,
            "margin": null,
            "max_height": null,
            "max_width": null,
            "min_height": null,
            "min_width": null,
            "object_fit": null,
            "object_position": null,
            "order": null,
            "overflow": null,
            "overflow_x": null,
            "overflow_y": null,
            "padding": null,
            "right": null,
            "top": null,
            "visibility": null,
            "width": null
          }
        },
        "b699cb4157e24c9dba971a6e278be0e3": {
          "model_module": "@jupyter-widgets/base",
          "model_name": "LayoutModel",
          "model_module_version": "1.2.0",
          "state": {
            "_model_module": "@jupyter-widgets/base",
            "_model_module_version": "1.2.0",
            "_model_name": "LayoutModel",
            "_view_count": null,
            "_view_module": "@jupyter-widgets/base",
            "_view_module_version": "1.2.0",
            "_view_name": "LayoutView",
            "align_content": null,
            "align_items": null,
            "align_self": null,
            "border": null,
            "bottom": null,
            "display": null,
            "flex": null,
            "flex_flow": null,
            "grid_area": null,
            "grid_auto_columns": null,
            "grid_auto_flow": null,
            "grid_auto_rows": null,
            "grid_column": null,
            "grid_gap": null,
            "grid_row": null,
            "grid_template_areas": null,
            "grid_template_columns": null,
            "grid_template_rows": null,
            "height": null,
            "justify_content": null,
            "justify_items": null,
            "left": null,
            "margin": null,
            "max_height": null,
            "max_width": null,
            "min_height": null,
            "min_width": null,
            "object_fit": null,
            "object_position": null,
            "order": null,
            "overflow": null,
            "overflow_x": null,
            "overflow_y": null,
            "padding": null,
            "right": null,
            "top": null,
            "visibility": null,
            "width": null
          }
        },
        "e4803a4888c4461786b56ce144c80b2b": {
          "model_module": "@jupyter-widgets/controls",
          "model_name": "DescriptionStyleModel",
          "model_module_version": "1.5.0",
          "state": {
            "_model_module": "@jupyter-widgets/controls",
            "_model_module_version": "1.5.0",
            "_model_name": "DescriptionStyleModel",
            "_view_count": null,
            "_view_module": "@jupyter-widgets/base",
            "_view_module_version": "1.2.0",
            "_view_name": "StyleView",
            "description_width": ""
          }
        },
        "e1fdca03b6ad4f079370d23d4e670a6c": {
          "model_module": "@jupyter-widgets/base",
          "model_name": "LayoutModel",
          "model_module_version": "1.2.0",
          "state": {
            "_model_module": "@jupyter-widgets/base",
            "_model_module_version": "1.2.0",
            "_model_name": "LayoutModel",
            "_view_count": null,
            "_view_module": "@jupyter-widgets/base",
            "_view_module_version": "1.2.0",
            "_view_name": "LayoutView",
            "align_content": null,
            "align_items": null,
            "align_self": null,
            "border": null,
            "bottom": null,
            "display": null,
            "flex": null,
            "flex_flow": null,
            "grid_area": null,
            "grid_auto_columns": null,
            "grid_auto_flow": null,
            "grid_auto_rows": null,
            "grid_column": null,
            "grid_gap": null,
            "grid_row": null,
            "grid_template_areas": null,
            "grid_template_columns": null,
            "grid_template_rows": null,
            "height": null,
            "justify_content": null,
            "justify_items": null,
            "left": null,
            "margin": null,
            "max_height": null,
            "max_width": null,
            "min_height": null,
            "min_width": null,
            "object_fit": null,
            "object_position": null,
            "order": null,
            "overflow": null,
            "overflow_x": null,
            "overflow_y": null,
            "padding": null,
            "right": null,
            "top": null,
            "visibility": null,
            "width": null
          }
        },
        "d3ee1bc8f37449a4b119c06fff62209a": {
          "model_module": "@jupyter-widgets/controls",
          "model_name": "ProgressStyleModel",
          "model_module_version": "1.5.0",
          "state": {
            "_model_module": "@jupyter-widgets/controls",
            "_model_module_version": "1.5.0",
            "_model_name": "ProgressStyleModel",
            "_view_count": null,
            "_view_module": "@jupyter-widgets/base",
            "_view_module_version": "1.2.0",
            "_view_name": "StyleView",
            "bar_color": null,
            "description_width": ""
          }
        },
        "4322f6272444492a84f28e01a6b99ab5": {
          "model_module": "@jupyter-widgets/base",
          "model_name": "LayoutModel",
          "model_module_version": "1.2.0",
          "state": {
            "_model_module": "@jupyter-widgets/base",
            "_model_module_version": "1.2.0",
            "_model_name": "LayoutModel",
            "_view_count": null,
            "_view_module": "@jupyter-widgets/base",
            "_view_module_version": "1.2.0",
            "_view_name": "LayoutView",
            "align_content": null,
            "align_items": null,
            "align_self": null,
            "border": null,
            "bottom": null,
            "display": null,
            "flex": null,
            "flex_flow": null,
            "grid_area": null,
            "grid_auto_columns": null,
            "grid_auto_flow": null,
            "grid_auto_rows": null,
            "grid_column": null,
            "grid_gap": null,
            "grid_row": null,
            "grid_template_areas": null,
            "grid_template_columns": null,
            "grid_template_rows": null,
            "height": null,
            "justify_content": null,
            "justify_items": null,
            "left": null,
            "margin": null,
            "max_height": null,
            "max_width": null,
            "min_height": null,
            "min_width": null,
            "object_fit": null,
            "object_position": null,
            "order": null,
            "overflow": null,
            "overflow_x": null,
            "overflow_y": null,
            "padding": null,
            "right": null,
            "top": null,
            "visibility": null,
            "width": null
          }
        },
        "f760f0a93e274207beb725fc17f89b23": {
          "model_module": "@jupyter-widgets/controls",
          "model_name": "DescriptionStyleModel",
          "model_module_version": "1.5.0",
          "state": {
            "_model_module": "@jupyter-widgets/controls",
            "_model_module_version": "1.5.0",
            "_model_name": "DescriptionStyleModel",
            "_view_count": null,
            "_view_module": "@jupyter-widgets/base",
            "_view_module_version": "1.2.0",
            "_view_name": "StyleView",
            "description_width": ""
          }
        },
        "5bc4432b54d84edb96f9396c53e67c15": {
          "model_module": "@jupyter-widgets/controls",
          "model_name": "HBoxModel",
          "model_module_version": "1.5.0",
          "state": {
            "_dom_classes": [],
            "_model_module": "@jupyter-widgets/controls",
            "_model_module_version": "1.5.0",
            "_model_name": "HBoxModel",
            "_view_count": null,
            "_view_module": "@jupyter-widgets/controls",
            "_view_module_version": "1.5.0",
            "_view_name": "HBoxView",
            "box_style": "",
            "children": [
              "IPY_MODEL_401051bc2ee24113a050a0e0581456a1",
              "IPY_MODEL_09266b4eb9614dbe8d23496bfe55726f",
              "IPY_MODEL_af5ac5bb93d34673a306f4c5772de4dd"
            ],
            "layout": "IPY_MODEL_efb1fbcb943c427180536ae6cab3f510"
          }
        },
        "401051bc2ee24113a050a0e0581456a1": {
          "model_module": "@jupyter-widgets/controls",
          "model_name": "HTMLModel",
          "model_module_version": "1.5.0",
          "state": {
            "_dom_classes": [],
            "_model_module": "@jupyter-widgets/controls",
            "_model_module_version": "1.5.0",
            "_model_name": "HTMLModel",
            "_view_count": null,
            "_view_module": "@jupyter-widgets/controls",
            "_view_module_version": "1.5.0",
            "_view_name": "HTMLView",
            "description": "",
            "description_tooltip": null,
            "layout": "IPY_MODEL_6874bd5b40b44343941cd92b9e8e6016",
            "placeholder": "​",
            "style": "IPY_MODEL_6d62ae6478234ca98b76570ae6ac70e2",
            "value": "vocab.txt: 100%"
          }
        },
        "09266b4eb9614dbe8d23496bfe55726f": {
          "model_module": "@jupyter-widgets/controls",
          "model_name": "FloatProgressModel",
          "model_module_version": "1.5.0",
          "state": {
            "_dom_classes": [],
            "_model_module": "@jupyter-widgets/controls",
            "_model_module_version": "1.5.0",
            "_model_name": "FloatProgressModel",
            "_view_count": null,
            "_view_module": "@jupyter-widgets/controls",
            "_view_module_version": "1.5.0",
            "_view_name": "ProgressView",
            "bar_style": "success",
            "description": "",
            "description_tooltip": null,
            "layout": "IPY_MODEL_15e877216cc44851b112f1dddd14af54",
            "max": 995526,
            "min": 0,
            "orientation": "horizontal",
            "style": "IPY_MODEL_be22530db52548069a1dce6a66058e4a",
            "value": 995526
          }
        },
        "af5ac5bb93d34673a306f4c5772de4dd": {
          "model_module": "@jupyter-widgets/controls",
          "model_name": "HTMLModel",
          "model_module_version": "1.5.0",
          "state": {
            "_dom_classes": [],
            "_model_module": "@jupyter-widgets/controls",
            "_model_module_version": "1.5.0",
            "_model_name": "HTMLModel",
            "_view_count": null,
            "_view_module": "@jupyter-widgets/controls",
            "_view_module_version": "1.5.0",
            "_view_name": "HTMLView",
            "description": "",
            "description_tooltip": null,
            "layout": "IPY_MODEL_220d957a91e942f08280e086e9f1c5f9",
            "placeholder": "​",
            "style": "IPY_MODEL_720723d40beb4ddcb4319c35b424bf9b",
            "value": " 996k/996k [00:00&lt;00:00, 19.6MB/s]"
          }
        },
        "efb1fbcb943c427180536ae6cab3f510": {
          "model_module": "@jupyter-widgets/base",
          "model_name": "LayoutModel",
          "model_module_version": "1.2.0",
          "state": {
            "_model_module": "@jupyter-widgets/base",
            "_model_module_version": "1.2.0",
            "_model_name": "LayoutModel",
            "_view_count": null,
            "_view_module": "@jupyter-widgets/base",
            "_view_module_version": "1.2.0",
            "_view_name": "LayoutView",
            "align_content": null,
            "align_items": null,
            "align_self": null,
            "border": null,
            "bottom": null,
            "display": null,
            "flex": null,
            "flex_flow": null,
            "grid_area": null,
            "grid_auto_columns": null,
            "grid_auto_flow": null,
            "grid_auto_rows": null,
            "grid_column": null,
            "grid_gap": null,
            "grid_row": null,
            "grid_template_areas": null,
            "grid_template_columns": null,
            "grid_template_rows": null,
            "height": null,
            "justify_content": null,
            "justify_items": null,
            "left": null,
            "margin": null,
            "max_height": null,
            "max_width": null,
            "min_height": null,
            "min_width": null,
            "object_fit": null,
            "object_position": null,
            "order": null,
            "overflow": null,
            "overflow_x": null,
            "overflow_y": null,
            "padding": null,
            "right": null,
            "top": null,
            "visibility": null,
            "width": null
          }
        },
        "6874bd5b40b44343941cd92b9e8e6016": {
          "model_module": "@jupyter-widgets/base",
          "model_name": "LayoutModel",
          "model_module_version": "1.2.0",
          "state": {
            "_model_module": "@jupyter-widgets/base",
            "_model_module_version": "1.2.0",
            "_model_name": "LayoutModel",
            "_view_count": null,
            "_view_module": "@jupyter-widgets/base",
            "_view_module_version": "1.2.0",
            "_view_name": "LayoutView",
            "align_content": null,
            "align_items": null,
            "align_self": null,
            "border": null,
            "bottom": null,
            "display": null,
            "flex": null,
            "flex_flow": null,
            "grid_area": null,
            "grid_auto_columns": null,
            "grid_auto_flow": null,
            "grid_auto_rows": null,
            "grid_column": null,
            "grid_gap": null,
            "grid_row": null,
            "grid_template_areas": null,
            "grid_template_columns": null,
            "grid_template_rows": null,
            "height": null,
            "justify_content": null,
            "justify_items": null,
            "left": null,
            "margin": null,
            "max_height": null,
            "max_width": null,
            "min_height": null,
            "min_width": null,
            "object_fit": null,
            "object_position": null,
            "order": null,
            "overflow": null,
            "overflow_x": null,
            "overflow_y": null,
            "padding": null,
            "right": null,
            "top": null,
            "visibility": null,
            "width": null
          }
        },
        "6d62ae6478234ca98b76570ae6ac70e2": {
          "model_module": "@jupyter-widgets/controls",
          "model_name": "DescriptionStyleModel",
          "model_module_version": "1.5.0",
          "state": {
            "_model_module": "@jupyter-widgets/controls",
            "_model_module_version": "1.5.0",
            "_model_name": "DescriptionStyleModel",
            "_view_count": null,
            "_view_module": "@jupyter-widgets/base",
            "_view_module_version": "1.2.0",
            "_view_name": "StyleView",
            "description_width": ""
          }
        },
        "15e877216cc44851b112f1dddd14af54": {
          "model_module": "@jupyter-widgets/base",
          "model_name": "LayoutModel",
          "model_module_version": "1.2.0",
          "state": {
            "_model_module": "@jupyter-widgets/base",
            "_model_module_version": "1.2.0",
            "_model_name": "LayoutModel",
            "_view_count": null,
            "_view_module": "@jupyter-widgets/base",
            "_view_module_version": "1.2.0",
            "_view_name": "LayoutView",
            "align_content": null,
            "align_items": null,
            "align_self": null,
            "border": null,
            "bottom": null,
            "display": null,
            "flex": null,
            "flex_flow": null,
            "grid_area": null,
            "grid_auto_columns": null,
            "grid_auto_flow": null,
            "grid_auto_rows": null,
            "grid_column": null,
            "grid_gap": null,
            "grid_row": null,
            "grid_template_areas": null,
            "grid_template_columns": null,
            "grid_template_rows": null,
            "height": null,
            "justify_content": null,
            "justify_items": null,
            "left": null,
            "margin": null,
            "max_height": null,
            "max_width": null,
            "min_height": null,
            "min_width": null,
            "object_fit": null,
            "object_position": null,
            "order": null,
            "overflow": null,
            "overflow_x": null,
            "overflow_y": null,
            "padding": null,
            "right": null,
            "top": null,
            "visibility": null,
            "width": null
          }
        },
        "be22530db52548069a1dce6a66058e4a": {
          "model_module": "@jupyter-widgets/controls",
          "model_name": "ProgressStyleModel",
          "model_module_version": "1.5.0",
          "state": {
            "_model_module": "@jupyter-widgets/controls",
            "_model_module_version": "1.5.0",
            "_model_name": "ProgressStyleModel",
            "_view_count": null,
            "_view_module": "@jupyter-widgets/base",
            "_view_module_version": "1.2.0",
            "_view_name": "StyleView",
            "bar_color": null,
            "description_width": ""
          }
        },
        "220d957a91e942f08280e086e9f1c5f9": {
          "model_module": "@jupyter-widgets/base",
          "model_name": "LayoutModel",
          "model_module_version": "1.2.0",
          "state": {
            "_model_module": "@jupyter-widgets/base",
            "_model_module_version": "1.2.0",
            "_model_name": "LayoutModel",
            "_view_count": null,
            "_view_module": "@jupyter-widgets/base",
            "_view_module_version": "1.2.0",
            "_view_name": "LayoutView",
            "align_content": null,
            "align_items": null,
            "align_self": null,
            "border": null,
            "bottom": null,
            "display": null,
            "flex": null,
            "flex_flow": null,
            "grid_area": null,
            "grid_auto_columns": null,
            "grid_auto_flow": null,
            "grid_auto_rows": null,
            "grid_column": null,
            "grid_gap": null,
            "grid_row": null,
            "grid_template_areas": null,
            "grid_template_columns": null,
            "grid_template_rows": null,
            "height": null,
            "justify_content": null,
            "justify_items": null,
            "left": null,
            "margin": null,
            "max_height": null,
            "max_width": null,
            "min_height": null,
            "min_width": null,
            "object_fit": null,
            "object_position": null,
            "order": null,
            "overflow": null,
            "overflow_x": null,
            "overflow_y": null,
            "padding": null,
            "right": null,
            "top": null,
            "visibility": null,
            "width": null
          }
        },
        "720723d40beb4ddcb4319c35b424bf9b": {
          "model_module": "@jupyter-widgets/controls",
          "model_name": "DescriptionStyleModel",
          "model_module_version": "1.5.0",
          "state": {
            "_model_module": "@jupyter-widgets/controls",
            "_model_module_version": "1.5.0",
            "_model_name": "DescriptionStyleModel",
            "_view_count": null,
            "_view_module": "@jupyter-widgets/base",
            "_view_module_version": "1.2.0",
            "_view_name": "StyleView",
            "description_width": ""
          }
        },
        "1f9739f089524ae1b2f7a3a0b9edf0d5": {
          "model_module": "@jupyter-widgets/controls",
          "model_name": "HBoxModel",
          "model_module_version": "1.5.0",
          "state": {
            "_dom_classes": [],
            "_model_module": "@jupyter-widgets/controls",
            "_model_module_version": "1.5.0",
            "_model_name": "HBoxModel",
            "_view_count": null,
            "_view_module": "@jupyter-widgets/controls",
            "_view_module_version": "1.5.0",
            "_view_name": "HBoxView",
            "box_style": "",
            "children": [
              "IPY_MODEL_61493272705541538b56ed1e2258b022",
              "IPY_MODEL_6f3e1f185583416986666764d0c3ea04",
              "IPY_MODEL_637b7962b4ca44c491c3f060ebbc3a05"
            ],
            "layout": "IPY_MODEL_54f4e21f90da42fda5f1f71dc1ce9f52"
          }
        },
        "61493272705541538b56ed1e2258b022": {
          "model_module": "@jupyter-widgets/controls",
          "model_name": "HTMLModel",
          "model_module_version": "1.5.0",
          "state": {
            "_dom_classes": [],
            "_model_module": "@jupyter-widgets/controls",
            "_model_module_version": "1.5.0",
            "_model_name": "HTMLModel",
            "_view_count": null,
            "_view_module": "@jupyter-widgets/controls",
            "_view_module_version": "1.5.0",
            "_view_name": "HTMLView",
            "description": "",
            "description_tooltip": null,
            "layout": "IPY_MODEL_22077e1475ba4da4a89ebe1650421625",
            "placeholder": "​",
            "style": "IPY_MODEL_f98b6f773e8246b0b65353e098e9fede",
            "value": "tokenizer.json: 100%"
          }
        },
        "6f3e1f185583416986666764d0c3ea04": {
          "model_module": "@jupyter-widgets/controls",
          "model_name": "FloatProgressModel",
          "model_module_version": "1.5.0",
          "state": {
            "_dom_classes": [],
            "_model_module": "@jupyter-widgets/controls",
            "_model_module_version": "1.5.0",
            "_model_name": "FloatProgressModel",
            "_view_count": null,
            "_view_module": "@jupyter-widgets/controls",
            "_view_module_version": "1.5.0",
            "_view_name": "ProgressView",
            "bar_style": "success",
            "description": "",
            "description_tooltip": null,
            "layout": "IPY_MODEL_633474736912409e8d219eca3ab70266",
            "max": 1961828,
            "min": 0,
            "orientation": "horizontal",
            "style": "IPY_MODEL_77c113a725d4495daeb5af72208a6acf",
            "value": 1961828
          }
        },
        "637b7962b4ca44c491c3f060ebbc3a05": {
          "model_module": "@jupyter-widgets/controls",
          "model_name": "HTMLModel",
          "model_module_version": "1.5.0",
          "state": {
            "_dom_classes": [],
            "_model_module": "@jupyter-widgets/controls",
            "_model_module_version": "1.5.0",
            "_model_name": "HTMLModel",
            "_view_count": null,
            "_view_module": "@jupyter-widgets/controls",
            "_view_module_version": "1.5.0",
            "_view_name": "HTMLView",
            "description": "",
            "description_tooltip": null,
            "layout": "IPY_MODEL_8a16d9e148b0432eab9f9956283d44b9",
            "placeholder": "​",
            "style": "IPY_MODEL_9ef776ca207e4403842b3e9f109e0bb1",
            "value": " 1.96M/1.96M [00:00&lt;00:00, 13.9MB/s]"
          }
        },
        "54f4e21f90da42fda5f1f71dc1ce9f52": {
          "model_module": "@jupyter-widgets/base",
          "model_name": "LayoutModel",
          "model_module_version": "1.2.0",
          "state": {
            "_model_module": "@jupyter-widgets/base",
            "_model_module_version": "1.2.0",
            "_model_name": "LayoutModel",
            "_view_count": null,
            "_view_module": "@jupyter-widgets/base",
            "_view_module_version": "1.2.0",
            "_view_name": "LayoutView",
            "align_content": null,
            "align_items": null,
            "align_self": null,
            "border": null,
            "bottom": null,
            "display": null,
            "flex": null,
            "flex_flow": null,
            "grid_area": null,
            "grid_auto_columns": null,
            "grid_auto_flow": null,
            "grid_auto_rows": null,
            "grid_column": null,
            "grid_gap": null,
            "grid_row": null,
            "grid_template_areas": null,
            "grid_template_columns": null,
            "grid_template_rows": null,
            "height": null,
            "justify_content": null,
            "justify_items": null,
            "left": null,
            "margin": null,
            "max_height": null,
            "max_width": null,
            "min_height": null,
            "min_width": null,
            "object_fit": null,
            "object_position": null,
            "order": null,
            "overflow": null,
            "overflow_x": null,
            "overflow_y": null,
            "padding": null,
            "right": null,
            "top": null,
            "visibility": null,
            "width": null
          }
        },
        "22077e1475ba4da4a89ebe1650421625": {
          "model_module": "@jupyter-widgets/base",
          "model_name": "LayoutModel",
          "model_module_version": "1.2.0",
          "state": {
            "_model_module": "@jupyter-widgets/base",
            "_model_module_version": "1.2.0",
            "_model_name": "LayoutModel",
            "_view_count": null,
            "_view_module": "@jupyter-widgets/base",
            "_view_module_version": "1.2.0",
            "_view_name": "LayoutView",
            "align_content": null,
            "align_items": null,
            "align_self": null,
            "border": null,
            "bottom": null,
            "display": null,
            "flex": null,
            "flex_flow": null,
            "grid_area": null,
            "grid_auto_columns": null,
            "grid_auto_flow": null,
            "grid_auto_rows": null,
            "grid_column": null,
            "grid_gap": null,
            "grid_row": null,
            "grid_template_areas": null,
            "grid_template_columns": null,
            "grid_template_rows": null,
            "height": null,
            "justify_content": null,
            "justify_items": null,
            "left": null,
            "margin": null,
            "max_height": null,
            "max_width": null,
            "min_height": null,
            "min_width": null,
            "object_fit": null,
            "object_position": null,
            "order": null,
            "overflow": null,
            "overflow_x": null,
            "overflow_y": null,
            "padding": null,
            "right": null,
            "top": null,
            "visibility": null,
            "width": null
          }
        },
        "f98b6f773e8246b0b65353e098e9fede": {
          "model_module": "@jupyter-widgets/controls",
          "model_name": "DescriptionStyleModel",
          "model_module_version": "1.5.0",
          "state": {
            "_model_module": "@jupyter-widgets/controls",
            "_model_module_version": "1.5.0",
            "_model_name": "DescriptionStyleModel",
            "_view_count": null,
            "_view_module": "@jupyter-widgets/base",
            "_view_module_version": "1.2.0",
            "_view_name": "StyleView",
            "description_width": ""
          }
        },
        "633474736912409e8d219eca3ab70266": {
          "model_module": "@jupyter-widgets/base",
          "model_name": "LayoutModel",
          "model_module_version": "1.2.0",
          "state": {
            "_model_module": "@jupyter-widgets/base",
            "_model_module_version": "1.2.0",
            "_model_name": "LayoutModel",
            "_view_count": null,
            "_view_module": "@jupyter-widgets/base",
            "_view_module_version": "1.2.0",
            "_view_name": "LayoutView",
            "align_content": null,
            "align_items": null,
            "align_self": null,
            "border": null,
            "bottom": null,
            "display": null,
            "flex": null,
            "flex_flow": null,
            "grid_area": null,
            "grid_auto_columns": null,
            "grid_auto_flow": null,
            "grid_auto_rows": null,
            "grid_column": null,
            "grid_gap": null,
            "grid_row": null,
            "grid_template_areas": null,
            "grid_template_columns": null,
            "grid_template_rows": null,
            "height": null,
            "justify_content": null,
            "justify_items": null,
            "left": null,
            "margin": null,
            "max_height": null,
            "max_width": null,
            "min_height": null,
            "min_width": null,
            "object_fit": null,
            "object_position": null,
            "order": null,
            "overflow": null,
            "overflow_x": null,
            "overflow_y": null,
            "padding": null,
            "right": null,
            "top": null,
            "visibility": null,
            "width": null
          }
        },
        "77c113a725d4495daeb5af72208a6acf": {
          "model_module": "@jupyter-widgets/controls",
          "model_name": "ProgressStyleModel",
          "model_module_version": "1.5.0",
          "state": {
            "_model_module": "@jupyter-widgets/controls",
            "_model_module_version": "1.5.0",
            "_model_name": "ProgressStyleModel",
            "_view_count": null,
            "_view_module": "@jupyter-widgets/base",
            "_view_module_version": "1.2.0",
            "_view_name": "StyleView",
            "bar_color": null,
            "description_width": ""
          }
        },
        "8a16d9e148b0432eab9f9956283d44b9": {
          "model_module": "@jupyter-widgets/base",
          "model_name": "LayoutModel",
          "model_module_version": "1.2.0",
          "state": {
            "_model_module": "@jupyter-widgets/base",
            "_model_module_version": "1.2.0",
            "_model_name": "LayoutModel",
            "_view_count": null,
            "_view_module": "@jupyter-widgets/base",
            "_view_module_version": "1.2.0",
            "_view_name": "LayoutView",
            "align_content": null,
            "align_items": null,
            "align_self": null,
            "border": null,
            "bottom": null,
            "display": null,
            "flex": null,
            "flex_flow": null,
            "grid_area": null,
            "grid_auto_columns": null,
            "grid_auto_flow": null,
            "grid_auto_rows": null,
            "grid_column": null,
            "grid_gap": null,
            "grid_row": null,
            "grid_template_areas": null,
            "grid_template_columns": null,
            "grid_template_rows": null,
            "height": null,
            "justify_content": null,
            "justify_items": null,
            "left": null,
            "margin": null,
            "max_height": null,
            "max_width": null,
            "min_height": null,
            "min_width": null,
            "object_fit": null,
            "object_position": null,
            "order": null,
            "overflow": null,
            "overflow_x": null,
            "overflow_y": null,
            "padding": null,
            "right": null,
            "top": null,
            "visibility": null,
            "width": null
          }
        },
        "9ef776ca207e4403842b3e9f109e0bb1": {
          "model_module": "@jupyter-widgets/controls",
          "model_name": "DescriptionStyleModel",
          "model_module_version": "1.5.0",
          "state": {
            "_model_module": "@jupyter-widgets/controls",
            "_model_module_version": "1.5.0",
            "_model_name": "DescriptionStyleModel",
            "_view_count": null,
            "_view_module": "@jupyter-widgets/base",
            "_view_module_version": "1.2.0",
            "_view_name": "StyleView",
            "description_width": ""
          }
        },
        "4dc4b5369bd64d94b4baf1bbd475e84f": {
          "model_module": "@jupyter-widgets/controls",
          "model_name": "HBoxModel",
          "model_module_version": "1.5.0",
          "state": {
            "_dom_classes": [],
            "_model_module": "@jupyter-widgets/controls",
            "_model_module_version": "1.5.0",
            "_model_name": "HBoxModel",
            "_view_count": null,
            "_view_module": "@jupyter-widgets/controls",
            "_view_module_version": "1.5.0",
            "_view_name": "HBoxView",
            "box_style": "",
            "children": [
              "IPY_MODEL_adeb87af6dda42ec913b5b02d62129c5",
              "IPY_MODEL_ed47ccbe76dc453888d829bd5f9f34a6",
              "IPY_MODEL_3b7188cdb4124708ae7ae4b38a6e2cef"
            ],
            "layout": "IPY_MODEL_dc71328512224992ac4f09ed825505cc"
          }
        },
        "adeb87af6dda42ec913b5b02d62129c5": {
          "model_module": "@jupyter-widgets/controls",
          "model_name": "HTMLModel",
          "model_module_version": "1.5.0",
          "state": {
            "_dom_classes": [],
            "_model_module": "@jupyter-widgets/controls",
            "_model_module_version": "1.5.0",
            "_model_name": "HTMLModel",
            "_view_count": null,
            "_view_module": "@jupyter-widgets/controls",
            "_view_module_version": "1.5.0",
            "_view_name": "HTMLView",
            "description": "",
            "description_tooltip": null,
            "layout": "IPY_MODEL_18c118089eef484f8bd028ae2371448e",
            "placeholder": "​",
            "style": "IPY_MODEL_db0524004b394413b51be77c74ce1a31",
            "value": "config.json: 100%"
          }
        },
        "ed47ccbe76dc453888d829bd5f9f34a6": {
          "model_module": "@jupyter-widgets/controls",
          "model_name": "FloatProgressModel",
          "model_module_version": "1.5.0",
          "state": {
            "_dom_classes": [],
            "_model_module": "@jupyter-widgets/controls",
            "_model_module_version": "1.5.0",
            "_model_name": "FloatProgressModel",
            "_view_count": null,
            "_view_module": "@jupyter-widgets/controls",
            "_view_module_version": "1.5.0",
            "_view_name": "ProgressView",
            "bar_style": "success",
            "description": "",
            "description_tooltip": null,
            "layout": "IPY_MODEL_bcb26ea1b8544cacbd795f3fc02922eb",
            "max": 625,
            "min": 0,
            "orientation": "horizontal",
            "style": "IPY_MODEL_7ec1e5b62ede4437ae352424fd2f2391",
            "value": 625
          }
        },
        "3b7188cdb4124708ae7ae4b38a6e2cef": {
          "model_module": "@jupyter-widgets/controls",
          "model_name": "HTMLModel",
          "model_module_version": "1.5.0",
          "state": {
            "_dom_classes": [],
            "_model_module": "@jupyter-widgets/controls",
            "_model_module_version": "1.5.0",
            "_model_name": "HTMLModel",
            "_view_count": null,
            "_view_module": "@jupyter-widgets/controls",
            "_view_module_version": "1.5.0",
            "_view_name": "HTMLView",
            "description": "",
            "description_tooltip": null,
            "layout": "IPY_MODEL_0f92fce640ad45b7a9a3366781568241",
            "placeholder": "​",
            "style": "IPY_MODEL_b01c0494bca145a88856b17494b03934",
            "value": " 625/625 [00:00&lt;00:00, 27.6kB/s]"
          }
        },
        "dc71328512224992ac4f09ed825505cc": {
          "model_module": "@jupyter-widgets/base",
          "model_name": "LayoutModel",
          "model_module_version": "1.2.0",
          "state": {
            "_model_module": "@jupyter-widgets/base",
            "_model_module_version": "1.2.0",
            "_model_name": "LayoutModel",
            "_view_count": null,
            "_view_module": "@jupyter-widgets/base",
            "_view_module_version": "1.2.0",
            "_view_name": "LayoutView",
            "align_content": null,
            "align_items": null,
            "align_self": null,
            "border": null,
            "bottom": null,
            "display": null,
            "flex": null,
            "flex_flow": null,
            "grid_area": null,
            "grid_auto_columns": null,
            "grid_auto_flow": null,
            "grid_auto_rows": null,
            "grid_column": null,
            "grid_gap": null,
            "grid_row": null,
            "grid_template_areas": null,
            "grid_template_columns": null,
            "grid_template_rows": null,
            "height": null,
            "justify_content": null,
            "justify_items": null,
            "left": null,
            "margin": null,
            "max_height": null,
            "max_width": null,
            "min_height": null,
            "min_width": null,
            "object_fit": null,
            "object_position": null,
            "order": null,
            "overflow": null,
            "overflow_x": null,
            "overflow_y": null,
            "padding": null,
            "right": null,
            "top": null,
            "visibility": null,
            "width": null
          }
        },
        "18c118089eef484f8bd028ae2371448e": {
          "model_module": "@jupyter-widgets/base",
          "model_name": "LayoutModel",
          "model_module_version": "1.2.0",
          "state": {
            "_model_module": "@jupyter-widgets/base",
            "_model_module_version": "1.2.0",
            "_model_name": "LayoutModel",
            "_view_count": null,
            "_view_module": "@jupyter-widgets/base",
            "_view_module_version": "1.2.0",
            "_view_name": "LayoutView",
            "align_content": null,
            "align_items": null,
            "align_self": null,
            "border": null,
            "bottom": null,
            "display": null,
            "flex": null,
            "flex_flow": null,
            "grid_area": null,
            "grid_auto_columns": null,
            "grid_auto_flow": null,
            "grid_auto_rows": null,
            "grid_column": null,
            "grid_gap": null,
            "grid_row": null,
            "grid_template_areas": null,
            "grid_template_columns": null,
            "grid_template_rows": null,
            "height": null,
            "justify_content": null,
            "justify_items": null,
            "left": null,
            "margin": null,
            "max_height": null,
            "max_width": null,
            "min_height": null,
            "min_width": null,
            "object_fit": null,
            "object_position": null,
            "order": null,
            "overflow": null,
            "overflow_x": null,
            "overflow_y": null,
            "padding": null,
            "right": null,
            "top": null,
            "visibility": null,
            "width": null
          }
        },
        "db0524004b394413b51be77c74ce1a31": {
          "model_module": "@jupyter-widgets/controls",
          "model_name": "DescriptionStyleModel",
          "model_module_version": "1.5.0",
          "state": {
            "_model_module": "@jupyter-widgets/controls",
            "_model_module_version": "1.5.0",
            "_model_name": "DescriptionStyleModel",
            "_view_count": null,
            "_view_module": "@jupyter-widgets/base",
            "_view_module_version": "1.2.0",
            "_view_name": "StyleView",
            "description_width": ""
          }
        },
        "bcb26ea1b8544cacbd795f3fc02922eb": {
          "model_module": "@jupyter-widgets/base",
          "model_name": "LayoutModel",
          "model_module_version": "1.2.0",
          "state": {
            "_model_module": "@jupyter-widgets/base",
            "_model_module_version": "1.2.0",
            "_model_name": "LayoutModel",
            "_view_count": null,
            "_view_module": "@jupyter-widgets/base",
            "_view_module_version": "1.2.0",
            "_view_name": "LayoutView",
            "align_content": null,
            "align_items": null,
            "align_self": null,
            "border": null,
            "bottom": null,
            "display": null,
            "flex": null,
            "flex_flow": null,
            "grid_area": null,
            "grid_auto_columns": null,
            "grid_auto_flow": null,
            "grid_auto_rows": null,
            "grid_column": null,
            "grid_gap": null,
            "grid_row": null,
            "grid_template_areas": null,
            "grid_template_columns": null,
            "grid_template_rows": null,
            "height": null,
            "justify_content": null,
            "justify_items": null,
            "left": null,
            "margin": null,
            "max_height": null,
            "max_width": null,
            "min_height": null,
            "min_width": null,
            "object_fit": null,
            "object_position": null,
            "order": null,
            "overflow": null,
            "overflow_x": null,
            "overflow_y": null,
            "padding": null,
            "right": null,
            "top": null,
            "visibility": null,
            "width": null
          }
        },
        "7ec1e5b62ede4437ae352424fd2f2391": {
          "model_module": "@jupyter-widgets/controls",
          "model_name": "ProgressStyleModel",
          "model_module_version": "1.5.0",
          "state": {
            "_model_module": "@jupyter-widgets/controls",
            "_model_module_version": "1.5.0",
            "_model_name": "ProgressStyleModel",
            "_view_count": null,
            "_view_module": "@jupyter-widgets/base",
            "_view_module_version": "1.2.0",
            "_view_name": "StyleView",
            "bar_color": null,
            "description_width": ""
          }
        },
        "0f92fce640ad45b7a9a3366781568241": {
          "model_module": "@jupyter-widgets/base",
          "model_name": "LayoutModel",
          "model_module_version": "1.2.0",
          "state": {
            "_model_module": "@jupyter-widgets/base",
            "_model_module_version": "1.2.0",
            "_model_name": "LayoutModel",
            "_view_count": null,
            "_view_module": "@jupyter-widgets/base",
            "_view_module_version": "1.2.0",
            "_view_name": "LayoutView",
            "align_content": null,
            "align_items": null,
            "align_self": null,
            "border": null,
            "bottom": null,
            "display": null,
            "flex": null,
            "flex_flow": null,
            "grid_area": null,
            "grid_auto_columns": null,
            "grid_auto_flow": null,
            "grid_auto_rows": null,
            "grid_column": null,
            "grid_gap": null,
            "grid_row": null,
            "grid_template_areas": null,
            "grid_template_columns": null,
            "grid_template_rows": null,
            "height": null,
            "justify_content": null,
            "justify_items": null,
            "left": null,
            "margin": null,
            "max_height": null,
            "max_width": null,
            "min_height": null,
            "min_width": null,
            "object_fit": null,
            "object_position": null,
            "order": null,
            "overflow": null,
            "overflow_x": null,
            "overflow_y": null,
            "padding": null,
            "right": null,
            "top": null,
            "visibility": null,
            "width": null
          }
        },
        "b01c0494bca145a88856b17494b03934": {
          "model_module": "@jupyter-widgets/controls",
          "model_name": "DescriptionStyleModel",
          "model_module_version": "1.5.0",
          "state": {
            "_model_module": "@jupyter-widgets/controls",
            "_model_module_version": "1.5.0",
            "_model_name": "DescriptionStyleModel",
            "_view_count": null,
            "_view_module": "@jupyter-widgets/base",
            "_view_module_version": "1.2.0",
            "_view_name": "StyleView",
            "description_width": ""
          }
        },
        "3dab247c76fa4cdbb3967053d9a45fa9": {
          "model_module": "@jupyter-widgets/controls",
          "model_name": "HBoxModel",
          "model_module_version": "1.5.0",
          "state": {
            "_dom_classes": [],
            "_model_module": "@jupyter-widgets/controls",
            "_model_module_version": "1.5.0",
            "_model_name": "HBoxModel",
            "_view_count": null,
            "_view_module": "@jupyter-widgets/controls",
            "_view_module_version": "1.5.0",
            "_view_name": "HBoxView",
            "box_style": "",
            "children": [
              "IPY_MODEL_d92b0228070e44129c33b07133b02f23",
              "IPY_MODEL_8904a9c76117455885d4a86377599ebf",
              "IPY_MODEL_71a16d2cf78646b09bc951c8c107103c"
            ],
            "layout": "IPY_MODEL_dd89942a1e894ce7ac1232feafb3d19f"
          }
        },
        "d92b0228070e44129c33b07133b02f23": {
          "model_module": "@jupyter-widgets/controls",
          "model_name": "HTMLModel",
          "model_module_version": "1.5.0",
          "state": {
            "_dom_classes": [],
            "_model_module": "@jupyter-widgets/controls",
            "_model_module_version": "1.5.0",
            "_model_name": "HTMLModel",
            "_view_count": null,
            "_view_module": "@jupyter-widgets/controls",
            "_view_module_version": "1.5.0",
            "_view_name": "HTMLView",
            "description": "",
            "description_tooltip": null,
            "layout": "IPY_MODEL_89a513bcee084c12b4d41eeac03cb497",
            "placeholder": "​",
            "style": "IPY_MODEL_ca2731a9e50a46adaafeb4557c523d59",
            "value": "model.safetensors: 100%"
          }
        },
        "8904a9c76117455885d4a86377599ebf": {
          "model_module": "@jupyter-widgets/controls",
          "model_name": "FloatProgressModel",
          "model_module_version": "1.5.0",
          "state": {
            "_dom_classes": [],
            "_model_module": "@jupyter-widgets/controls",
            "_model_module_version": "1.5.0",
            "_model_name": "FloatProgressModel",
            "_view_count": null,
            "_view_module": "@jupyter-widgets/controls",
            "_view_module_version": "1.5.0",
            "_view_name": "ProgressView",
            "bar_style": "success",
            "description": "",
            "description_tooltip": null,
            "layout": "IPY_MODEL_15a4af95f90d43ecbe3d556142cbef54",
            "max": 714290682,
            "min": 0,
            "orientation": "horizontal",
            "style": "IPY_MODEL_a59e6e7b52544dadadffff4b00d142bf",
            "value": 714290682
          }
        },
        "71a16d2cf78646b09bc951c8c107103c": {
          "model_module": "@jupyter-widgets/controls",
          "model_name": "HTMLModel",
          "model_module_version": "1.5.0",
          "state": {
            "_dom_classes": [],
            "_model_module": "@jupyter-widgets/controls",
            "_model_module_version": "1.5.0",
            "_model_name": "HTMLModel",
            "_view_count": null,
            "_view_module": "@jupyter-widgets/controls",
            "_view_module_version": "1.5.0",
            "_view_name": "HTMLView",
            "description": "",
            "description_tooltip": null,
            "layout": "IPY_MODEL_fb328e64a79b47e29c8023e800ab3d28",
            "placeholder": "​",
            "style": "IPY_MODEL_6d0a6265d0f94413b321c2466829bc3a",
            "value": " 714M/714M [00:27&lt;00:00, 35.3MB/s]"
          }
        },
        "dd89942a1e894ce7ac1232feafb3d19f": {
          "model_module": "@jupyter-widgets/base",
          "model_name": "LayoutModel",
          "model_module_version": "1.2.0",
          "state": {
            "_model_module": "@jupyter-widgets/base",
            "_model_module_version": "1.2.0",
            "_model_name": "LayoutModel",
            "_view_count": null,
            "_view_module": "@jupyter-widgets/base",
            "_view_module_version": "1.2.0",
            "_view_name": "LayoutView",
            "align_content": null,
            "align_items": null,
            "align_self": null,
            "border": null,
            "bottom": null,
            "display": null,
            "flex": null,
            "flex_flow": null,
            "grid_area": null,
            "grid_auto_columns": null,
            "grid_auto_flow": null,
            "grid_auto_rows": null,
            "grid_column": null,
            "grid_gap": null,
            "grid_row": null,
            "grid_template_areas": null,
            "grid_template_columns": null,
            "grid_template_rows": null,
            "height": null,
            "justify_content": null,
            "justify_items": null,
            "left": null,
            "margin": null,
            "max_height": null,
            "max_width": null,
            "min_height": null,
            "min_width": null,
            "object_fit": null,
            "object_position": null,
            "order": null,
            "overflow": null,
            "overflow_x": null,
            "overflow_y": null,
            "padding": null,
            "right": null,
            "top": null,
            "visibility": null,
            "width": null
          }
        },
        "89a513bcee084c12b4d41eeac03cb497": {
          "model_module": "@jupyter-widgets/base",
          "model_name": "LayoutModel",
          "model_module_version": "1.2.0",
          "state": {
            "_model_module": "@jupyter-widgets/base",
            "_model_module_version": "1.2.0",
            "_model_name": "LayoutModel",
            "_view_count": null,
            "_view_module": "@jupyter-widgets/base",
            "_view_module_version": "1.2.0",
            "_view_name": "LayoutView",
            "align_content": null,
            "align_items": null,
            "align_self": null,
            "border": null,
            "bottom": null,
            "display": null,
            "flex": null,
            "flex_flow": null,
            "grid_area": null,
            "grid_auto_columns": null,
            "grid_auto_flow": null,
            "grid_auto_rows": null,
            "grid_column": null,
            "grid_gap": null,
            "grid_row": null,
            "grid_template_areas": null,
            "grid_template_columns": null,
            "grid_template_rows": null,
            "height": null,
            "justify_content": null,
            "justify_items": null,
            "left": null,
            "margin": null,
            "max_height": null,
            "max_width": null,
            "min_height": null,
            "min_width": null,
            "object_fit": null,
            "object_position": null,
            "order": null,
            "overflow": null,
            "overflow_x": null,
            "overflow_y": null,
            "padding": null,
            "right": null,
            "top": null,
            "visibility": null,
            "width": null
          }
        },
        "ca2731a9e50a46adaafeb4557c523d59": {
          "model_module": "@jupyter-widgets/controls",
          "model_name": "DescriptionStyleModel",
          "model_module_version": "1.5.0",
          "state": {
            "_model_module": "@jupyter-widgets/controls",
            "_model_module_version": "1.5.0",
            "_model_name": "DescriptionStyleModel",
            "_view_count": null,
            "_view_module": "@jupyter-widgets/base",
            "_view_module_version": "1.2.0",
            "_view_name": "StyleView",
            "description_width": ""
          }
        },
        "15a4af95f90d43ecbe3d556142cbef54": {
          "model_module": "@jupyter-widgets/base",
          "model_name": "LayoutModel",
          "model_module_version": "1.2.0",
          "state": {
            "_model_module": "@jupyter-widgets/base",
            "_model_module_version": "1.2.0",
            "_model_name": "LayoutModel",
            "_view_count": null,
            "_view_module": "@jupyter-widgets/base",
            "_view_module_version": "1.2.0",
            "_view_name": "LayoutView",
            "align_content": null,
            "align_items": null,
            "align_self": null,
            "border": null,
            "bottom": null,
            "display": null,
            "flex": null,
            "flex_flow": null,
            "grid_area": null,
            "grid_auto_columns": null,
            "grid_auto_flow": null,
            "grid_auto_rows": null,
            "grid_column": null,
            "grid_gap": null,
            "grid_row": null,
            "grid_template_areas": null,
            "grid_template_columns": null,
            "grid_template_rows": null,
            "height": null,
            "justify_content": null,
            "justify_items": null,
            "left": null,
            "margin": null,
            "max_height": null,
            "max_width": null,
            "min_height": null,
            "min_width": null,
            "object_fit": null,
            "object_position": null,
            "order": null,
            "overflow": null,
            "overflow_x": null,
            "overflow_y": null,
            "padding": null,
            "right": null,
            "top": null,
            "visibility": null,
            "width": null
          }
        },
        "a59e6e7b52544dadadffff4b00d142bf": {
          "model_module": "@jupyter-widgets/controls",
          "model_name": "ProgressStyleModel",
          "model_module_version": "1.5.0",
          "state": {
            "_model_module": "@jupyter-widgets/controls",
            "_model_module_version": "1.5.0",
            "_model_name": "ProgressStyleModel",
            "_view_count": null,
            "_view_module": "@jupyter-widgets/base",
            "_view_module_version": "1.2.0",
            "_view_name": "StyleView",
            "bar_color": null,
            "description_width": ""
          }
        },
        "fb328e64a79b47e29c8023e800ab3d28": {
          "model_module": "@jupyter-widgets/base",
          "model_name": "LayoutModel",
          "model_module_version": "1.2.0",
          "state": {
            "_model_module": "@jupyter-widgets/base",
            "_model_module_version": "1.2.0",
            "_model_name": "LayoutModel",
            "_view_count": null,
            "_view_module": "@jupyter-widgets/base",
            "_view_module_version": "1.2.0",
            "_view_name": "LayoutView",
            "align_content": null,
            "align_items": null,
            "align_self": null,
            "border": null,
            "bottom": null,
            "display": null,
            "flex": null,
            "flex_flow": null,
            "grid_area": null,
            "grid_auto_columns": null,
            "grid_auto_flow": null,
            "grid_auto_rows": null,
            "grid_column": null,
            "grid_gap": null,
            "grid_row": null,
            "grid_template_areas": null,
            "grid_template_columns": null,
            "grid_template_rows": null,
            "height": null,
            "justify_content": null,
            "justify_items": null,
            "left": null,
            "margin": null,
            "max_height": null,
            "max_width": null,
            "min_height": null,
            "min_width": null,
            "object_fit": null,
            "object_position": null,
            "order": null,
            "overflow": null,
            "overflow_x": null,
            "overflow_y": null,
            "padding": null,
            "right": null,
            "top": null,
            "visibility": null,
            "width": null
          }
        },
        "6d0a6265d0f94413b321c2466829bc3a": {
          "model_module": "@jupyter-widgets/controls",
          "model_name": "DescriptionStyleModel",
          "model_module_version": "1.5.0",
          "state": {
            "_model_module": "@jupyter-widgets/controls",
            "_model_module_version": "1.5.0",
            "_model_name": "DescriptionStyleModel",
            "_view_count": null,
            "_view_module": "@jupyter-widgets/base",
            "_view_module_version": "1.2.0",
            "_view_name": "StyleView",
            "description_width": ""
          }
        }
      }
    }
  },
  "cells": [
    {
      "cell_type": "markdown",
      "source": [
        "# **Извлечение признаков**"
      ],
      "metadata": {
        "id": "YTJXoh3kLIXJ"
      }
    },
    {
      "cell_type": "markdown",
      "source": [
        "# Архитектура систем классификации"
      ],
      "metadata": {
        "id": "muAWiF1Qv7iy"
      }
    },
    {
      "cell_type": "markdown",
      "source": [
        "![image.png](data:image/png;base64,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)"
      ],
      "metadata": {
        "id": "lLTfe0iPrPNV"
      }
    },
    {
      "cell_type": "code",
      "source": [
        "from google.colab import drive\n",
        "drive.mount('/content/drive')"
      ],
      "metadata": {
        "colab": {
          "base_uri": "https://localhost:8080/"
        },
        "id": "_erqqTJAtu5z",
        "outputId": "404423d1-9be5-4fc7-9167-1cbc6d7fd5c5"
      },
      "execution_count": 1,
      "outputs": [
        {
          "output_type": "stream",
          "name": "stdout",
          "text": [
            "Mounted at /content/drive\n"
          ]
        }
      ]
    },
    {
      "cell_type": "code",
      "source": [
        "import numpy as np"
      ],
      "metadata": {
        "id": "lzY8PmsvI6AN"
      },
      "execution_count": 2,
      "outputs": []
    },
    {
      "cell_type": "markdown",
      "source": [
        "# Мешок слов (Bag of Words, BoW)"
      ],
      "metadata": {
        "id": "mGzRu5rLI6kT"
      }
    },
    {
      "cell_type": "code",
      "source": [
        "from sklearn.feature_extraction.text import CountVectorizer"
      ],
      "metadata": {
        "id": "RTgfYozKJVT0"
      },
      "execution_count": 3,
      "outputs": []
    },
    {
      "cell_type": "code",
      "source": [
        "#корпус предобработанных текстов\n",
        "Db = ['Вася любить кот',\n",
        "      'Кот жить улица',\n",
        "      'Кот любить рыба']"
      ],
      "metadata": {
        "id": "aivWwtQzDRuA"
      },
      "execution_count": 4,
      "outputs": []
    },
    {
      "cell_type": "code",
      "source": [
        "#векторизуем сразу весь корпус\n",
        "vectorizer = CountVectorizer()\n",
        "X = vectorizer.fit_transform(Db).toarray()\n",
        "X"
      ],
      "metadata": {
        "colab": {
          "base_uri": "https://localhost:8080/"
        },
        "id": "LEX05o-0Jzq5",
        "outputId": "134e2f3b-9a07-4c19-ce45-7bca5e8c2b51"
      },
      "execution_count": 5,
      "outputs": [
        {
          "output_type": "execute_result",
          "data": {
            "text/plain": [
              "array([[1, 0, 1, 1, 0, 0],\n",
              "       [0, 1, 1, 0, 0, 1],\n",
              "       [0, 0, 1, 1, 1, 0]])"
            ]
          },
          "metadata": {},
          "execution_count": 5
        }
      ]
    },
    {
      "cell_type": "code",
      "source": [
        "vectorizer.get_feature_names_out()"
      ],
      "metadata": {
        "colab": {
          "base_uri": "https://localhost:8080/"
        },
        "id": "uRDhTT_qJjPa",
        "outputId": "0a4eb5fd-b01a-409c-dbe0-da486f82cf81"
      },
      "execution_count": 12,
      "outputs": [
        {
          "output_type": "execute_result",
          "data": {
            "text/plain": [
              "array(['вася', 'жить', 'кот', 'любить', 'рыба', 'улица'], dtype=object)"
            ]
          },
          "metadata": {},
          "execution_count": 12
        }
      ]
    },
    {
      "cell_type": "code",
      "source": [
        "#в предобученный векторизатор подаем новый текст\n",
        "vectorizer.transform(['кот','собака']).toarray()"
      ],
      "metadata": {
        "colab": {
          "base_uri": "https://localhost:8080/"
        },
        "id": "tw-Wihwe0BMf",
        "outputId": "e1bff140-ebf0-4fe7-9af5-e470f29a32df"
      },
      "execution_count": 6,
      "outputs": [
        {
          "output_type": "execute_result",
          "data": {
            "text/plain": [
              "array([[0, 0, 1, 0, 0, 0],\n",
              "       [0, 0, 0, 0, 0, 0]])"
            ]
          },
          "metadata": {},
          "execution_count": 6
        }
      ]
    },
    {
      "cell_type": "markdown",
      "source": [
        "# Сохранение предобученных моделей"
      ],
      "metadata": {
        "id": "gq0rSlfFrXHL"
      }
    },
    {
      "cell_type": "code",
      "source": [
        "import joblib"
      ],
      "metadata": {
        "id": "vdyk9Ej7rbr6"
      },
      "execution_count": 7,
      "outputs": []
    },
    {
      "cell_type": "code",
      "source": [
        "#сохранение предобученных моделей sklearn\n",
        "joblib.dump(vectorizer, '/content/drive/MyDrive/BoW_pretrained.joblib')"
      ],
      "metadata": {
        "colab": {
          "base_uri": "https://localhost:8080/"
        },
        "id": "X5EfDwZUrdob",
        "outputId": "aeba3dfc-1dea-4b73-b0f4-fd0d90b5efab"
      },
      "execution_count": 8,
      "outputs": [
        {
          "output_type": "execute_result",
          "data": {
            "text/plain": [
              "['/content/drive/MyDrive/BoW_pretrained.joblib']"
            ]
          },
          "metadata": {},
          "execution_count": 8
        }
      ]
    },
    {
      "cell_type": "code",
      "source": [
        "#загрузка предобученных моделей\n",
        "BoW_pretrained = joblib.load('/content/drive/MyDrive/BoW_pretrained.joblib')"
      ],
      "metadata": {
        "id": "KUOkNmnBuj5a"
      },
      "execution_count": 9,
      "outputs": []
    },
    {
      "cell_type": "code",
      "source": [
        "#проверка, что загруженная модель работает\n",
        "BoW_pretrained.transform(['кот','собака']).toarray()"
      ],
      "metadata": {
        "colab": {
          "base_uri": "https://localhost:8080/"
        },
        "id": "vHWC6W09u4cR",
        "outputId": "9c571770-44ab-4d0f-8c11-acee4536bb07"
      },
      "execution_count": 10,
      "outputs": [
        {
          "output_type": "execute_result",
          "data": {
            "text/plain": [
              "array([[0, 0, 1, 0, 0, 0],\n",
              "       [0, 0, 0, 0, 0, 0]])"
            ]
          },
          "metadata": {},
          "execution_count": 10
        }
      ]
    },
    {
      "cell_type": "markdown",
      "source": [
        "# TF-IDF"
      ],
      "metadata": {
        "id": "q15LHy18KQXs"
      }
    },
    {
      "cell_type": "code",
      "source": [
        "from sklearn.feature_extraction.text import TfidfVectorizer"
      ],
      "metadata": {
        "id": "BsW2qRSNKVdS"
      },
      "execution_count": null,
      "outputs": []
    },
    {
      "cell_type": "code",
      "source": [
        "Db = ['Вася любит кот',\n",
        "      'Кот жить улица',\n",
        "      'Кот любить рыба']"
      ],
      "metadata": {
        "id": "47lPDfSzKVdS"
      },
      "execution_count": null,
      "outputs": []
    },
    {
      "cell_type": "code",
      "source": [
        "vectorizer = TfidfVectorizer()\n",
        "X = vectorizer.fit_transform(Db).toarray()\n",
        "X"
      ],
      "metadata": {
        "colab": {
          "base_uri": "https://localhost:8080/"
        },
        "outputId": "7a9017c6-38ec-4a60-abd4-457cae059f74",
        "id": "XHxMD1GDKVdS"
      },
      "execution_count": null,
      "outputs": [
        {
          "output_type": "execute_result",
          "data": {
            "text/plain": [
              "array([[0.65249088, 0.        , 0.38537163, 0.65249088, 0.        ,\n",
              "        0.        , 0.        ],\n",
              "       [0.        , 0.65249088, 0.38537163, 0.        , 0.        ,\n",
              "        0.        , 0.65249088],\n",
              "       [0.        , 0.        , 0.38537163, 0.        , 0.65249088,\n",
              "        0.65249088, 0.        ]])"
            ]
          },
          "metadata": {},
          "execution_count": 13
        }
      ]
    },
    {
      "cell_type": "markdown",
      "source": [
        "# Word2Vec"
      ],
      "metadata": {
        "id": "F3W02uLopcDC"
      }
    },
    {
      "cell_type": "code",
      "source": [
        "#установка библиотеки\n",
        "!pip install gensim > None"
      ],
      "metadata": {
        "colab": {
          "base_uri": "https://localhost:8080/"
        },
        "id": "VHfYjdyfoZeq",
        "outputId": "992c06e4-39a6-4801-edfd-d8dee630523c"
      },
      "execution_count": 13,
      "outputs": [
        {
          "output_type": "stream",
          "name": "stdout",
          "text": [
            "\u001b[31mERROR: pip's dependency resolver does not currently take into account all the packages that are installed. This behaviour is the source of the following dependency conflicts.\n",
            "opencv-python 4.12.0.88 requires numpy<2.3.0,>=2; python_version >= \"3.9\", but you have numpy 1.26.4 which is incompatible.\n",
            "tsfresh 0.21.1 requires scipy>=1.14.0; python_version >= \"3.10\", but you have scipy 1.13.1 which is incompatible.\n",
            "opencv-python-headless 4.12.0.88 requires numpy<2.3.0,>=2; python_version >= \"3.9\", but you have numpy 1.26.4 which is incompatible.\n",
            "opencv-contrib-python 4.12.0.88 requires numpy<2.3.0,>=2; python_version >= \"3.9\", but you have numpy 1.26.4 which is incompatible.\n",
            "thinc 8.3.6 requires numpy<3.0.0,>=2.0.0, but you have numpy 1.26.4 which is incompatible.\u001b[0m\u001b[31m\n",
            "\u001b[0m"
          ]
        }
      ]
    },
    {
      "cell_type": "code",
      "source": [
        "#принудительная перезагрузка среды выполнения. После перезагрузки нужно запускать только последующий код\n",
        "import os\n",
        "os.kill(os.getpid(), 9)"
      ],
      "metadata": {
        "id": "GNFxdyQqwQXQ"
      },
      "execution_count": null,
      "outputs": []
    },
    {
      "cell_type": "code",
      "source": [
        "import gensim.downloader as api\n",
        "import numpy as np"
      ],
      "metadata": {
        "id": "oE-YJw52KAlk"
      },
      "execution_count": 1,
      "outputs": []
    },
    {
      "cell_type": "markdown",
      "source": [
        "## Предобученный W2V"
      ],
      "metadata": {
        "id": "mUVqEqKMzYVn"
      }
    },
    {
      "cell_type": "markdown",
      "source": [
        "word2vec-ruscorpora-300 - word2vec обученный на Russian National Corpus (~ 250M слов), SkipGram с окном 10"
      ],
      "metadata": {
        "id": "4uzDVMv3p2vf"
      }
    },
    {
      "cell_type": "markdown",
      "source": [
        "В модели \"word2vec-ruscorpora-300\" после слова указывается часть речи: NOUN (существительное), ADJ (прилагательное) и так далее."
      ],
      "metadata": {
        "id": "V0hCEC8tp7Ce"
      }
    },
    {
      "cell_type": "markdown",
      "source": [
        "[Другие предобученные эмбеддинги gensim](https://radimrehurek.com/gensim/models/word2vec.html#pretrained-models)"
      ],
      "metadata": {
        "id": "XTEJ_wWop8ER"
      }
    },
    {
      "cell_type": "code",
      "source": [
        "#загрузка предобученную модель\n",
        "wv = api.load('word2vec-ruscorpora-300')"
      ],
      "metadata": {
        "colab": {
          "base_uri": "https://localhost:8080/"
        },
        "id": "IYg_7CnKpwul",
        "outputId": "7f1de4cc-f153-4899-8318-df78c5dd9cd8"
      },
      "execution_count": 2,
      "outputs": [
        {
          "output_type": "stream",
          "name": "stdout",
          "text": [
            "[==================================================] 100.0% 198.8/198.8MB downloaded\n"
          ]
        }
      ]
    },
    {
      "cell_type": "code",
      "source": [
        "#список слов в данной модели\n",
        "list(wv.index_to_key)[:10]"
      ],
      "metadata": {
        "colab": {
          "base_uri": "https://localhost:8080/"
        },
        "id": "l2itkzmwrsac",
        "outputId": "3b25b98e-b5fa-43ae-c134-49b6a835ce36"
      },
      "execution_count": 3,
      "outputs": [
        {
          "output_type": "execute_result",
          "data": {
            "text/plain": [
              "['весь_DET',\n",
              " 'человек_NOUN',\n",
              " 'мочь_VERB',\n",
              " 'год_NOUN',\n",
              " 'сказать_VERB',\n",
              " 'время_NOUN',\n",
              " 'говорить_VERB',\n",
              " 'становиться_VERB',\n",
              " 'знать_VERB',\n",
              " 'самый_DET']"
            ]
          },
          "metadata": {},
          "execution_count": 3
        }
      ]
    },
    {
      "cell_type": "code",
      "source": [
        "#объем словоря предобученной модели W2V\n",
        "len(list(wv.index_to_key))"
      ],
      "metadata": {
        "colab": {
          "base_uri": "https://localhost:8080/"
        },
        "id": "Cqpe8Nz4t4AU",
        "outputId": "2f9a2e4e-5c34-4ffc-fa81-b0f7b6e0317a"
      },
      "execution_count": null,
      "outputs": [
        {
          "output_type": "execute_result",
          "data": {
            "text/plain": [
              "184973"
            ]
          },
          "metadata": {},
          "execution_count": 4
        }
      ]
    },
    {
      "cell_type": "code",
      "source": [
        "#получение вектора w2v по слову\n",
        "#print(wv['человек_NOUN'])\n",
        "wv['человек_NOUN'].shape"
      ],
      "metadata": {
        "colab": {
          "base_uri": "https://localhost:8080/"
        },
        "id": "Ic4Ol89Ysxl4",
        "outputId": "ff551f3b-4c28-4fd0-dd0a-aac98eda9b4c"
      },
      "execution_count": 5,
      "outputs": [
        {
          "output_type": "execute_result",
          "data": {
            "text/plain": [
              "(300,)"
            ]
          },
          "metadata": {},
          "execution_count": 5
        }
      ]
    },
    {
      "cell_type": "code",
      "source": [
        "#посмотреть ближайшие слова\n",
        "wv.most_similar('человек_NOUN')"
      ],
      "metadata": {
        "colab": {
          "base_uri": "https://localhost:8080/"
        },
        "id": "frvUnOSV8scL",
        "outputId": "f1d3d90d-1edf-49a4-ffe3-47cfcddb3a07"
      },
      "execution_count": null,
      "outputs": [
        {
          "output_type": "execute_result",
          "data": {
            "text/plain": [
              "[('женщина_NOUN', 0.5500056743621826),\n",
              " ('мужчина_NOUN', 0.5161216855049133),\n",
              " ('человеческий_ADJ', 0.5005477666854858),\n",
              " ('идолопоклонствовать_VERB', 0.4838884770870209),\n",
              " ('высокопорядочный_ADJ', 0.4818764925003052),\n",
              " ('правдознатец_NOUN', 0.4815177917480469),\n",
              " ('некорыстолюбивый_ADJ', 0.4798555374145508),\n",
              " ('народ_NOUN', 0.477242112159729),\n",
              " ('старое::стариться_VERB', 0.47487741708755493),\n",
              " ('людишки_NOUN', 0.4739970564842224)]"
            ]
          },
          "metadata": {},
          "execution_count": 6
        }
      ]
    },
    {
      "cell_type": "code",
      "source": [
        "#посмотреть косинусную близость двух слов\n",
        "wv.similarity('кошка_NOUN', 'собака_NOUN')"
      ],
      "metadata": {
        "colab": {
          "base_uri": "https://localhost:8080/"
        },
        "id": "mq-HHMMn9EuD",
        "outputId": "be19e289-3fef-49a3-89a9-9084032dfabf"
      },
      "execution_count": null,
      "outputs": [
        {
          "output_type": "execute_result",
          "data": {
            "text/plain": [
              "0.69631803"
            ]
          },
          "metadata": {},
          "execution_count": 7
        }
      ]
    },
    {
      "cell_type": "code",
      "source": [
        "#посмотреть косинусную близость двух слов\n",
        "wv.similarity('кошка_NOUN', 'картошка_NOUN')"
      ],
      "metadata": {
        "colab": {
          "base_uri": "https://localhost:8080/"
        },
        "id": "Y55Kq4mX9L-q",
        "outputId": "b113ce84-5425-4f35-8235-062bfe6003a6"
      },
      "execution_count": null,
      "outputs": [
        {
          "output_type": "execute_result",
          "data": {
            "text/plain": [
              "0.26303366"
            ]
          },
          "metadata": {},
          "execution_count": 8
        }
      ]
    },
    {
      "cell_type": "code",
      "source": [
        "# Аналогия: Франция = Париж + (Германия - Берлин)\n",
        "wv.most_similar(positive=['париж_NOUN','германия_NOUN'], negative=['берлин_NOUN'], topn=1)"
      ],
      "metadata": {
        "colab": {
          "base_uri": "https://localhost:8080/"
        },
        "id": "r5goTGk29pXT",
        "outputId": "fe582996-f821-4631-f679-ca12f6569f7b"
      },
      "execution_count": null,
      "outputs": [
        {
          "output_type": "execute_result",
          "data": {
            "text/plain": [
              "[('франция_NOUN', 0.8673800230026245)]"
            ]
          },
          "metadata": {},
          "execution_count": 9
        }
      ]
    },
    {
      "cell_type": "markdown",
      "source": [
        "Как использовать W2V с частиречной разметкой с обычным текстом?"
      ],
      "metadata": {
        "id": "5emfABPm_qGK"
      }
    },
    {
      "cell_type": "markdown",
      "source": [
        "## Вариант 1 - убрать у W2V частиречную разметку"
      ],
      "metadata": {
        "id": "pQTwHiCR_wxR"
      }
    },
    {
      "cell_type": "code",
      "source": [
        "#создание списка слов без частей речи\n",
        "vocab = []\n",
        "for w in list(wv.index_to_key):\n",
        "  vocab.append(w.split('_')[0])"
      ],
      "metadata": {
        "id": "_MnladTqs5kr"
      },
      "execution_count": null,
      "outputs": []
    },
    {
      "cell_type": "code",
      "source": [
        "#посмотреть первые 10 слов из полученного списка слов\n",
        "vocab[:10]"
      ],
      "metadata": {
        "colab": {
          "base_uri": "https://localhost:8080/"
        },
        "id": "9agfYhckuPsu",
        "outputId": "66ce3168-2d59-40cf-e70c-b3a17a445f5d"
      },
      "execution_count": null,
      "outputs": [
        {
          "output_type": "execute_result",
          "data": {
            "text/plain": [
              "['весь',\n",
              " 'человек',\n",
              " 'мочь',\n",
              " 'год',\n",
              " 'сказать',\n",
              " 'время',\n",
              " 'говорить',\n",
              " 'становиться',\n",
              " 'знать',\n",
              " 'самый']"
            ]
          },
          "metadata": {},
          "execution_count": 11
        }
      ]
    },
    {
      "cell_type": "code",
      "source": [
        "#вектора каждого слова из предложения\n",
        "preprocessing_text = ['кот', 'любить', 'тыгыдыкать']\n",
        "vectors_word = []\n",
        "for i in preprocessing_text:\n",
        "  if i in vocab:\n",
        "    #vocab.index(i) - находит идекс в vocab\n",
        "    #list(wv.index_to_key)[vocab.index(i)] - выводит слово с его частью речи\n",
        "    #wv[list(wv.index_to_key)[vocab.index(i)]] - получаем вектор\n",
        "    vectors_word.append(wv[list(wv.index_to_key)[vocab.index(i)]])\n",
        "  else:\n",
        "    vectors_word.append(np.zeros(300))\n",
        "vector_text = np.mean(vectors_word, axis = 0)"
      ],
      "metadata": {
        "id": "1fMbHs2muWho"
      },
      "execution_count": null,
      "outputs": []
    },
    {
      "cell_type": "code",
      "source": [
        "#векторизация каждого слова по отдельности\n",
        "print(vectors_word)"
      ],
      "metadata": {
        "id": "wpPEX3WDxp0Q",
        "colab": {
          "base_uri": "https://localhost:8080/"
        },
        "outputId": "70b9ee1b-1fea-4e99-8044-8fa983cccab5"
      },
      "execution_count": null,
      "outputs": [
        {
          "output_type": "stream",
          "name": "stdout",
          "text": [
            "[array([-1.52633622e-01, -6.22178875e-02,  8.02985206e-02,  3.76203880e-02,\n",
            "       -8.09977110e-03, -6.56392053e-02,  5.08799739e-02,  6.61313012e-02,\n",
            "        1.57197528e-02,  9.78986733e-03,  4.73552682e-02, -2.55929027e-02,\n",
            "        1.05717339e-01, -2.22761724e-02,  5.41505031e-02, -3.82993110e-02,\n",
            "        5.26556484e-02,  1.17264939e-02, -1.46230776e-02, -1.95544884e-02,\n",
            "        5.04205190e-02, -3.71097960e-02,  3.57442684e-02,  4.96631972e-02,\n",
            "       -5.57994805e-02, -3.11674438e-02, -2.20739599e-02,  1.07113965e-01,\n",
            "       -9.91705209e-02, -4.57583293e-02, -9.96095166e-02,  4.80931476e-02,\n",
            "       -1.33494905e-03,  3.51430699e-02,  2.42795311e-02, -2.34595835e-02,\n",
            "        5.17160492e-03, -2.06816625e-02,  4.38127927e-02, -3.31711844e-02,\n",
            "       -2.07874626e-02,  6.72167316e-02, -7.74500072e-02,  2.93545369e-02,\n",
            "       -1.46178985e-02,  4.10723649e-02,  8.69638026e-02, -3.46537703e-03,\n",
            "        3.90354246e-02, -2.03978154e-03,  5.43198660e-02,  7.57279024e-02,\n",
            "        1.48434611e-02,  8.33871886e-02, -2.87217349e-02, -3.09202913e-03,\n",
            "       -7.93954656e-02, -2.82405037e-02, -1.64566293e-01, -1.17127458e-02,\n",
            "       -2.68191863e-02, -1.14840917e-01,  4.07641158e-02, -1.52551448e-02,\n",
            "        1.05389841e-01, -2.80199181e-02, -1.25609236e-02,  1.09363765e-01,\n",
            "       -1.05669824e-02,  1.92236323e-02, -2.05025654e-02,  3.25121842e-02,\n",
            "        3.57208811e-02, -2.52568591e-02,  2.24481337e-02,  5.09182140e-02,\n",
            "        6.63011149e-02, -6.96184263e-02, -5.87991485e-03,  3.19263488e-02,\n",
            "        2.67947633e-02,  5.35315834e-02,  5.44695035e-02,  2.58983169e-02,\n",
            "       -7.08631724e-02,  1.04762614e-01, -6.68804273e-02, -1.38250962e-02,\n",
            "        1.44148827e-01,  6.52979612e-02,  1.60416458e-02, -2.04468183e-02,\n",
            "        3.70856933e-02, -3.04988828e-02,  1.09351687e-01,  1.64980050e-02,\n",
            "        2.36458685e-02, -1.01091415e-02, -6.50116727e-02, -1.13031827e-01,\n",
            "       -1.19736008e-01, -5.59152151e-03,  1.64195765e-02,  8.24512169e-03,\n",
            "       -8.84061214e-03,  7.30062574e-02,  2.95458623e-04,  3.91627736e-02,\n",
            "        6.22012243e-02,  1.01540620e-02, -2.01074360e-03,  9.14960168e-03,\n",
            "       -2.40149889e-02, -7.16753602e-02, -8.49208906e-02,  5.45662642e-02,\n",
            "        2.19109673e-02,  9.25432891e-03,  2.24880818e-02, -3.62291490e-03,\n",
            "        8.57939944e-02, -5.56841269e-02, -1.16740711e-01,  2.33066957e-02,\n",
            "       -8.18690881e-02, -1.44955916e-02,  3.33725065e-02,  3.03953364e-02,\n",
            "        2.25391071e-02, -3.46978344e-02, -6.41057938e-02,  7.33885840e-02,\n",
            "       -2.90144072e-03, -2.75960714e-02, -2.21674796e-02, -3.96765396e-02,\n",
            "       -3.22195105e-02,  4.82296161e-02,  4.16103862e-02,  3.63796987e-02,\n",
            "        2.58319732e-02,  7.23602101e-02,  1.09503092e-03,  8.37009493e-03,\n",
            "        5.09082936e-02, -3.29718776e-02, -5.68303093e-02,  1.01079745e-02,\n",
            "       -8.52582380e-02,  1.99150909e-02,  2.33987775e-02, -3.49289179e-02,\n",
            "       -2.18948033e-02, -1.17089637e-02,  1.78485103e-02, -5.88125037e-03,\n",
            "        2.24573947e-02, -7.76379481e-02, -2.46963687e-02,  2.34957393e-02,\n",
            "       -7.47927353e-02, -3.52633633e-02,  6.65142164e-02, -2.21630055e-02,\n",
            "        9.85186771e-02, -4.27325964e-02,  2.38673016e-02,  3.69326621e-02,\n",
            "        5.19271940e-03, -4.75301892e-02, -1.99485421e-02,  2.70965626e-03,\n",
            "       -7.23582553e-03,  8.48396868e-02,  6.64435774e-02, -9.35326666e-02,\n",
            "        4.94468771e-02,  8.26572999e-02, -1.33822160e-02, -5.32249734e-03,\n",
            "        4.29970361e-02,  8.93590376e-02, -1.27462680e-02,  2.74799261e-02,\n",
            "       -3.33027355e-02,  4.35785688e-02,  4.56295535e-02,  3.17847766e-02,\n",
            "       -9.68080908e-02, -6.77153543e-02, -9.52497870e-02, -8.87092575e-03,\n",
            "       -4.08960059e-02, -5.09431772e-02,  2.54585221e-02,  5.80319017e-02,\n",
            "        5.08921407e-02, -5.23761436e-02, -2.77449843e-02,  7.23702163e-02,\n",
            "       -9.36738960e-03,  8.10077041e-03,  3.52279693e-02, -1.19305283e-01,\n",
            "       -3.82529870e-02, -8.29238147e-02, -8.81364495e-02,  1.62167493e-02,\n",
            "        2.68793292e-02, -3.83929200e-02, -2.57957950e-02, -1.86822563e-02,\n",
            "       -5.47099225e-02, -5.65230772e-02, -1.98926777e-02,  3.54687981e-02,\n",
            "        1.35690883e-01,  8.04331973e-02,  1.92622133e-02,  5.81734739e-02,\n",
            "       -5.02377190e-02,  2.47635460e-03, -5.33336513e-02,  4.08107415e-02,\n",
            "        1.18754342e-01, -7.40583912e-02,  7.48252273e-02,  1.46314219e-01,\n",
            "        6.73391623e-03, -1.98812839e-02, -2.93681423e-05, -2.12224070e-02,\n",
            "        1.70804688e-03,  3.52822542e-02, -1.65668026e-01, -4.84176865e-03,\n",
            "        1.21439025e-02,  8.64505395e-02, -1.57235548e-01,  7.75721148e-02,\n",
            "        5.35202436e-02,  1.17224073e-02, -7.53299072e-02, -3.44986990e-02,\n",
            "       -1.58868451e-02,  7.00481758e-02,  7.96044394e-02, -4.09048088e-02,\n",
            "       -1.46982130e-02, -1.24979429e-01, -4.20956686e-02, -8.43289569e-02,\n",
            "       -6.92764968e-02,  5.16316369e-02,  2.03369856e-02, -4.73499410e-02,\n",
            "        9.15571675e-02, -5.96052743e-02,  1.10012911e-01,  2.55208667e-02,\n",
            "       -8.69148783e-03, -7.76273850e-03,  4.98862900e-02,  9.31067672e-03,\n",
            "       -3.49833667e-02,  1.33375779e-01,  8.40289332e-03, -3.45170535e-02,\n",
            "       -3.47062238e-02, -9.73994732e-02, -2.54784450e-02, -1.39390659e-02,\n",
            "       -3.32783237e-02,  9.36794057e-02,  3.47191617e-02,  2.80651636e-02,\n",
            "        6.58571906e-03,  3.73428725e-02, -3.32412347e-02, -9.73492190e-02,\n",
            "       -7.07265735e-02, -7.01062232e-02,  3.67225669e-02, -2.62719765e-02,\n",
            "        5.82991205e-02, -7.42069781e-02,  1.66096780e-02, -8.83689746e-02,\n",
            "       -1.62591994e-01,  4.79482487e-02,  5.83929494e-02, -1.04699671e-01,\n",
            "        3.52650951e-03,  2.50546616e-02,  3.84298228e-02, -4.36684191e-02,\n",
            "        5.68282753e-02,  6.57160487e-03, -3.02405991e-02,  2.51490474e-02],\n",
            "      dtype=float32), array([-0.0645045 ,  0.05125751, -0.03536628, -0.01498123, -0.0277048 ,\n",
            "       -0.00367899, -0.02321433, -0.03754522, -0.08269951, -0.01911996,\n",
            "       -0.0706512 , -0.06111604,  0.0694447 ,  0.02893103, -0.01717168,\n",
            "       -0.01046576,  0.03833541,  0.02717068,  0.00305273, -0.03387424,\n",
            "       -0.07393394,  0.0033245 , -0.03225933,  0.05134457, -0.02818249,\n",
            "       -0.0517306 , -0.02612063,  0.01421905, -0.0110558 , -0.14066628,\n",
            "        0.00926964, -0.02052713,  0.0342296 , -0.02017034,  0.01908641,\n",
            "        0.02944711, -0.00391393, -0.01972052, -0.02602919, -0.03740118,\n",
            "        0.06093333, -0.01035828, -0.0202333 , -0.03972574,  0.11047018,\n",
            "       -0.01011596, -0.02866923, -0.05497253,  0.04549017, -0.09964983,\n",
            "       -0.09227355,  0.1048983 ,  0.05860939, -0.01932501, -0.0321778 ,\n",
            "        0.00625805, -0.01399862, -0.01284815, -0.07167402,  0.02135038,\n",
            "        0.05244046,  0.00947168,  0.00239955, -0.08826445,  0.11832519,\n",
            "       -0.03774803, -0.09982263,  0.01386579,  0.10854616, -0.0680209 ,\n",
            "       -0.0190593 , -0.05491138, -0.03584682, -0.0664329 ,  0.09057661,\n",
            "       -0.00596715,  0.01901211, -0.0548141 , -0.01610881,  0.01619812,\n",
            "       -0.04941504,  0.00307296, -0.01761078, -0.02434588,  0.01189355,\n",
            "       -0.09042844,  0.01868374,  0.03454009,  0.06594481,  0.00704499,\n",
            "       -0.03345837,  0.02575179,  0.04193394,  0.04619841, -0.02547566,\n",
            "        0.10241089, -0.03966602,  0.00339036, -0.01100777, -0.0164946 ,\n",
            "       -0.06447161, -0.03820373,  0.06332214, -0.03392161, -0.05382117,\n",
            "        0.02156034, -0.00384964,  0.04713409, -0.00439353, -0.02506564,\n",
            "        0.01027706,  0.03872295, -0.00905853, -0.01349945,  0.01574278,\n",
            "       -0.0993019 , -0.02341843,  0.09596109, -0.02311996,  0.04741919,\n",
            "        0.0300245 ,  0.05240418,  0.05510767,  0.1115045 ,  0.03585535,\n",
            "        0.06714516,  0.02735724, -0.04573477,  0.12547159,  0.02407729,\n",
            "       -0.03853163,  0.04739449,  0.02067438, -0.0253389 , -0.0058396 ,\n",
            "       -0.01689735,  0.00919141,  0.07950685,  0.09230144,  0.02141298,\n",
            "       -0.00132064, -0.01284748,  0.0823425 ,  0.04576181,  0.02062969,\n",
            "       -0.04604862, -0.05220355, -0.08276363,  0.1311475 , -0.0312878 ,\n",
            "        0.0114844 , -0.09276816, -0.07733857, -0.03303517, -0.10806172,\n",
            "        0.12254602,  0.01879891,  0.08769856, -0.01724811, -0.04820438,\n",
            "       -0.08522443, -0.04343092, -0.08149652, -0.02891442, -0.01590496,\n",
            "       -0.07252382, -0.00441589,  0.01173448, -0.10303201, -0.0297576 ,\n",
            "        0.10040496, -0.02773346, -0.05351384, -0.02479997, -0.03875418,\n",
            "        0.06182937,  0.13473642,  0.12780268,  0.00153191, -0.09484725,\n",
            "        0.00685088, -0.00705283, -0.04968802, -0.05973211, -0.03914484,\n",
            "       -0.03256826,  0.05516807, -0.02039315,  0.00965776,  0.00761153,\n",
            "       -0.01828435, -0.0188246 , -0.08363098, -0.06089959,  0.0291911 ,\n",
            "       -0.02036163, -0.06545364, -0.06153074,  0.00211211,  0.05415042,\n",
            "        0.02225901, -0.02276824, -0.00590874, -0.08941189,  0.03882454,\n",
            "       -0.04243073, -0.11164048, -0.04317667, -0.00136294,  0.10668721,\n",
            "       -0.08222704,  0.01040948, -0.03846104, -0.02823904, -0.0388742 ,\n",
            "        0.0200172 , -0.02064488,  0.08010464, -0.06941499,  0.16690286,\n",
            "       -0.13456501,  0.03307428,  0.0300108 ,  0.00452846, -0.06271237,\n",
            "       -0.0877006 , -0.01275486,  0.07493863,  0.05398763,  0.03153889,\n",
            "        0.00125574, -0.01486678,  0.09459449,  0.02542068, -0.12978487,\n",
            "       -0.0528512 , -0.10844602, -0.02464961, -0.05011183, -0.07495668,\n",
            "        0.00917212,  0.0492764 , -0.01914565,  0.02755583, -0.03117718,\n",
            "       -0.00834849,  0.08926561, -0.07704242, -0.12097032, -0.05568619,\n",
            "       -0.01658837, -0.05197626,  0.03650137,  0.0471945 ,  0.09681446,\n",
            "       -0.03370608,  0.1853457 , -0.01063434,  0.04042579,  0.06134127,\n",
            "       -0.10089826,  0.02774891, -0.05365549, -0.01419164, -0.0246645 ,\n",
            "       -0.00331839, -0.04704064, -0.07236852, -0.11703093, -0.02538943,\n",
            "       -0.02620434,  0.08117801,  0.0371163 ,  0.0622112 , -0.02829532,\n",
            "        0.05308885,  0.10943238,  0.04128911, -0.03359372,  0.08626871,\n",
            "       -0.06753077, -0.02009186, -0.0074244 , -0.05671273,  0.04903683,\n",
            "       -0.00537884, -0.10654278, -0.047163  , -0.04884536,  0.0638933 ,\n",
            "       -0.01696863, -0.02642988, -0.00810127, -0.01338451, -0.06763574,\n",
            "       -0.06697463,  0.09678614,  0.0867558 , -0.00661307,  0.11081754],\n",
            "      dtype=float32), array([0., 0., 0., 0., 0., 0., 0., 0., 0., 0., 0., 0., 0., 0., 0., 0., 0.,\n",
            "       0., 0., 0., 0., 0., 0., 0., 0., 0., 0., 0., 0., 0., 0., 0., 0., 0.,\n",
            "       0., 0., 0., 0., 0., 0., 0., 0., 0., 0., 0., 0., 0., 0., 0., 0., 0.,\n",
            "       0., 0., 0., 0., 0., 0., 0., 0., 0., 0., 0., 0., 0., 0., 0., 0., 0.,\n",
            "       0., 0., 0., 0., 0., 0., 0., 0., 0., 0., 0., 0., 0., 0., 0., 0., 0.,\n",
            "       0., 0., 0., 0., 0., 0., 0., 0., 0., 0., 0., 0., 0., 0., 0., 0., 0.,\n",
            "       0., 0., 0., 0., 0., 0., 0., 0., 0., 0., 0., 0., 0., 0., 0., 0., 0.,\n",
            "       0., 0., 0., 0., 0., 0., 0., 0., 0., 0., 0., 0., 0., 0., 0., 0., 0.,\n",
            "       0., 0., 0., 0., 0., 0., 0., 0., 0., 0., 0., 0., 0., 0., 0., 0., 0.,\n",
            "       0., 0., 0., 0., 0., 0., 0., 0., 0., 0., 0., 0., 0., 0., 0., 0., 0.,\n",
            "       0., 0., 0., 0., 0., 0., 0., 0., 0., 0., 0., 0., 0., 0., 0., 0., 0.,\n",
            "       0., 0., 0., 0., 0., 0., 0., 0., 0., 0., 0., 0., 0., 0., 0., 0., 0.,\n",
            "       0., 0., 0., 0., 0., 0., 0., 0., 0., 0., 0., 0., 0., 0., 0., 0., 0.,\n",
            "       0., 0., 0., 0., 0., 0., 0., 0., 0., 0., 0., 0., 0., 0., 0., 0., 0.,\n",
            "       0., 0., 0., 0., 0., 0., 0., 0., 0., 0., 0., 0., 0., 0., 0., 0., 0.,\n",
            "       0., 0., 0., 0., 0., 0., 0., 0., 0., 0., 0., 0., 0., 0., 0., 0., 0.,\n",
            "       0., 0., 0., 0., 0., 0., 0., 0., 0., 0., 0., 0., 0., 0., 0., 0., 0.,\n",
            "       0., 0., 0., 0., 0., 0., 0., 0., 0., 0., 0.])]\n"
          ]
        }
      ]
    },
    {
      "cell_type": "code",
      "source": [
        "#векторизация одного текста целиком\n",
        "print(vector_text)"
      ],
      "metadata": {
        "id": "fgqQngwRxJR0",
        "colab": {
          "base_uri": "https://localhost:8080/"
        },
        "outputId": "2c292ec5-2fbe-4d17-fa2c-3ceddc2066d4"
      },
      "execution_count": null,
      "outputs": [
        {
          "output_type": "stream",
          "name": "stdout",
          "text": [
            "[-7.23793755e-02 -3.65346049e-03  1.49774142e-02  7.54638544e-03\n",
            " -1.19348569e-02 -2.31060667e-02  9.22187977e-03  9.52869281e-03\n",
            " -2.23265849e-02 -3.11003129e-03 -7.76530926e-03 -2.89029796e-02\n",
            "  5.83873466e-02  2.21828558e-03  1.23262753e-02 -1.62550230e-02\n",
            "  3.03303512e-02  1.29657254e-02 -3.85678171e-03 -1.78095748e-02\n",
            " -7.83780590e-03 -1.12617649e-02  1.16164486e-03  3.36692544e-02\n",
            " -2.79939914e-02 -2.76326823e-02 -1.60648624e-02  4.04443393e-02\n",
            " -3.67421086e-02 -6.21415352e-02 -3.01132913e-02  9.18867315e-03\n",
            "  1.09648821e-02  4.99091111e-03  1.44553122e-02  1.99584290e-03\n",
            "  4.19224147e-04 -1.34673944e-02  5.92786819e-03 -2.35241229e-02\n",
            "  1.33819568e-02  1.89528183e-02 -3.25611023e-02 -3.45706878e-03\n",
            "  3.19507591e-02  1.03188014e-02  1.94315246e-02 -1.94793034e-02\n",
            "  2.81751975e-02 -3.38965377e-02 -1.26512274e-02  6.02087354e-02\n",
            "  2.44842845e-02  2.13540588e-02 -2.02998444e-02  1.05534028e-03\n",
            " -3.11313610e-02 -1.36962188e-02 -7.87467708e-02  3.21254351e-03\n",
            "  8.54042483e-03 -3.51230806e-02  1.43878898e-02 -3.45065317e-02\n",
            "  7.45716766e-02 -2.19226486e-02 -3.74611855e-02  4.10765195e-02\n",
            "  3.26597259e-02 -1.62657568e-02 -1.31872880e-02 -7.46639694e-03\n",
            " -4.19802964e-05 -3.05632533e-02  3.76749150e-02  1.49836869e-02\n",
            "  2.84377417e-02 -4.14775076e-02 -7.32957525e-03  1.60414899e-02\n",
            " -7.54009249e-03  1.88681807e-02  1.22862402e-02  5.17477592e-04\n",
            " -1.96565408e-02  4.77805734e-03 -1.60655628e-02  6.90499693e-03\n",
            "  7.00312108e-02  2.41143183e-02 -5.80557622e-03  1.76832452e-03\n",
            "  2.63398774e-02  5.23317667e-03  2.79586756e-02  3.96362984e-02\n",
            " -5.34005029e-03 -2.23959540e-03 -2.53398130e-02 -4.31754769e-02\n",
            " -6.14025394e-02 -1.45984163e-02  2.65805727e-02 -8.55883087e-03\n",
            " -2.08872591e-02  3.15222001e-02 -1.18472620e-03  2.87656213e-02\n",
            "  1.92692316e-02 -4.97052725e-03  2.75543969e-03  1.59575163e-02\n",
            " -1.10245071e-02 -2.83916043e-02 -2.30593712e-02 -1.49118776e-02\n",
            " -5.02487024e-04  3.50718051e-02 -2.10624809e-04  1.45987585e-02\n",
            "  3.86061656e-02 -1.09331558e-03 -2.05443464e-02  4.49370661e-02\n",
            " -1.53379117e-02  1.75498566e-02  2.02432486e-02 -5.11314596e-03\n",
            "  4.93368997e-02 -3.54018062e-03 -3.42124738e-02  4.02610252e-02\n",
            "  5.92431356e-03 -1.76449896e-02 -9.33569344e-03 -1.88579634e-02\n",
            " -7.67603517e-03  4.25788226e-02  4.46372740e-02  1.92642262e-02\n",
            "  8.17044405e-03  1.98375778e-02  2.78125096e-02  1.80439691e-02\n",
            "  2.38459961e-02 -2.63401642e-02 -3.63446188e-02 -2.42185534e-02\n",
            "  1.52964219e-02 -3.79090446e-03  1.16277247e-02 -4.25656935e-02\n",
            " -3.30777907e-02 -1.49147113e-02 -3.00710710e-02  3.88882581e-02\n",
            "  1.37521029e-02  3.35353613e-03 -1.39814944e-02 -8.23621514e-03\n",
            " -5.33390542e-02 -2.62314292e-02 -4.99410182e-03 -1.70258079e-02\n",
            "  2.75379059e-02 -3.84188046e-02  6.48380335e-03  1.62223813e-02\n",
            " -3.26130961e-02 -2.57625965e-02  2.68188044e-02 -8.34126918e-03\n",
            " -2.02498885e-02  2.00132399e-02  9.22980035e-03 -1.05677657e-02\n",
            "  6.13944319e-02  7.01533283e-02 -3.95010284e-03 -3.33899173e-02\n",
            "  1.66159713e-02  2.74354032e-02 -2.08114277e-02 -1.07507290e-02\n",
            " -2.41491906e-02  3.67010136e-03  3.35992090e-02  3.79720827e-03\n",
            " -2.90501115e-02 -2.00346089e-02 -3.78447132e-02 -9.23184119e-03\n",
            " -4.15089950e-02 -3.72809234e-02  1.82165392e-02  1.25567578e-02\n",
            " -4.85383347e-03 -3.79689597e-02 -8.54429199e-03  4.21735458e-02\n",
            "  4.29720680e-03 -4.88915543e-03  9.77307636e-03 -6.95723916e-02\n",
            "  1.90517555e-04 -4.17848490e-02 -6.65923109e-02 -8.98663886e-03\n",
            "  8.50546453e-03  2.27647635e-02 -3.60076129e-02 -2.75759368e-03\n",
            " -3.10569890e-02 -2.82540390e-02 -1.95889585e-02  1.84953337e-02\n",
            "  3.83486667e-02  5.35126130e-02 -1.67175916e-02  7.50254430e-02\n",
            " -6.16009099e-02  1.18502110e-02 -7.77428349e-03  1.51130684e-02\n",
            "  1.86806569e-02 -5.39196630e-02  2.06901211e-02  7.37509479e-02\n",
            "  2.02405141e-02  3.88586832e-03  4.08789786e-04 -1.20297285e-02\n",
            "  3.21008443e-02  2.02343098e-02 -9.84842976e-02 -1.92309896e-02\n",
            " -3.21007048e-02  2.06003084e-02 -6.91157940e-02  8.71812304e-04\n",
            "  2.08974537e-02  2.03329346e-02 -3.14918533e-02 -2.31429127e-03\n",
            " -1.56880077e-02  2.05665634e-02  5.62900181e-02 -3.93157415e-02\n",
            " -4.52228455e-02 -6.02218732e-02 -1.95613454e-02 -4.54350710e-02\n",
            " -1.09250421e-02  3.29420455e-02  3.90504822e-02 -2.70186750e-02\n",
            "  9.23009540e-02 -2.34132055e-02  5.01462333e-02  2.89540446e-02\n",
            " -3.65299154e-02  6.66205616e-03 -1.25640010e-03 -1.62698763e-03\n",
            " -1.98826206e-02  4.33524620e-02 -1.28792481e-02 -3.56285237e-02\n",
            " -5.05790499e-02 -4.09296360e-02 -1.72275951e-02  2.24129812e-02\n",
            "  1.27932678e-03  5.19635354e-02  2.14128072e-03  2.70513395e-02\n",
            "  3.86727011e-02  2.62106595e-02 -2.22783188e-02 -3.69350364e-03\n",
            " -4.60857799e-02 -3.00660282e-02  9.76605558e-03 -2.76615694e-02\n",
            "  3.57786492e-02 -2.65286059e-02 -2.99777010e-02 -4.51773256e-02\n",
            " -7.04791173e-02  3.72805148e-02  1.38081051e-02 -4.37098518e-02\n",
            " -1.52492003e-03  3.89005058e-03 -9.73530735e-03 -3.68810172e-02\n",
            "  5.12048056e-02  3.11091340e-02 -1.22845573e-02  4.53221972e-02]\n"
          ]
        }
      ]
    },
    {
      "cell_type": "code",
      "source": [
        "#размерность вектора для одного текста (любое кол-во слов) будет 300\n",
        "vector_text.shape"
      ],
      "metadata": {
        "colab": {
          "base_uri": "https://localhost:8080/"
        },
        "id": "vvDhWDv_zO1X",
        "outputId": "38dc5326-841b-42c2-dc68-26dc059110c4"
      },
      "execution_count": null,
      "outputs": [
        {
          "output_type": "execute_result",
          "data": {
            "text/plain": [
              "(300,)"
            ]
          },
          "metadata": {},
          "execution_count": 15
        }
      ]
    },
    {
      "cell_type": "markdown",
      "source": [
        "## Вариант 2 - Добавить частиречную разметку к тексту"
      ],
      "metadata": {
        "id": "sPqUYc4dATei"
      }
    },
    {
      "cell_type": "code",
      "source": [
        "import spacy"
      ],
      "metadata": {
        "id": "Bf7ihEg_zXy2"
      },
      "execution_count": 6,
      "outputs": []
    },
    {
      "cell_type": "code",
      "source": [
        "#загружаем модель для работы с русским языком\n",
        "!python -m spacy download ru_core_news_sm >None"
      ],
      "metadata": {
        "id": "VyExmGd_BMMi"
      },
      "execution_count": 7,
      "outputs": []
    },
    {
      "cell_type": "markdown",
      "source": [
        "модели можно найти тут https://spacy.io/models/ru"
      ],
      "metadata": {
        "id": "uHPb5bgjAtsx"
      }
    },
    {
      "cell_type": "code",
      "source": [
        "# Загрузка модели\n",
        "nlp = spacy.load(\"ru_core_news_sm\")"
      ],
      "metadata": {
        "id": "rmNbBXesAczf"
      },
      "execution_count": 8,
      "outputs": []
    },
    {
      "cell_type": "code",
      "source": [
        "#получаем объект doc который содержит инфу о токенизации, частиречной разметки, синтаксического анализа и извлечения сущностей\n",
        "doc = nlp('кот любить тыгыдыкать')"
      ],
      "metadata": {
        "id": "AKMDYTdeBb2Z"
      },
      "execution_count": 9,
      "outputs": []
    },
    {
      "cell_type": "code",
      "source": [
        "#посмотрим токенизацию и частиречную разметку токенов\n",
        "for token in doc:\n",
        "    print(token.text, token.pos_)"
      ],
      "metadata": {
        "colab": {
          "base_uri": "https://localhost:8080/"
        },
        "id": "xASc3x1_BnOp",
        "outputId": "8f65e7a6-70de-4230-e873-e2f3167f6723"
      },
      "execution_count": 10,
      "outputs": [
        {
          "output_type": "stream",
          "name": "stdout",
          "text": [
            "кот NOUN\n",
            "любить VERB\n",
            "тыгыдыкать VERB\n"
          ]
        }
      ]
    },
    {
      "cell_type": "code",
      "source": [
        "#преобразуем наш текст с частиречной разметкой\n",
        "text_markup = [f'{token.text}_{token.pos_}' for token in doc]\n",
        "print(text_markup)"
      ],
      "metadata": {
        "colab": {
          "base_uri": "https://localhost:8080/"
        },
        "id": "wZ_69SdmCD1R",
        "outputId": "a275ad51-eb84-4f56-8b8c-bce5dbd36121"
      },
      "execution_count": 11,
      "outputs": [
        {
          "output_type": "stream",
          "name": "stdout",
          "text": [
            "['кот_NOUN', 'любить_VERB', 'тыгыдыкать_VERB']\n"
          ]
        }
      ]
    },
    {
      "cell_type": "code",
      "source": [
        "#получим вектор W2М первого слова - кот\n",
        "wv[text_markup[0]]"
      ],
      "metadata": {
        "colab": {
          "base_uri": "https://localhost:8080/"
        },
        "id": "VqoPchkICdeJ",
        "outputId": "d451ab8e-5707-4c39-a4c0-af04a788f61c"
      },
      "execution_count": 12,
      "outputs": [
        {
          "output_type": "execute_result",
          "data": {
            "text/plain": [
              "array([-1.52633622e-01, -6.22178875e-02,  8.02985206e-02,  3.76203880e-02,\n",
              "       -8.09977110e-03, -6.56392053e-02,  5.08799739e-02,  6.61313012e-02,\n",
              "        1.57197528e-02,  9.78986733e-03,  4.73552682e-02, -2.55929027e-02,\n",
              "        1.05717339e-01, -2.22761724e-02,  5.41505031e-02, -3.82993110e-02,\n",
              "        5.26556484e-02,  1.17264939e-02, -1.46230776e-02, -1.95544884e-02,\n",
              "        5.04205190e-02, -3.71097960e-02,  3.57442684e-02,  4.96631972e-02,\n",
              "       -5.57994805e-02, -3.11674438e-02, -2.20739599e-02,  1.07113965e-01,\n",
              "       -9.91705209e-02, -4.57583293e-02, -9.96095166e-02,  4.80931476e-02,\n",
              "       -1.33494905e-03,  3.51430699e-02,  2.42795311e-02, -2.34595835e-02,\n",
              "        5.17160492e-03, -2.06816625e-02,  4.38127927e-02, -3.31711844e-02,\n",
              "       -2.07874626e-02,  6.72167316e-02, -7.74500072e-02,  2.93545369e-02,\n",
              "       -1.46178985e-02,  4.10723649e-02,  8.69638026e-02, -3.46537703e-03,\n",
              "        3.90354246e-02, -2.03978154e-03,  5.43198660e-02,  7.57279024e-02,\n",
              "        1.48434611e-02,  8.33871886e-02, -2.87217349e-02, -3.09202913e-03,\n",
              "       -7.93954656e-02, -2.82405037e-02, -1.64566293e-01, -1.17127458e-02,\n",
              "       -2.68191863e-02, -1.14840917e-01,  4.07641158e-02, -1.52551448e-02,\n",
              "        1.05389841e-01, -2.80199181e-02, -1.25609236e-02,  1.09363765e-01,\n",
              "       -1.05669824e-02,  1.92236323e-02, -2.05025654e-02,  3.25121842e-02,\n",
              "        3.57208811e-02, -2.52568591e-02,  2.24481337e-02,  5.09182140e-02,\n",
              "        6.63011149e-02, -6.96184263e-02, -5.87991485e-03,  3.19263488e-02,\n",
              "        2.67947633e-02,  5.35315834e-02,  5.44695035e-02,  2.58983169e-02,\n",
              "       -7.08631724e-02,  1.04762614e-01, -6.68804273e-02, -1.38250962e-02,\n",
              "        1.44148827e-01,  6.52979612e-02,  1.60416458e-02, -2.04468183e-02,\n",
              "        3.70856933e-02, -3.04988828e-02,  1.09351687e-01,  1.64980050e-02,\n",
              "        2.36458685e-02, -1.01091415e-02, -6.50116727e-02, -1.13031827e-01,\n",
              "       -1.19736008e-01, -5.59152151e-03,  1.64195765e-02,  8.24512169e-03,\n",
              "       -8.84061214e-03,  7.30062574e-02,  2.95458623e-04,  3.91627736e-02,\n",
              "        6.22012243e-02,  1.01540620e-02, -2.01074360e-03,  9.14960168e-03,\n",
              "       -2.40149889e-02, -7.16753602e-02, -8.49208906e-02,  5.45662642e-02,\n",
              "        2.19109673e-02,  9.25432891e-03,  2.24880818e-02, -3.62291490e-03,\n",
              "        8.57939944e-02, -5.56841269e-02, -1.16740711e-01,  2.33066957e-02,\n",
              "       -8.18690881e-02, -1.44955916e-02,  3.33725065e-02,  3.03953364e-02,\n",
              "        2.25391071e-02, -3.46978344e-02, -6.41057938e-02,  7.33885840e-02,\n",
              "       -2.90144072e-03, -2.75960714e-02, -2.21674796e-02, -3.96765396e-02,\n",
              "       -3.22195105e-02,  4.82296161e-02,  4.16103862e-02,  3.63796987e-02,\n",
              "        2.58319732e-02,  7.23602101e-02,  1.09503092e-03,  8.37009493e-03,\n",
              "        5.09082936e-02, -3.29718776e-02, -5.68303093e-02,  1.01079745e-02,\n",
              "       -8.52582380e-02,  1.99150909e-02,  2.33987775e-02, -3.49289179e-02,\n",
              "       -2.18948033e-02, -1.17089637e-02,  1.78485103e-02, -5.88125037e-03,\n",
              "        2.24573947e-02, -7.76379481e-02, -2.46963687e-02,  2.34957393e-02,\n",
              "       -7.47927353e-02, -3.52633633e-02,  6.65142164e-02, -2.21630055e-02,\n",
              "        9.85186771e-02, -4.27325964e-02,  2.38673016e-02,  3.69326621e-02,\n",
              "        5.19271940e-03, -4.75301892e-02, -1.99485421e-02,  2.70965626e-03,\n",
              "       -7.23582553e-03,  8.48396868e-02,  6.64435774e-02, -9.35326666e-02,\n",
              "        4.94468771e-02,  8.26572999e-02, -1.33822160e-02, -5.32249734e-03,\n",
              "        4.29970361e-02,  8.93590376e-02, -1.27462680e-02,  2.74799261e-02,\n",
              "       -3.33027355e-02,  4.35785688e-02,  4.56295535e-02,  3.17847766e-02,\n",
              "       -9.68080908e-02, -6.77153543e-02, -9.52497870e-02, -8.87092575e-03,\n",
              "       -4.08960059e-02, -5.09431772e-02,  2.54585221e-02,  5.80319017e-02,\n",
              "        5.08921407e-02, -5.23761436e-02, -2.77449843e-02,  7.23702163e-02,\n",
              "       -9.36738960e-03,  8.10077041e-03,  3.52279693e-02, -1.19305283e-01,\n",
              "       -3.82529870e-02, -8.29238147e-02, -8.81364495e-02,  1.62167493e-02,\n",
              "        2.68793292e-02, -3.83929200e-02, -2.57957950e-02, -1.86822563e-02,\n",
              "       -5.47099225e-02, -5.65230772e-02, -1.98926777e-02,  3.54687981e-02,\n",
              "        1.35690883e-01,  8.04331973e-02,  1.92622133e-02,  5.81734739e-02,\n",
              "       -5.02377190e-02,  2.47635460e-03, -5.33336513e-02,  4.08107415e-02,\n",
              "        1.18754342e-01, -7.40583912e-02,  7.48252273e-02,  1.46314219e-01,\n",
              "        6.73391623e-03, -1.98812839e-02, -2.93681423e-05, -2.12224070e-02,\n",
              "        1.70804688e-03,  3.52822542e-02, -1.65668026e-01, -4.84176865e-03,\n",
              "        1.21439025e-02,  8.64505395e-02, -1.57235548e-01,  7.75721148e-02,\n",
              "        5.35202436e-02,  1.17224073e-02, -7.53299072e-02, -3.44986990e-02,\n",
              "       -1.58868451e-02,  7.00481758e-02,  7.96044394e-02, -4.09048088e-02,\n",
              "       -1.46982130e-02, -1.24979429e-01, -4.20956686e-02, -8.43289569e-02,\n",
              "       -6.92764968e-02,  5.16316369e-02,  2.03369856e-02, -4.73499410e-02,\n",
              "        9.15571675e-02, -5.96052743e-02,  1.10012911e-01,  2.55208667e-02,\n",
              "       -8.69148783e-03, -7.76273850e-03,  4.98862900e-02,  9.31067672e-03,\n",
              "       -3.49833667e-02,  1.33375779e-01,  8.40289332e-03, -3.45170535e-02,\n",
              "       -3.47062238e-02, -9.73994732e-02, -2.54784450e-02, -1.39390659e-02,\n",
              "       -3.32783237e-02,  9.36794057e-02,  3.47191617e-02,  2.80651636e-02,\n",
              "        6.58571906e-03,  3.73428725e-02, -3.32412347e-02, -9.73492190e-02,\n",
              "       -7.07265735e-02, -7.01062232e-02,  3.67225669e-02, -2.62719765e-02,\n",
              "        5.82991205e-02, -7.42069781e-02,  1.66096780e-02, -8.83689746e-02,\n",
              "       -1.62591994e-01,  4.79482487e-02,  5.83929494e-02, -1.04699671e-01,\n",
              "        3.52650951e-03,  2.50546616e-02,  3.84298228e-02, -4.36684191e-02,\n",
              "        5.68282753e-02,  6.57160487e-03, -3.02405991e-02,  2.51490474e-02],\n",
              "      dtype=float32)"
            ]
          },
          "metadata": {},
          "execution_count": 12
        }
      ]
    },
    {
      "cell_type": "code",
      "source": [
        "#получим вектор W2М последнего слова - тыгыдыкать\n",
        "wv[text_markup[2]]"
      ],
      "metadata": {
        "colab": {
          "base_uri": "https://localhost:8080/",
          "height": 304
        },
        "id": "IhvtVDySCjof",
        "outputId": "9eba108a-e73f-44f7-b6a9-79e8c9738405"
      },
      "execution_count": null,
      "outputs": [
        {
          "output_type": "error",
          "ename": "KeyError",
          "evalue": "\"Key 'тыгыдыкать_VERB' not present\"",
          "traceback": [
            "\u001b[0;31m---------------------------------------------------------------------------\u001b[0m",
            "\u001b[0;31mKeyError\u001b[0m                                  Traceback (most recent call last)",
            "\u001b[0;32m/tmp/ipython-input-2955444152.py\u001b[0m in \u001b[0;36m<cell line: 0>\u001b[0;34m()\u001b[0m\n\u001b[1;32m      1\u001b[0m \u001b[0;31m#получим вектор W2М последнего слова - тыгыдыкать\u001b[0m\u001b[0;34m\u001b[0m\u001b[0;34m\u001b[0m\u001b[0m\n\u001b[0;32m----> 2\u001b[0;31m \u001b[0mwv\u001b[0m\u001b[0;34m[\u001b[0m\u001b[0mtext_markup\u001b[0m\u001b[0;34m[\u001b[0m\u001b[0;36m2\u001b[0m\u001b[0;34m]\u001b[0m\u001b[0;34m]\u001b[0m\u001b[0;34m\u001b[0m\u001b[0;34m\u001b[0m\u001b[0m\n\u001b[0m",
            "\u001b[0;32m/usr/local/lib/python3.12/dist-packages/gensim/models/keyedvectors.py\u001b[0m in \u001b[0;36m__getitem__\u001b[0;34m(self, key_or_keys)\u001b[0m\n\u001b[1;32m    401\u001b[0m         \"\"\"\n\u001b[1;32m    402\u001b[0m         \u001b[0;32mif\u001b[0m \u001b[0misinstance\u001b[0m\u001b[0;34m(\u001b[0m\u001b[0mkey_or_keys\u001b[0m\u001b[0;34m,\u001b[0m \u001b[0m_KEY_TYPES\u001b[0m\u001b[0;34m)\u001b[0m\u001b[0;34m:\u001b[0m\u001b[0;34m\u001b[0m\u001b[0;34m\u001b[0m\u001b[0m\n\u001b[0;32m--> 403\u001b[0;31m             \u001b[0;32mreturn\u001b[0m \u001b[0mself\u001b[0m\u001b[0;34m.\u001b[0m\u001b[0mget_vector\u001b[0m\u001b[0;34m(\u001b[0m\u001b[0mkey_or_keys\u001b[0m\u001b[0;34m)\u001b[0m\u001b[0;34m\u001b[0m\u001b[0;34m\u001b[0m\u001b[0m\n\u001b[0m\u001b[1;32m    404\u001b[0m \u001b[0;34m\u001b[0m\u001b[0m\n\u001b[1;32m    405\u001b[0m         \u001b[0;32mreturn\u001b[0m \u001b[0mvstack\u001b[0m\u001b[0;34m(\u001b[0m\u001b[0;34m[\u001b[0m\u001b[0mself\u001b[0m\u001b[0;34m.\u001b[0m\u001b[0mget_vector\u001b[0m\u001b[0;34m(\u001b[0m\u001b[0mkey\u001b[0m\u001b[0;34m)\u001b[0m \u001b[0;32mfor\u001b[0m \u001b[0mkey\u001b[0m \u001b[0;32min\u001b[0m \u001b[0mkey_or_keys\u001b[0m\u001b[0;34m]\u001b[0m\u001b[0;34m)\u001b[0m\u001b[0;34m\u001b[0m\u001b[0;34m\u001b[0m\u001b[0m\n",
            "\u001b[0;32m/usr/local/lib/python3.12/dist-packages/gensim/models/keyedvectors.py\u001b[0m in \u001b[0;36mget_vector\u001b[0;34m(self, key, norm)\u001b[0m\n\u001b[1;32m    444\u001b[0m \u001b[0;34m\u001b[0m\u001b[0m\n\u001b[1;32m    445\u001b[0m         \"\"\"\n\u001b[0;32m--> 446\u001b[0;31m         \u001b[0mindex\u001b[0m \u001b[0;34m=\u001b[0m \u001b[0mself\u001b[0m\u001b[0;34m.\u001b[0m\u001b[0mget_index\u001b[0m\u001b[0;34m(\u001b[0m\u001b[0mkey\u001b[0m\u001b[0;34m)\u001b[0m\u001b[0;34m\u001b[0m\u001b[0;34m\u001b[0m\u001b[0m\n\u001b[0m\u001b[1;32m    447\u001b[0m         \u001b[0;32mif\u001b[0m \u001b[0mnorm\u001b[0m\u001b[0;34m:\u001b[0m\u001b[0;34m\u001b[0m\u001b[0;34m\u001b[0m\u001b[0m\n\u001b[1;32m    448\u001b[0m             \u001b[0mself\u001b[0m\u001b[0;34m.\u001b[0m\u001b[0mfill_norms\u001b[0m\u001b[0;34m(\u001b[0m\u001b[0;34m)\u001b[0m\u001b[0;34m\u001b[0m\u001b[0;34m\u001b[0m\u001b[0m\n",
            "\u001b[0;32m/usr/local/lib/python3.12/dist-packages/gensim/models/keyedvectors.py\u001b[0m in \u001b[0;36mget_index\u001b[0;34m(self, key, default)\u001b[0m\n\u001b[1;32m    418\u001b[0m             \u001b[0;32mreturn\u001b[0m \u001b[0mdefault\u001b[0m\u001b[0;34m\u001b[0m\u001b[0;34m\u001b[0m\u001b[0m\n\u001b[1;32m    419\u001b[0m         \u001b[0;32melse\u001b[0m\u001b[0;34m:\u001b[0m\u001b[0;34m\u001b[0m\u001b[0;34m\u001b[0m\u001b[0m\n\u001b[0;32m--> 420\u001b[0;31m             \u001b[0;32mraise\u001b[0m \u001b[0mKeyError\u001b[0m\u001b[0;34m(\u001b[0m\u001b[0;34mf\"Key '{key}' not present\"\u001b[0m\u001b[0;34m)\u001b[0m\u001b[0;34m\u001b[0m\u001b[0;34m\u001b[0m\u001b[0m\n\u001b[0m\u001b[1;32m    421\u001b[0m \u001b[0;34m\u001b[0m\u001b[0m\n\u001b[1;32m    422\u001b[0m     \u001b[0;32mdef\u001b[0m \u001b[0mget_vector\u001b[0m\u001b[0;34m(\u001b[0m\u001b[0mself\u001b[0m\u001b[0;34m,\u001b[0m \u001b[0mkey\u001b[0m\u001b[0;34m,\u001b[0m \u001b[0mnorm\u001b[0m\u001b[0;34m=\u001b[0m\u001b[0;32mFalse\u001b[0m\u001b[0;34m)\u001b[0m\u001b[0;34m:\u001b[0m\u001b[0;34m\u001b[0m\u001b[0;34m\u001b[0m\u001b[0m\n",
            "\u001b[0;31mKeyError\u001b[0m: \"Key 'тыгыдыкать_VERB' not present\""
          ]
        }
      ]
    },
    {
      "cell_type": "code",
      "source": [
        "#векторизация одного текста методом W2V\n",
        "vectors_word = []\n",
        "preprocessing_text = 'кот любить тыгыдыкать'\n",
        "doc = nlp(preprocessing_text)\n",
        "text_markup = [f'{token.text}_{token.pos_}' for token in doc]\n",
        "for i in text_markup:\n",
        "  if i in list(wv.index_to_key):\n",
        "    vectors_word.append(wv[i])\n",
        "  else:\n",
        "    vectors_word.append(np.zeros(300))\n",
        "vector_text = np.mean(vectors_word, axis = 0)"
      ],
      "metadata": {
        "id": "HYPhNaaj2aCU"
      },
      "execution_count": 14,
      "outputs": []
    },
    {
      "cell_type": "code",
      "source": [
        "#vector_text - вектор текста \"кот любит тыгыдыкать\"\n",
        "vector_text.shape"
      ],
      "metadata": {
        "colab": {
          "base_uri": "https://localhost:8080/"
        },
        "id": "akNEK3ed4L1D",
        "outputId": "55a7febe-140a-45f4-f394-74fcd39cbcce"
      },
      "execution_count": null,
      "outputs": [
        {
          "output_type": "execute_result",
          "data": {
            "text/plain": [
              "(300,)"
            ]
          },
          "metadata": {},
          "execution_count": 25
        }
      ]
    },
    {
      "cell_type": "markdown",
      "source": [
        "## Обучить W2V"
      ],
      "metadata": {
        "id": "bS4JUDCE-mzi"
      }
    },
    {
      "cell_type": "code",
      "source": [
        "!pip install pymorphy3 > None"
      ],
      "metadata": {
        "id": "F44WSb2fDTfy"
      },
      "execution_count": 17,
      "outputs": []
    },
    {
      "cell_type": "code",
      "source": [
        "import nltk\n",
        "import nltk.tokenize\n",
        "from string import punctuation\n",
        "from gensim.models import Word2Vec\n",
        "from pymorphy3 import MorphAnalyzer\n",
        "nltk.download('punkt_tab')"
      ],
      "metadata": {
        "colab": {
          "base_uri": "https://localhost:8080/"
        },
        "id": "jYagEz7c_u6a",
        "outputId": "cc880afa-6a21-474a-a74a-89c271fa3bf8"
      },
      "execution_count": 18,
      "outputs": [
        {
          "output_type": "stream",
          "name": "stderr",
          "text": [
            "[nltk_data] Downloading package punkt_tab to /root/nltk_data...\n",
            "[nltk_data]   Unzipping tokenizers/punkt_tab.zip.\n"
          ]
        },
        {
          "output_type": "execute_result",
          "data": {
            "text/plain": [
              "True"
            ]
          },
          "metadata": {},
          "execution_count": 18
        }
      ]
    },
    {
      "cell_type": "code",
      "source": [
        "corpus = ['кот любит мышей',\n",
        "          'птицы летают на юг',\n",
        "          'мыши любят сыр и боятся котов',\n",
        "          'могут ли птицы и мыши дружить?',\n",
        "          'некоторые коты боятся птиц, например ворон',\n",
        "          'вороны любят сыр! может быть ворона - мышь',\n",
        "          'солнечный день',\n",
        "          'днем птицы, коты и мыши гуляют на улице']"
      ],
      "metadata": {
        "id": "QCf-lxwI-wd0"
      },
      "execution_count": 19,
      "outputs": []
    },
    {
      "cell_type": "code",
      "source": [
        "#разбиваем на токены\n",
        "punctuations = list(punctuation)\n",
        "punkt = ['``','...',\"''\",'«','»','…','”','”','“','-','–','..']\n",
        "punctuations.extend(punkt)\n",
        "morph = MorphAnalyzer()\n",
        "\n",
        "\n",
        "def prep_text(text, morph = morph, punctuations = punctuations):\n",
        "    text_token = nltk.word_tokenize(text)\n",
        "    text_word=[morph.parse(x.lower())[0].normal_form for x in text_token if x not in punctuations]\n",
        "    return text_word\n",
        "\n",
        "X_token = [prep_text(text) for text in corpus]"
      ],
      "metadata": {
        "id": "G0yBh6I2_n5K"
      },
      "execution_count": 21,
      "outputs": []
    },
    {
      "cell_type": "code",
      "source": [
        "#предобработанный корпус\n",
        "X_token"
      ],
      "metadata": {
        "colab": {
          "base_uri": "https://localhost:8080/"
        },
        "id": "lEjxMFjrBJ4p",
        "outputId": "df89c18a-987d-4d30-a21c-4fba5db9fec1"
      },
      "execution_count": 22,
      "outputs": [
        {
          "output_type": "execute_result",
          "data": {
            "text/plain": [
              "[['кот', 'любить', 'мышь'],\n",
              " ['птица', 'летать', 'на', 'юг'],\n",
              " ['мышь', 'любить', 'сыр', 'и', 'бояться', 'кот'],\n",
              " ['мочь', 'ли', 'птица', 'и', 'мышь', 'дружить'],\n",
              " ['некоторый', 'кот', 'бояться', 'птица', 'например', 'ворон'],\n",
              " ['ворона', 'любить', 'сыр', 'мочь', 'быть', 'ворона', 'мышь'],\n",
              " ['солнечный', 'день'],\n",
              " ['день', 'птица', 'кот', 'и', 'мышь', 'гулять', 'на', 'улица']]"
            ]
          },
          "metadata": {},
          "execution_count": 22
        }
      ]
    },
    {
      "cell_type": "code",
      "source": [
        "#обучение модели Word2Vec\n",
        "#кол-во эпох влияет на качество обучения\n",
        "w2v_model = Word2Vec(sentences=X_token, vector_size=300, window=5, min_count=1, epochs=300)"
      ],
      "metadata": {
        "id": "XUQw9GDICrNK"
      },
      "execution_count": 30,
      "outputs": []
    },
    {
      "cell_type": "code",
      "source": [
        "vocab_size = len(w2v_model.wv.key_to_index)\n",
        "print(f\"Количество уникальных слов в словаре: {vocab_size}\")\n",
        "print(w2v_model.wv.key_to_index)"
      ],
      "metadata": {
        "colab": {
          "base_uri": "https://localhost:8080/"
        },
        "id": "yScEDCjCCyi_",
        "outputId": "090f8eab-6c3a-4aaf-b40d-20622296c9a9"
      },
      "execution_count": 31,
      "outputs": [
        {
          "output_type": "stream",
          "name": "stdout",
          "text": [
            "Количество уникальных слов в словаре: 22\n",
            "{'мышь': 0, 'кот': 1, 'птица': 2, 'любить': 3, 'и': 4, 'бояться': 5, 'на': 6, 'сыр': 7, 'мочь': 8, 'ворона': 9, 'день': 10, 'дружить': 11, 'ли': 12, 'гулять': 13, 'некоторый': 14, 'например': 15, 'ворон': 16, 'юг': 17, 'летать': 18, 'быть': 19, 'солнечный': 20, 'улица': 21}\n"
          ]
        }
      ]
    },
    {
      "cell_type": "code",
      "source": [
        "#получаем вектор слова\n",
        "w2v_model.wv['кот']"
      ],
      "metadata": {
        "colab": {
          "base_uri": "https://localhost:8080/"
        },
        "id": "yGBwkNzjDBgX",
        "outputId": "1312419d-6547-4cb9-af48-10300353ecf3"
      },
      "execution_count": 32,
      "outputs": [
        {
          "output_type": "execute_result",
          "data": {
            "text/plain": [
              "array([-2.1148380e-03,  4.2039035e-03, -1.3416180e-04, -9.8789053e-04,\n",
              "        4.2463711e-04, -2.5247240e-03,  1.7825308e-03,  4.0539484e-03,\n",
              "        1.4309428e-03, -3.3929320e-03,  4.9972013e-03,  4.0242294e-04,\n",
              "        6.7650812e-04, -5.4350350e-04,  2.0530245e-03, -2.4939498e-03,\n",
              "        4.4550039e-03, -1.6654634e-03, -2.5021788e-03,  2.0305952e-03,\n",
              "        8.0895465e-04, -1.4488455e-03,  3.8835476e-03,  4.5910412e-03,\n",
              "       -4.2848722e-03, -1.8323005e-04,  1.1686478e-03,  1.3638982e-03,\n",
              "        4.7635977e-04, -1.5732314e-03,  1.1414179e-03, -2.3777743e-03,\n",
              "       -3.7292539e-04, -1.2945401e-03,  1.3134262e-03,  1.9386509e-03,\n",
              "        3.4194840e-03, -2.6766453e-03, -3.4365652e-03,  3.0410518e-03,\n",
              "        2.1676125e-05,  1.2055533e-03,  3.0675295e-03, -1.4626076e-03,\n",
              "        2.1074805e-03,  9.3055947e-04,  8.6552254e-04, -1.2929395e-03,\n",
              "       -9.5233403e-04,  1.4325378e-04,  1.1318906e-03, -3.8145579e-05,\n",
              "       -4.5359144e-03, -2.4838168e-03, -1.3464352e-03, -3.4890705e-04,\n",
              "        1.5973184e-03,  1.9608175e-03,  2.4698535e-03, -1.5923579e-03,\n",
              "        1.9382854e-04,  1.5791777e-03,  2.2400199e-03,  9.1522688e-04,\n",
              "        9.4309699e-04, -8.6128607e-04, -8.1756857e-04,  3.6454170e-03,\n",
              "       -2.5725611e-03, -2.3698299e-03,  2.4397762e-03, -6.9858634e-04,\n",
              "        1.0493456e-03,  2.5470438e-03,  1.4816438e-03, -2.5224327e-03,\n",
              "       -1.7372699e-03,  3.1510566e-03, -2.7278694e-03,  2.6439587e-04,\n",
              "       -3.1704244e-03,  1.1332055e-03,  3.3628417e-04,  3.5472498e-03,\n",
              "       -5.9366424e-04, -1.8054916e-03,  3.3581909e-03,  7.8198436e-04,\n",
              "        1.6946851e-04, -2.1561999e-03, -2.5616142e-03, -2.1488136e-03,\n",
              "       -4.2176229e-04, -1.6227366e-03,  4.4748671e-03,  8.2070666e-04,\n",
              "        2.3133287e-03, -2.2890407e-03, -1.8514235e-03, -1.6610804e-03,\n",
              "       -1.9555828e-03,  1.4373439e-04, -3.0173003e-03,  5.5673736e-04,\n",
              "        5.2213832e-04,  7.7321258e-04, -2.7145283e-05,  1.0917145e-03,\n",
              "       -1.8786952e-03,  1.0592976e-03, -3.9507621e-03,  3.5568280e-04,\n",
              "       -2.3015456e-03,  1.6888246e-03, -1.1114080e-03, -6.5488933e-04,\n",
              "        1.2481798e-04,  2.8145378e-03,  1.7089348e-03, -2.7604329e-03,\n",
              "        1.3728677e-03, -1.9283970e-03,  3.9838017e-03,  1.6991762e-03,\n",
              "        3.3195550e-04,  2.0181709e-03, -2.5796683e-03,  1.3254174e-03,\n",
              "       -4.0901788e-03,  2.8295233e-03,  2.5922339e-03,  1.6473886e-03,\n",
              "        8.4887526e-04, -6.7454469e-03,  2.1988703e-03, -9.4125891e-04,\n",
              "       -1.5410734e-03,  6.7643845e-04, -1.7690193e-03, -4.7965415e-05,\n",
              "        7.2870241e-04, -2.4742321e-03, -3.3385442e-03,  3.5148463e-03,\n",
              "        2.5771947e-03, -2.9663609e-03,  2.5376445e-04, -1.5628018e-03,\n",
              "        2.7625577e-03, -2.5985842e-03,  1.7473693e-03, -7.9042441e-04,\n",
              "        3.6363592e-03, -2.7806081e-03, -2.1657965e-04, -1.3385267e-03,\n",
              "       -4.3269666e-03, -2.9219640e-03, -1.2267837e-03, -4.6762463e-04,\n",
              "        2.4576015e-03, -2.9993725e-03,  4.2731548e-04,  1.8821068e-03,\n",
              "        9.6854652e-05,  1.4774190e-03,  1.3125994e-03,  3.2521777e-03,\n",
              "       -1.0160622e-03,  3.5411825e-03, -3.1656122e-03,  1.3644618e-03,\n",
              "        2.8952942e-04,  9.0419810e-04,  1.3497920e-03,  1.5676393e-03,\n",
              "       -1.7280779e-03,  2.5647481e-03,  3.5281032e-03, -3.6286060e-03,\n",
              "       -4.1113347e-03, -2.0521495e-03, -1.1549122e-04, -1.2775511e-03,\n",
              "       -3.1926497e-03, -3.4149990e-03,  4.7343406e-03,  1.6406366e-03,\n",
              "       -2.4134296e-03, -2.3872873e-03,  3.5450161e-03, -1.4992274e-03,\n",
              "        1.0369644e-03, -1.8239198e-03,  3.7070757e-04, -3.7661274e-03,\n",
              "        1.1238875e-03,  1.5322469e-03, -7.0656074e-04,  1.1545360e-03,\n",
              "       -4.1275253e-03,  6.0555100e-04, -2.2797873e-04, -2.8824434e-03,\n",
              "       -1.1235703e-03, -3.5549878e-04,  2.4877263e-03,  1.8172706e-03,\n",
              "       -3.1701461e-03, -3.6058277e-03, -1.9029126e-03, -2.3430437e-03,\n",
              "       -1.2958159e-03, -3.5292532e-03,  5.4515596e-04, -3.7942727e-03,\n",
              "       -2.3534046e-03, -3.8843208e-03, -1.5019842e-03, -2.5272127e-03,\n",
              "       -2.6334692e-03,  4.2926046e-04,  3.0115752e-03,  6.8886275e-04,\n",
              "       -2.1816490e-03, -1.6935451e-03,  1.1401965e-03, -2.9237366e-03,\n",
              "        1.5607383e-04,  1.4678297e-03,  2.4605005e-03, -3.3529256e-03,\n",
              "       -1.9872454e-03, -2.8954400e-03, -6.8810879e-04,  4.1185413e-03,\n",
              "        1.6373119e-03,  3.2458131e-03,  2.0199467e-03, -2.1416906e-03,\n",
              "        3.7985786e-03, -3.2390854e-03, -1.8626289e-03, -1.1129613e-03,\n",
              "        1.4069169e-04, -2.4226930e-03, -1.0775523e-03,  1.6303563e-03,\n",
              "        2.0225366e-04,  3.6655911e-04,  1.7589508e-03, -2.3820519e-03,\n",
              "        2.9361795e-03,  1.9429870e-03, -3.7902205e-03, -6.0618494e-04,\n",
              "        5.4877130e-03, -1.9810437e-03, -3.9802119e-03, -3.1421215e-03,\n",
              "        2.8853579e-03, -9.5600804e-04,  5.0194883e-03, -3.1666677e-03,\n",
              "       -1.3808317e-03,  1.1363196e-03,  1.2852561e-03,  1.2263105e-03,\n",
              "       -5.0062169e-03, -1.6854279e-03,  1.1121449e-03,  2.4217037e-03,\n",
              "        3.7138620e-03,  2.8141353e-03,  4.2834264e-04,  1.8154680e-03,\n",
              "       -1.7751070e-03,  1.5556071e-03, -1.2277472e-03,  1.9714474e-03,\n",
              "        2.1951632e-03, -2.0106670e-03,  9.0338686e-04, -2.8009035e-03,\n",
              "       -2.1594549e-04, -2.8347014e-03, -1.9698536e-03,  4.2965198e-03,\n",
              "       -6.3730997e-04,  1.8372276e-03,  4.0074103e-03,  4.2768158e-03,\n",
              "       -1.1856336e-03, -4.0745709e-04,  4.3314476e-03,  3.6214371e-03,\n",
              "        3.4572024e-04, -2.8880439e-03,  1.7717661e-03, -3.3641814e-03],\n",
              "      dtype=float32)"
            ]
          },
          "metadata": {},
          "execution_count": 32
        }
      ]
    },
    {
      "cell_type": "code",
      "source": [
        "#посмотреть ближайшие слова\n",
        "w2v_model.wv.most_similar('кот')"
      ],
      "metadata": {
        "colab": {
          "base_uri": "https://localhost:8080/"
        },
        "outputId": "42f9fc9e-1ca8-4ba3-bd32-ab7f3d25c1bf",
        "id": "FHQX4nBYCtIF"
      },
      "execution_count": 33,
      "outputs": [
        {
          "output_type": "execute_result",
          "data": {
            "text/plain": [
              "[('птица', 0.4229794144630432),\n",
              " ('мышь', 0.3587675094604492),\n",
              " ('гулять', 0.3417969346046448),\n",
              " ('мочь', 0.30903661251068115),\n",
              " ('и', 0.3019723892211914),\n",
              " ('день', 0.2887600362300873),\n",
              " ('например', 0.2844282388687134),\n",
              " ('ли', 0.2627837359905243),\n",
              " ('бояться', 0.2537650167942047),\n",
              " ('ворона', 0.23934033513069153)]"
            ]
          },
          "metadata": {},
          "execution_count": 33
        }
      ]
    },
    {
      "cell_type": "code",
      "source": [
        "#посмотреть косинусную близость двух слов\n",
        "w2v_model.wv.similarity('кот', 'мышь')"
      ],
      "metadata": {
        "colab": {
          "base_uri": "https://localhost:8080/"
        },
        "outputId": "8e2d7190-fe47-483f-ad6b-51fac026514b",
        "id": "SnUkZ6ReCtIG"
      },
      "execution_count": 34,
      "outputs": [
        {
          "output_type": "execute_result",
          "data": {
            "text/plain": [
              "0.3587675"
            ]
          },
          "metadata": {},
          "execution_count": 34
        }
      ]
    },
    {
      "cell_type": "code",
      "source": [
        "#посмотреть косинусную близость двух слов\n",
        "w2v_model.wv.similarity('кот', 'солнечный')"
      ],
      "metadata": {
        "colab": {
          "base_uri": "https://localhost:8080/"
        },
        "id": "P-SnCsmGC06G",
        "outputId": "a6ced74f-8653-48e1-e54c-af20f2d562af"
      },
      "execution_count": 35,
      "outputs": [
        {
          "output_type": "execute_result",
          "data": {
            "text/plain": [
              "0.1510926"
            ]
          },
          "metadata": {},
          "execution_count": 35
        }
      ]
    },
    {
      "cell_type": "markdown",
      "source": [
        "Далее необходимо векторизовать корпус текстов с помощью обученной модели. Код векторизации аналогичен как при использовании предобученных моделей"
      ],
      "metadata": {
        "id": "HkRRyNW8GoIQ"
      }
    },
    {
      "cell_type": "markdown",
      "source": [
        "## сохранение предобученной модели Word2Vec из gensim"
      ],
      "metadata": {
        "id": "7SmaOpDtHFJc"
      }
    },
    {
      "cell_type": "code",
      "source": [
        "#сохранить предобученную вашу модель W2V\n",
        "w2v_model.save('/content/drive/MyDrive/W2V_pretrained.bin')"
      ],
      "metadata": {
        "id": "T0GdzN1DC7s2"
      },
      "execution_count": null,
      "outputs": []
    },
    {
      "cell_type": "code",
      "source": [
        "#загрузить предобученную модель W2V\n",
        "loaded_model = Word2Vec.load('/content/drive/MyDrive/W2V_pretrained.bin')"
      ],
      "metadata": {
        "id": "0VDTfMXJHenx"
      },
      "execution_count": null,
      "outputs": []
    },
    {
      "cell_type": "code",
      "source": [
        "#проверим что все работает и попробуем векторизовать слово\n",
        "loaded_model.wv['кот']"
      ],
      "metadata": {
        "colab": {
          "base_uri": "https://localhost:8080/"
        },
        "id": "auhFeHsUHraF",
        "outputId": "1041f2fa-871c-4f7c-c143-4d531743ae32"
      },
      "execution_count": null,
      "outputs": [
        {
          "output_type": "execute_result",
          "data": {
            "text/plain": [
              "array([-2.1148380e-03,  4.2039035e-03, -1.3416180e-04, -9.8789053e-04,\n",
              "        4.2463711e-04, -2.5247240e-03,  1.7825308e-03,  4.0539484e-03,\n",
              "        1.4309428e-03, -3.3929320e-03,  4.9972013e-03,  4.0242294e-04,\n",
              "        6.7650812e-04, -5.4350350e-04,  2.0530245e-03, -2.4939498e-03,\n",
              "        4.4550039e-03, -1.6654634e-03, -2.5021788e-03,  2.0305952e-03,\n",
              "        8.0895465e-04, -1.4488455e-03,  3.8835476e-03,  4.5910412e-03,\n",
              "       -4.2848722e-03, -1.8323005e-04,  1.1686478e-03,  1.3638982e-03,\n",
              "        4.7635977e-04, -1.5732314e-03,  1.1414179e-03, -2.3777743e-03,\n",
              "       -3.7292539e-04, -1.2945401e-03,  1.3134262e-03,  1.9386509e-03,\n",
              "        3.4194840e-03, -2.6766453e-03, -3.4365652e-03,  3.0410518e-03,\n",
              "        2.1676125e-05,  1.2055533e-03,  3.0675295e-03, -1.4626076e-03,\n",
              "        2.1074805e-03,  9.3055947e-04,  8.6552254e-04, -1.2929395e-03,\n",
              "       -9.5233403e-04,  1.4325378e-04,  1.1318906e-03, -3.8145579e-05,\n",
              "       -4.5359144e-03, -2.4838168e-03, -1.3464352e-03, -3.4890705e-04,\n",
              "        1.5973184e-03,  1.9608175e-03,  2.4698535e-03, -1.5923579e-03,\n",
              "        1.9382854e-04,  1.5791777e-03,  2.2400199e-03,  9.1522688e-04,\n",
              "        9.4309699e-04, -8.6128607e-04, -8.1756857e-04,  3.6454170e-03,\n",
              "       -2.5725611e-03, -2.3698299e-03,  2.4397762e-03, -6.9858634e-04,\n",
              "        1.0493456e-03,  2.5470438e-03,  1.4816438e-03, -2.5224327e-03,\n",
              "       -1.7372699e-03,  3.1510566e-03, -2.7278694e-03,  2.6439587e-04,\n",
              "       -3.1704244e-03,  1.1332055e-03,  3.3628417e-04,  3.5472498e-03,\n",
              "       -5.9366424e-04, -1.8054916e-03,  3.3581909e-03,  7.8198436e-04,\n",
              "        1.6946851e-04, -2.1561999e-03, -2.5616142e-03, -2.1488136e-03,\n",
              "       -4.2176229e-04, -1.6227366e-03,  4.4748671e-03,  8.2070666e-04,\n",
              "        2.3133287e-03, -2.2890407e-03, -1.8514235e-03, -1.6610804e-03,\n",
              "       -1.9555828e-03,  1.4373439e-04, -3.0173003e-03,  5.5673736e-04,\n",
              "        5.2213832e-04,  7.7321258e-04, -2.7145283e-05,  1.0917145e-03,\n",
              "       -1.8786952e-03,  1.0592976e-03, -3.9507621e-03,  3.5568280e-04,\n",
              "       -2.3015456e-03,  1.6888246e-03, -1.1114080e-03, -6.5488933e-04,\n",
              "        1.2481798e-04,  2.8145378e-03,  1.7089348e-03, -2.7604329e-03,\n",
              "        1.3728677e-03, -1.9283970e-03,  3.9838017e-03,  1.6991762e-03,\n",
              "        3.3195550e-04,  2.0181709e-03, -2.5796683e-03,  1.3254174e-03,\n",
              "       -4.0901788e-03,  2.8295233e-03,  2.5922339e-03,  1.6473886e-03,\n",
              "        8.4887526e-04, -6.7454469e-03,  2.1988703e-03, -9.4125891e-04,\n",
              "       -1.5410734e-03,  6.7643845e-04, -1.7690193e-03, -4.7965415e-05,\n",
              "        7.2870241e-04, -2.4742321e-03, -3.3385442e-03,  3.5148463e-03,\n",
              "        2.5771947e-03, -2.9663609e-03,  2.5376445e-04, -1.5628018e-03,\n",
              "        2.7625577e-03, -2.5985842e-03,  1.7473693e-03, -7.9042441e-04,\n",
              "        3.6363592e-03, -2.7806081e-03, -2.1657965e-04, -1.3385267e-03,\n",
              "       -4.3269666e-03, -2.9219640e-03, -1.2267837e-03, -4.6762463e-04,\n",
              "        2.4576015e-03, -2.9993725e-03,  4.2731548e-04,  1.8821068e-03,\n",
              "        9.6854652e-05,  1.4774190e-03,  1.3125994e-03,  3.2521777e-03,\n",
              "       -1.0160622e-03,  3.5411825e-03, -3.1656122e-03,  1.3644618e-03,\n",
              "        2.8952942e-04,  9.0419810e-04,  1.3497920e-03,  1.5676393e-03,\n",
              "       -1.7280779e-03,  2.5647481e-03,  3.5281032e-03, -3.6286060e-03,\n",
              "       -4.1113347e-03, -2.0521495e-03, -1.1549122e-04, -1.2775511e-03,\n",
              "       -3.1926497e-03, -3.4149990e-03,  4.7343406e-03,  1.6406366e-03,\n",
              "       -2.4134296e-03, -2.3872873e-03,  3.5450161e-03, -1.4992274e-03,\n",
              "        1.0369644e-03, -1.8239198e-03,  3.7070757e-04, -3.7661274e-03,\n",
              "        1.1238875e-03,  1.5322469e-03, -7.0656074e-04,  1.1545360e-03,\n",
              "       -4.1275253e-03,  6.0555100e-04, -2.2797873e-04, -2.8824434e-03,\n",
              "       -1.1235703e-03, -3.5549878e-04,  2.4877263e-03,  1.8172706e-03,\n",
              "       -3.1701461e-03, -3.6058277e-03, -1.9029126e-03, -2.3430437e-03,\n",
              "       -1.2958159e-03, -3.5292532e-03,  5.4515596e-04, -3.7942727e-03,\n",
              "       -2.3534046e-03, -3.8843208e-03, -1.5019842e-03, -2.5272127e-03,\n",
              "       -2.6334692e-03,  4.2926046e-04,  3.0115752e-03,  6.8886275e-04,\n",
              "       -2.1816490e-03, -1.6935451e-03,  1.1401965e-03, -2.9237366e-03,\n",
              "        1.5607383e-04,  1.4678297e-03,  2.4605005e-03, -3.3529256e-03,\n",
              "       -1.9872454e-03, -2.8954400e-03, -6.8810879e-04,  4.1185413e-03,\n",
              "        1.6373119e-03,  3.2458131e-03,  2.0199467e-03, -2.1416906e-03,\n",
              "        3.7985786e-03, -3.2390854e-03, -1.8626289e-03, -1.1129613e-03,\n",
              "        1.4069169e-04, -2.4226930e-03, -1.0775523e-03,  1.6303563e-03,\n",
              "        2.0225366e-04,  3.6655911e-04,  1.7589508e-03, -2.3820519e-03,\n",
              "        2.9361795e-03,  1.9429870e-03, -3.7902205e-03, -6.0618494e-04,\n",
              "        5.4877130e-03, -1.9810437e-03, -3.9802119e-03, -3.1421215e-03,\n",
              "        2.8853579e-03, -9.5600804e-04,  5.0194883e-03, -3.1666677e-03,\n",
              "       -1.3808317e-03,  1.1363196e-03,  1.2852561e-03,  1.2263105e-03,\n",
              "       -5.0062169e-03, -1.6854279e-03,  1.1121449e-03,  2.4217037e-03,\n",
              "        3.7138620e-03,  2.8141353e-03,  4.2834264e-04,  1.8154680e-03,\n",
              "       -1.7751070e-03,  1.5556071e-03, -1.2277472e-03,  1.9714474e-03,\n",
              "        2.1951632e-03, -2.0106670e-03,  9.0338686e-04, -2.8009035e-03,\n",
              "       -2.1594549e-04, -2.8347014e-03, -1.9698536e-03,  4.2965198e-03,\n",
              "       -6.3730997e-04,  1.8372276e-03,  4.0074103e-03,  4.2768158e-03,\n",
              "       -1.1856336e-03, -4.0745709e-04,  4.3314476e-03,  3.6214371e-03,\n",
              "        3.4572024e-04, -2.8880439e-03,  1.7717661e-03, -3.3641814e-03],\n",
              "      dtype=float32)"
            ]
          },
          "metadata": {},
          "execution_count": 39
        }
      ]
    },
    {
      "cell_type": "markdown",
      "source": [
        "# BERT"
      ],
      "metadata": {
        "id": "ocGyhI5fgJm_"
      }
    },
    {
      "cell_type": "code",
      "source": [
        "from transformers import BertTokenizer, BertModel\n",
        "import torch"
      ],
      "metadata": {
        "id": "kkQe999mHy8o"
      },
      "execution_count": 36,
      "outputs": []
    },
    {
      "cell_type": "code",
      "source": [
        "# Инициализация токенизатора и модели\n",
        "#используется мультиязычная модель, т.к. на включает в том числе и русский язык\n",
        "tokenizer = BertTokenizer.from_pretrained('bert-base-multilingual-cased')\n",
        "model = BertModel.from_pretrained('bert-base-multilingual-cased')"
      ],
      "metadata": {
        "colab": {
          "base_uri": "https://localhost:8080/",
          "height": 301,
          "referenced_widgets": [
            "78028d63218443f6a16b0b3098b512f0",
            "7e62f8e2d88145daa763a1e710a99e0d",
            "e51dab4be2ed4a788285fba07419d7ea",
            "a11bea4f1a944b179490d0c3d797433c",
            "13349c79020a43c69c00316ac318dac5",
            "b699cb4157e24c9dba971a6e278be0e3",
            "e4803a4888c4461786b56ce144c80b2b",
            "e1fdca03b6ad4f079370d23d4e670a6c",
            "d3ee1bc8f37449a4b119c06fff62209a",
            "4322f6272444492a84f28e01a6b99ab5",
            "f760f0a93e274207beb725fc17f89b23",
            "5bc4432b54d84edb96f9396c53e67c15",
            "401051bc2ee24113a050a0e0581456a1",
            "09266b4eb9614dbe8d23496bfe55726f",
            "af5ac5bb93d34673a306f4c5772de4dd",
            "efb1fbcb943c427180536ae6cab3f510",
            "6874bd5b40b44343941cd92b9e8e6016",
            "6d62ae6478234ca98b76570ae6ac70e2",
            "15e877216cc44851b112f1dddd14af54",
            "be22530db52548069a1dce6a66058e4a",
            "220d957a91e942f08280e086e9f1c5f9",
            "720723d40beb4ddcb4319c35b424bf9b",
            "1f9739f089524ae1b2f7a3a0b9edf0d5",
            "61493272705541538b56ed1e2258b022",
            "6f3e1f185583416986666764d0c3ea04",
            "637b7962b4ca44c491c3f060ebbc3a05",
            "54f4e21f90da42fda5f1f71dc1ce9f52",
            "22077e1475ba4da4a89ebe1650421625",
            "f98b6f773e8246b0b65353e098e9fede",
            "633474736912409e8d219eca3ab70266",
            "77c113a725d4495daeb5af72208a6acf",
            "8a16d9e148b0432eab9f9956283d44b9",
            "9ef776ca207e4403842b3e9f109e0bb1",
            "4dc4b5369bd64d94b4baf1bbd475e84f",
            "adeb87af6dda42ec913b5b02d62129c5",
            "ed47ccbe76dc453888d829bd5f9f34a6",
            "3b7188cdb4124708ae7ae4b38a6e2cef",
            "dc71328512224992ac4f09ed825505cc",
            "18c118089eef484f8bd028ae2371448e",
            "db0524004b394413b51be77c74ce1a31",
            "bcb26ea1b8544cacbd795f3fc02922eb",
            "7ec1e5b62ede4437ae352424fd2f2391",
            "0f92fce640ad45b7a9a3366781568241",
            "b01c0494bca145a88856b17494b03934",
            "3dab247c76fa4cdbb3967053d9a45fa9",
            "d92b0228070e44129c33b07133b02f23",
            "8904a9c76117455885d4a86377599ebf",
            "71a16d2cf78646b09bc951c8c107103c",
            "dd89942a1e894ce7ac1232feafb3d19f",
            "89a513bcee084c12b4d41eeac03cb497",
            "ca2731a9e50a46adaafeb4557c523d59",
            "15a4af95f90d43ecbe3d556142cbef54",
            "a59e6e7b52544dadadffff4b00d142bf",
            "fb328e64a79b47e29c8023e800ab3d28",
            "6d0a6265d0f94413b321c2466829bc3a"
          ]
        },
        "id": "lJP3rwvOhBcb",
        "outputId": "3e2128c8-3df9-4c27-bdcb-68582d5265a1"
      },
      "execution_count": 37,
      "outputs": [
        {
          "output_type": "stream",
          "name": "stderr",
          "text": [
            "/usr/local/lib/python3.12/dist-packages/huggingface_hub/utils/_auth.py:94: UserWarning: \n",
            "The secret `HF_TOKEN` does not exist in your Colab secrets.\n",
            "To authenticate with the Hugging Face Hub, create a token in your settings tab (https://huggingface.co/settings/tokens), set it as secret in your Google Colab and restart your session.\n",
            "You will be able to reuse this secret in all of your notebooks.\n",
            "Please note that authentication is recommended but still optional to access public models or datasets.\n",
            "  warnings.warn(\n"
          ]
        },
        {
          "output_type": "display_data",
          "data": {
            "text/plain": [
              "tokenizer_config.json:   0%|          | 0.00/49.0 [00:00<?, ?B/s]"
            ],
            "application/vnd.jupyter.widget-view+json": {
              "version_major": 2,
              "version_minor": 0,
              "model_id": "78028d63218443f6a16b0b3098b512f0"
            }
          },
          "metadata": {}
        },
        {
          "output_type": "display_data",
          "data": {
            "text/plain": [
              "vocab.txt:   0%|          | 0.00/996k [00:00<?, ?B/s]"
            ],
            "application/vnd.jupyter.widget-view+json": {
              "version_major": 2,
              "version_minor": 0,
              "model_id": "5bc4432b54d84edb96f9396c53e67c15"
            }
          },
          "metadata": {}
        },
        {
          "output_type": "display_data",
          "data": {
            "text/plain": [
              "tokenizer.json:   0%|          | 0.00/1.96M [00:00<?, ?B/s]"
            ],
            "application/vnd.jupyter.widget-view+json": {
              "version_major": 2,
              "version_minor": 0,
              "model_id": "1f9739f089524ae1b2f7a3a0b9edf0d5"
            }
          },
          "metadata": {}
        },
        {
          "output_type": "display_data",
          "data": {
            "text/plain": [
              "config.json:   0%|          | 0.00/625 [00:00<?, ?B/s]"
            ],
            "application/vnd.jupyter.widget-view+json": {
              "version_major": 2,
              "version_minor": 0,
              "model_id": "4dc4b5369bd64d94b4baf1bbd475e84f"
            }
          },
          "metadata": {}
        },
        {
          "output_type": "display_data",
          "data": {
            "text/plain": [
              "model.safetensors:   0%|          | 0.00/714M [00:00<?, ?B/s]"
            ],
            "application/vnd.jupyter.widget-view+json": {
              "version_major": 2,
              "version_minor": 0,
              "model_id": "3dab247c76fa4cdbb3967053d9a45fa9"
            }
          },
          "metadata": {}
        }
      ]
    },
    {
      "cell_type": "code",
      "source": [
        "#посмотрим отдельно как происходит токенизация\n",
        "tokens = tokenizer.tokenize('кот любит тыгыдыкать.')\n",
        "print(tokens)"
      ],
      "metadata": {
        "colab": {
          "base_uri": "https://localhost:8080/"
        },
        "id": "UsbQhUr3l0s2",
        "outputId": "9aae6a63-ef69-42a1-8e09-3f4391927b79"
      },
      "execution_count": 38,
      "outputs": [
        {
          "output_type": "stream",
          "name": "stdout",
          "text": [
            "['ко', '##т', 'л', '##ю', '##бит', 'ты', '##гы', '##дык', '##ать', '.']\n"
          ]
        }
      ]
    },
    {
      "cell_type": "code",
      "source": [
        "# Пример текста на русском языке\n",
        "texts = [\n",
        "    'кот любит мышей',\n",
        "    'птицы летают на юг',\n",
        "    'коты любят тыгыдыкать'\n",
        "]"
      ],
      "metadata": {
        "id": "tfvi0cJPhKCU"
      },
      "execution_count": 40,
      "outputs": []
    },
    {
      "cell_type": "code",
      "source": [
        "# Векторизация текста\n",
        "def get_text_vector(text, type = 'cls'):\n",
        "    inputs = tokenizer(text, return_tensors='pt', truncation=True, padding=True)\n",
        "    with torch.no_grad():\n",
        "        outputs = model(**inputs)\n",
        "    # Получаем вектор CLS токена\n",
        "    if type == 'cls':\n",
        "      cls_vector = outputs.last_hidden_state[0, 0, :].numpy()\n",
        "      return cls_vector\n",
        "    #другой вариант\n",
        "    # Вычисляем среднее значение всех токенов по последней скрытой активации\n",
        "    elif type == 'mean':\n",
        "      mean_pooling = outputs.last_hidden_state.mean(dim=1)[0]\n",
        "      return mean_pooling"
      ],
      "metadata": {
        "id": "KOzCx16HhODo"
      },
      "execution_count": 41,
      "outputs": []
    },
    {
      "cell_type": "code",
      "source": [
        "# Получение векторов\n",
        "for text in texts:\n",
        "    vector = get_text_vector(text, type = 'cls')\n",
        "    print(f\"Размер вектора  текста: '{text}'\\n{vector.shape}\\n\")\n",
        "    print(f\"Вектор для текста: '{text}'\\n{vector}\\n\")"
      ],
      "metadata": {
        "colab": {
          "base_uri": "https://localhost:8080/"
        },
        "id": "4-JLd9dPhkpZ",
        "outputId": "22959687-5239-4835-a5ba-cb67f7d7fd75"
      },
      "execution_count": 42,
      "outputs": [
        {
          "output_type": "stream",
          "name": "stdout",
          "text": [
            "Размер вектора  текста: 'кот любит мышей'\n",
            "(768,)\n",
            "\n",
            "Вектор для текста: 'кот любит мышей'\n",
            "[-1.37014896e-01 -8.00623149e-02  6.14902258e-01  2.28503555e-01\n",
            "  3.62713307e-01 -7.39555433e-02  1.03374552e-02 -7.12282881e-02\n",
            "  6.41911253e-02  1.86232433e-01  3.73502076e-01 -6.86442256e-02\n",
            "  1.47607118e-01  3.24297622e-02 -9.33325052e-01 -1.35031596e-01\n",
            "  7.14263916e-02  4.00312692e-01 -3.16995825e-03  1.50802702e-01\n",
            "  3.46922427e-01 -3.08660548e-02 -1.59899965e-01 -7.10832179e-02\n",
            "  1.57326624e-01 -3.22818488e-01 -3.24684620e-01  7.82690495e-02\n",
            "  3.50304574e-01  2.57902801e-01  3.66466194e-01 -1.80741727e-01\n",
            "  1.76084876e-01  1.39888087e-02  7.46506825e-02  1.79676935e-01\n",
            " -1.90232885e+00 -2.41087049e-01 -1.37216404e-01 -4.62440923e-02\n",
            " -4.01147485e-01  2.16945857e-01  7.19927102e-02  7.05852881e-02\n",
            " -4.53183763e-02  1.17018700e+00 -1.95219219e-01  1.16087571e-01\n",
            "  1.40731955e+00 -5.80027819e-01  2.72459120e-01 -4.05383110e-01\n",
            " -3.15233432e-02 -1.52278864e+00  1.76017672e-01  9.40189511e-02\n",
            "  1.07657872e-01 -1.02829915e-02  1.68309137e-01  1.48360610e-01\n",
            "  3.98791805e-02  1.14490367e-01  8.87008011e-02  2.05679387e-01\n",
            " -3.51966202e-01 -6.96763545e-02 -3.00281793e-02  1.21919163e-01\n",
            "  5.02191996e-03  4.72290605e-01  1.01957619e-01  1.15304038e-01\n",
            "  2.06541680e-02  7.63267577e-02 -8.69813263e-02 -9.73157957e-02\n",
            "  3.13765675e-01  4.78334539e-02 -6.93195388e-02 -2.51771957e-01\n",
            "  1.28321573e-01  2.60718822e-01 -1.64924145e-01  7.12198243e-02\n",
            " -1.02335468e-01 -1.51303470e-01 -1.29378825e-01 -3.20779644e-02\n",
            " -3.11879396e-01 -1.60283402e-01 -1.88283935e-01 -4.98614982e-02\n",
            " -7.09592581e-01  1.94314234e-02 -2.81305671e-01 -9.00320232e-01\n",
            "  3.17688175e-02  2.22487152e-02  1.44446895e-01 -1.83566183e-01\n",
            " -2.00224951e-01  1.67016792e+00  2.28430331e-01  1.96990967e-01\n",
            " -3.05643678e+00 -7.36040398e-02 -2.48704683e-02 -7.68401548e-02\n",
            "  5.10482430e-01 -4.69643772e-02  3.55746895e-01 -8.01179931e-02\n",
            " -3.92769612e-02  2.22870312e-03  4.33296449e-02  3.24775688e-02\n",
            " -8.32246244e-02 -2.00004876e-01 -3.40922862e-01 -9.79238376e-02\n",
            "  4.09823470e-02 -9.23675075e-02  1.76009044e-01 -2.96697676e-01\n",
            "  5.87001489e-03  2.41049588e-01  3.84905636e-01 -2.50368923e-01\n",
            "  2.55782306e-01  8.93199027e-01 -2.25348882e-02  2.13794756e+00\n",
            "  8.21783692e-02 -2.59996831e-01  3.49911451e-01  1.61572480e+00\n",
            "  1.38957322e-01  1.33867979e-01  5.73292077e-02  1.71284556e-01\n",
            " -2.36480329e-02 -2.59450972e-01 -1.49615444e-02 -4.21016484e-01\n",
            "  9.56653133e-02 -1.68520808e-02  8.17989781e-02  2.25319684e-01\n",
            " -1.71701401e-01 -1.17184296e-01  2.01505527e-01 -3.21809739e-01\n",
            "  1.46477118e-01  6.61441218e-03 -1.25924468e-01  2.72520967e-02\n",
            " -1.79825529e-01 -1.74403280e-01 -3.22732292e-02  2.92015076e-01\n",
            "  1.70049953e+00  2.34671623e-01 -1.46603540e-01  4.32341576e-01\n",
            "  1.03994131e-01  4.58879583e-02  2.39756703e-02  2.00581118e-01\n",
            " -2.69058257e-01 -3.43796998e-01 -4.19934392e-01  2.50999462e-02\n",
            "  3.13257456e-01  3.07734795e-02  2.12521404e-01  4.92316298e-03\n",
            " -1.87236462e-02 -2.63750762e-01 -2.14091763e-01 -1.11875413e-02\n",
            " -1.09870121e-01 -2.19887425e-03 -1.99942037e-01 -6.82531968e-02\n",
            "  7.49901496e-03  2.56801039e-01 -1.62434101e-01 -6.51461333e-02\n",
            " -9.97342765e-02  2.28114352e-01  2.17556193e-01  2.33586133e-01\n",
            " -1.37397453e-01 -2.53528468e-02 -2.05110032e-02  1.01363234e-01\n",
            " -5.03777468e-04  1.00030780e-01  2.99865995e-02  9.41924602e-02\n",
            "  8.13507661e-02  3.09411615e-01 -6.69703335e-02 -2.47330174e-01\n",
            "  6.49899840e-02  5.68841338e-01  5.60394153e-02 -8.62577558e-02\n",
            "  7.27941096e-02  3.16501796e-01 -4.13214006e-02  9.05266628e-02\n",
            "  8.07144344e-01  2.00364858e-01  3.38168859e-01  6.04547709e-02\n",
            " -3.38307619e-02 -8.88170376e-02  1.70745313e-01 -1.97718227e+00\n",
            " -7.81218149e-03  7.03632459e-02 -1.20556481e-01  1.52733371e-01\n",
            " -6.32383451e-02  1.24608383e-01 -1.58398107e-01  3.72990876e-01\n",
            "  4.14031237e-01 -9.05789621e-03  5.41235991e-02 -1.12536527e-01\n",
            "  2.16936693e-02 -1.55687499e+00  3.39859421e-03 -1.12195097e-01\n",
            "  1.27317667e-01 -1.44314304e-01 -1.95508853e-01  2.05779344e-01\n",
            "  3.23573165e-02  5.28711304e-02  2.11546198e-01 -2.78969221e-02\n",
            "  2.75580466e-01 -3.71428251e-01  9.19835210e-01 -6.62943199e-02\n",
            "  1.12430714e-01 -5.44106424e-01  3.95224243e-03  1.09968938e-01\n",
            "  3.00311267e-01 -2.43455842e-01  7.50954449e-02 -1.54975489e-01\n",
            "  1.18485592e-01  7.78425634e-02  3.64420950e-01 -1.21330753e-01\n",
            " -2.22292796e-01 -5.98440282e-02 -1.71689853e-01 -4.18324172e-01\n",
            " -1.92143157e-01  9.34766605e-02  5.71421720e-02  1.52931139e-01\n",
            "  5.49472384e-02  6.24128282e-02  6.33645356e-02 -1.87289998e-01\n",
            "  5.07868789e-02 -1.42026439e-01  2.69060340e-02  2.57227063e-01\n",
            "  7.74855986e-02  2.50336885e-01 -1.41835198e-01  4.72399481e-02\n",
            "  5.77745289e-02  6.42235503e-02  1.46934509e-01  1.77164450e-01\n",
            "  3.46632063e-01  1.51118457e-01  1.09019831e-01 -1.55357167e-01\n",
            " -6.79160655e-01 -9.68347609e-01 -1.40746742e-01  1.58843711e-01\n",
            "  1.86998233e-01 -4.16579545e-02 -7.55394101e-02 -2.48035640e-01\n",
            " -1.42028078e-01 -8.21286887e-02 -2.91920543e-01  1.65192932e-01\n",
            "  8.35483149e-02 -1.94208428e-01  1.85814440e-01  1.50306476e-02\n",
            " -1.64512384e+00  1.49486773e-02 -6.63696602e-02  9.97322127e-02\n",
            "  1.60976246e-01  2.23600298e-01 -2.68462449e-01 -2.56539825e-02\n",
            " -7.18063628e-03 -6.05309531e-02 -2.19065592e-01 -1.91935375e-01\n",
            "  1.03966951e-01  6.39490262e-02 -7.48962443e-03 -1.08512631e-02\n",
            "  4.18225601e-02 -1.87633002e+00  2.87005566e-02  6.21578516e-03\n",
            "  9.71927345e-02 -1.87875062e-01 -2.28457302e-01  1.19229712e-01\n",
            "  1.11819588e-01  2.34084770e-01  7.02742413e-02 -4.91862232e-03\n",
            " -4.03933180e-03 -3.08378398e-01 -1.40720919e-01  6.81685805e-02\n",
            " -1.04596481e-01 -1.66070357e-01 -1.45751461e-01 -1.56938046e-01\n",
            " -9.16459113e-02  2.61145383e-01  7.91904554e-02  5.20754093e-03\n",
            "  3.36572468e-01  2.41065010e-01  4.54292260e-02 -2.12659165e-01\n",
            "  8.92951563e-02  4.25379157e-01  6.72172606e-02  2.46948004e-01\n",
            " -5.48235297e-01 -1.08716398e-01  3.62880975e-02  4.08724509e-02\n",
            " -2.68543959e-02  1.29016206e-01 -2.36170560e-01  4.46192861e-01\n",
            " -1.60611451e-01 -5.55682592e-02 -9.21048597e-02 -3.09650183e-01\n",
            " -3.52728516e-02  7.26712197e-02 -6.20975383e-02 -4.15298231e-02\n",
            "  6.43000528e-02  3.76439877e-02  1.82968289e-01  3.25534135e-01\n",
            " -2.43223175e-01 -6.22676015e-01 -8.14761296e-02 -2.28968725e-01\n",
            "  2.68925101e-01 -2.36594334e-01 -6.60807937e-02 -4.45784293e-02\n",
            " -2.89529935e-02  2.48649158e-02 -1.27747786e+00  1.80486128e-01\n",
            "  2.72596180e-01 -1.56072879e+00  1.36766369e-02 -2.08134592e-01\n",
            " -3.95940363e-01  8.12631845e-02  1.38909161e-01 -1.26186041e-02\n",
            "  4.20279428e-02 -4.31773923e-02 -9.86779407e-02 -8.24814215e-02\n",
            " -1.22558512e-01 -3.01431537e-01 -1.38616357e-02  1.30874678e-01\n",
            "  9.10771489e-02 -1.70037404e-01 -8.01038817e-02 -1.72869325e-01\n",
            "  6.56567588e-02 -1.72934854e+00 -2.23899707e-02  4.15121717e-03\n",
            "  1.22747580e-02 -2.59599388e-01  9.26482528e-02 -1.49769545e-01\n",
            " -1.50666072e-03  1.25960320e-01  1.01592742e-01  1.93237290e-01\n",
            " -4.24843669e-01  1.19196519e-01 -1.06003001e-01 -5.75620234e-01\n",
            "  1.56126648e-01  3.53301913e-01 -2.55356491e-01 -1.90075740e-01\n",
            "  1.07448228e-01  2.11397037e-01  1.44298702e-01 -3.56792480e-01\n",
            "  2.73366868e-01 -5.75919962e-03 -2.06821591e-01  1.36046767e-01\n",
            "  7.60440454e-02 -1.34260559e+00 -1.97714412e+00  1.05735517e+00\n",
            " -9.90220979e-02  2.85386711e-01  1.73042953e-01  1.94175661e+00\n",
            "  3.23669583e-01  5.70186600e-02 -1.99889943e-01 -2.31778771e-01\n",
            "  2.61119992e-01  3.14200354e+00  1.85739562e-01  1.49518862e-01\n",
            "  1.41364813e+00  1.61864400e-01  2.78640985e-01 -1.06227919e-01\n",
            " -1.55385280e+00 -1.93578458e+00  9.26479995e-02 -3.64114732e-01\n",
            "  3.99797745e-02  1.15116745e-01  3.17465775e-02  1.15965053e-01\n",
            "  1.57930419e-01  1.15684785e-01 -2.07809567e-01  4.04624157e-02\n",
            " -1.99032947e-01 -2.91930348e-01 -2.19746217e-01 -1.01848088e-01\n",
            "  3.24561968e-02  1.64562836e-01  5.87205648e-01  3.03823590e-01\n",
            " -7.50013590e-02 -8.83883685e-02 -8.52207690e-02 -2.05210686e+00\n",
            "  2.26903692e-01  2.71356761e-01 -7.95433372e-02  1.72085445e-02\n",
            "  2.43227631e-01  2.36504242e-01 -2.67462224e-01 -2.25160941e-01\n",
            " -9.73267406e-02  1.59945518e-01 -9.08349156e-02  2.05514487e-02\n",
            " -3.21466774e-01 -7.77010545e-02  2.86126822e-01  8.72643441e-02\n",
            "  1.02190234e-01  2.17007399e+00 -1.72333851e-01 -1.22479521e-01\n",
            "  1.97130606e-01 -1.93154380e-01  2.58551061e-01 -2.40610451e-01\n",
            "  1.78287163e-01 -2.84738652e-02  7.81299695e-02  4.46085222e-02\n",
            " -2.24945024e-01  1.56282008e-01 -2.35199139e-01 -9.68321487e-02\n",
            "  6.83825370e-03  1.83541313e-01  6.20192826e-01  4.47374851e-01\n",
            " -7.06801713e-02 -1.15767896e+00  4.74230275e-02 -8.13113302e-02\n",
            "  7.81356096e-02  5.90754338e-02 -1.92587953e-02 -1.78995058e-01\n",
            "  2.80503958e-01 -1.75457194e-01 -1.34691566e-01 -8.63983482e-02\n",
            " -1.64420217e-01 -2.92158216e-01 -1.32000774e-01 -3.43547970e-01\n",
            "  6.24684878e-02 -9.12441239e-02 -1.54216230e-01 -4.07240182e-01\n",
            " -6.68061152e-02  1.40351701e+00  6.92303404e-02 -3.00652266e-01\n",
            "  1.14196849e+00 -2.53596399e-02 -1.15498520e-01 -1.87930211e-01\n",
            "  9.65604112e-02 -7.08276108e-02 -2.24330246e-01 -2.48334587e-01\n",
            "  2.65990365e-02  7.10475147e-02  7.35491738e-02  2.05568001e-02\n",
            "  1.41703933e-01 -2.25944504e-01 -2.32124254e-02  4.91062105e-01\n",
            "  3.12953919e-01 -8.62965733e-02 -8.11656266e-02 -5.28298557e-01\n",
            " -1.02603726e-01  5.91239780e-02 -1.02385916e-01  2.58882344e-01\n",
            "  3.06303710e-01 -2.84962840e-02  4.71547656e-02 -4.09705453e-02\n",
            "  1.16256133e-01 -1.99465722e-01 -2.39980996e-01  2.72201061e-01\n",
            "  8.27870052e-03 -3.83146200e-03  1.48247734e-01  2.86940664e-01\n",
            " -1.29436657e-01 -1.18128210e-01  1.18074909e-01 -3.41521502e-01\n",
            " -2.74685752e-02  1.09704755e-01  3.16981047e-01 -2.08087698e-01\n",
            "  6.42982647e-02 -3.67846310e-01 -1.42146766e-01  2.54819632e-01\n",
            " -4.79089528e-01  9.21097398e-02  1.09410606e-01  2.26909935e-01\n",
            " -1.36390418e-01  1.39801973e-03 -1.73403278e-01 -3.51780541e-02\n",
            "  3.16309571e-01  1.28406867e-01  3.01590681e-01  1.99150726e-01\n",
            "  1.57361656e-01 -1.27533540e-01  1.10141680e-01 -1.00493133e-01\n",
            "  3.05077303e-02 -1.35005713e-01  1.84012875e-01 -2.89760679e-01\n",
            " -5.77941351e-03  1.55239135e-01  1.82908103e-01  4.68682088e-02\n",
            " -4.76316541e-01  7.01968819e-02 -6.31031301e-03  1.44371957e-01\n",
            "  1.75233006e-01  2.79485911e-01  9.30228829e-02 -2.04669952e+00\n",
            " -3.44827503e-01 -2.59037297e-02  1.68270826e-01  3.28066498e-02\n",
            "  2.65154332e-01  4.71618146e-01 -2.50557438e-04 -5.10621518e-02\n",
            " -2.28393022e-02 -1.61989443e-02  2.37215031e-02  6.92061614e-03\n",
            " -1.11013472e-01 -5.50124526e-01  4.40881141e-02 -5.08792587e-02\n",
            "  2.19027907e-01 -1.53614864e-01 -3.80977504e-02 -1.66194534e+00\n",
            "  9.40926373e-03 -1.71880245e-01  4.98782247e-02  2.64923573e-01\n",
            " -2.29109824e-01 -6.30969927e-02 -1.44431755e-01 -2.91574657e-01\n",
            "  7.16136768e-02  9.77627039e-02 -4.72815692e-01  1.47694722e-01\n",
            " -1.86512649e-01 -8.90857875e-02  6.44390345e-01 -8.58256072e-02\n",
            " -1.69224128e-01 -2.32734039e-01 -7.97903463e-02  2.37656444e-01\n",
            " -3.32719348e-02 -1.46298170e-01  2.38135800e-01  2.30281070e-01\n",
            "  8.55145007e-02  1.38163954e-01  9.60407555e-02  1.23088896e-01\n",
            "  8.78935531e-02 -1.60546875e+00  2.63725370e-02 -1.24818534e-01\n",
            "  1.02566123e-01 -1.10776626e-01  7.58197755e-02  1.42404750e-01\n",
            " -1.99676126e-01  1.74055442e-01  1.34761944e-01 -6.20968342e-01\n",
            "  1.80705354e-01  3.80641341e-01  1.38751075e-01 -1.65090233e-01\n",
            " -7.43450271e-03  4.68647182e-01  6.41570538e-02 -1.26708359e-01\n",
            " -1.25668779e-01 -1.71716169e-01 -8.92156065e-02  3.05262685e-01\n",
            " -2.75412261e-01  2.08736524e-01  1.98312283e-01  3.84107605e-02\n",
            "  2.49128073e-01 -4.50644307e-02  2.50842601e-01  4.07019677e-03\n",
            " -9.23904598e-01  2.20599547e-01 -1.35552317e-01 -1.13165163e-01\n",
            " -2.65886068e-01 -4.03116435e-01  8.10657740e-02  2.93160737e-01\n",
            "  3.53178591e-01  1.70811683e-01  6.67559564e-01  1.87074125e+00\n",
            "  7.87471905e-02 -1.25895580e-02  1.54591456e-01  2.15921834e-01\n",
            " -8.09809417e-02  5.43085043e-04 -1.20837100e-01  1.90168595e+00\n",
            " -1.40310097e-02  8.15955848e-02  2.81532072e-02  2.15708643e-01\n",
            "  9.59295332e-02  1.66446400e+00  2.48981267e-01  7.30710477e-02\n",
            " -9.99021679e-02  2.65434682e-01 -3.02155148e-02  5.89211360e-02\n",
            " -1.59388080e-01 -3.89110595e-02  4.51678149e-02 -8.92753959e-01\n",
            " -1.07986026e-01  2.15253696e-01  1.88220683e-02  1.06638186e-01\n",
            " -4.00428921e-01  1.38546959e-01 -2.16758639e-01 -2.18596116e-01\n",
            "  1.89421564e-01  1.56246245e-01 -2.94322848e-01 -1.06550202e-01\n",
            "  1.81735337e-01 -3.32553715e-01 -5.86628206e-02  6.93292543e-02\n",
            " -1.76953569e-01 -7.30736479e-02  8.78328457e-02 -2.02379942e-01\n",
            "  2.94709355e-01 -3.84756416e-01 -4.47288528e-02  4.98656571e-01\n",
            "  2.29019299e-01 -9.16966721e-02  1.34516582e-02 -1.53231651e-01\n",
            " -2.47925758e-01 -1.61459863e-01  4.02617812e-01  2.34151542e-01\n",
            " -4.68063019e-02  2.53518373e-01 -6.33713827e-02 -2.94106863e-02]\n",
            "\n",
            "Размер вектора  текста: 'птицы летают на юг'\n",
            "(768,)\n",
            "\n",
            "Вектор для текста: 'птицы летают на юг'\n",
            "[ 7.36754015e-02 -3.74284163e-02  8.24990347e-02  5.59218526e-02\n",
            "  1.87389851e-01 -9.59164128e-02 -2.47432753e-01 -2.13264637e-02\n",
            "  1.46542996e-01  1.20778710e-01  4.10422206e-01  1.37619123e-01\n",
            " -2.27209464e-01  2.39755780e-01 -6.95596039e-01 -1.18837371e-01\n",
            "  1.96357235e-01  3.39927763e-01 -6.72954544e-02  1.13641948e-01\n",
            "  1.05068475e-01 -4.66756582e-01 -2.80427802e-02  1.71176344e-01\n",
            " -2.59778053e-01 -1.79904461e-01 -5.55120856e-02  7.40707666e-02\n",
            "  2.77437717e-01  7.35905915e-02  1.35793507e-01 -3.23266983e-01\n",
            "  1.27385125e-01 -2.20911074e-02 -2.93894242e-02 -3.90110421e-03\n",
            " -1.55617058e+00  8.91744196e-02  7.68636689e-02 -6.98089302e-02\n",
            " -5.52999437e-01  1.39117062e-01  4.71168617e-03  2.09242284e-01\n",
            " -1.29257366e-01  1.42309582e+00 -1.30972549e-01  1.76709771e-01\n",
            "  1.44512713e+00 -5.44113159e-01  1.76611528e-01 -3.29739511e-01\n",
            " -1.47595480e-01 -1.33026600e+00  4.34667468e-02  6.77470565e-02\n",
            "  2.01772943e-01 -2.57455587e-01 -9.30883083e-03  3.86286452e-02\n",
            " -1.80938199e-01  2.38564834e-01  2.58125871e-01  1.48803040e-01\n",
            " -3.26433271e-01 -7.98460916e-02 -1.63660154e-01  5.34257153e-03\n",
            " -3.46905962e-02  1.87038742e-02  1.44318923e-01  3.66491020e-01\n",
            " -3.91018152e-01  1.34748936e-01 -3.42713632e-02  7.95232803e-02\n",
            "  3.54804069e-01  2.89120357e-02 -1.69898540e-01 -3.75440419e-01\n",
            "  1.02956474e-01  4.71161991e-01 -3.37279052e-01  2.44499460e-01\n",
            " -1.87038600e-01 -1.97546586e-01  7.46436492e-02 -8.68942961e-02\n",
            " -3.05883795e-01 -3.76756266e-02 -1.32486135e-01 -1.86647922e-01\n",
            " -6.86921537e-01  8.06553885e-02 -4.27616835e-01 -8.34170222e-01\n",
            "  2.04268917e-01  1.24196000e-01  1.22699000e-01 -1.30010903e-01\n",
            " -1.87011659e-01  1.49274218e+00  2.37954542e-01 -1.57663953e-02\n",
            " -3.16394401e+00  1.63553003e-02 -1.13101289e-01 -1.04415499e-01\n",
            "  5.30629456e-01 -4.67107557e-02  1.64518401e-01  3.85627151e-02\n",
            " -3.33362222e-02  1.92948416e-01  8.57419521e-02  1.39899001e-01\n",
            " -1.09361388e-01 -2.41375584e-02 -3.78197849e-01 -3.32263976e-01\n",
            " -9.87457931e-02 -8.98319706e-02 -1.60755038e-01 -1.71062604e-01\n",
            " -2.33756170e-01  1.17878594e-01  2.93518007e-01 -3.66186082e-01\n",
            "  3.51671636e-01  6.82632744e-01  8.51656348e-02  1.99572706e+00\n",
            " -4.95737642e-02 -5.99046312e-02  2.51385987e-01  1.57310891e+00\n",
            " -1.29371792e-01  1.90619469e-01  4.04504746e-01  5.05289912e-01\n",
            " -3.99069376e-02 -1.26974285e-01  8.10731500e-02 -1.61992654e-01\n",
            "  7.27524906e-02 -1.19114574e-02 -7.91639909e-02  2.02101573e-01\n",
            " -1.32702991e-01 -7.87337683e-03  1.80032715e-01 -2.42262170e-01\n",
            "  5.11289760e-02  3.48523021e-01 -8.90302658e-02 -1.44744143e-01\n",
            "  7.03483596e-02  1.22534126e-01  3.97024564e-02  2.35028937e-01\n",
            "  1.66599607e+00  2.36344963e-01 -1.71911150e-01  4.29105967e-01\n",
            "  1.02569461e-02  8.49614963e-02 -6.57294095e-02 -1.03163630e-01\n",
            " -3.37337077e-01 -5.04151285e-01 -5.06343365e-01 -1.37312129e-01\n",
            "  4.77076136e-02 -7.94418380e-02 -1.25207737e-01  1.17239594e-01\n",
            " -7.62419254e-02 -1.04732223e-01 -1.38402298e-01  2.41554856e-01\n",
            "  1.46032602e-01  3.00371572e-02 -1.64325550e-01 -1.65835693e-01\n",
            "  7.11272135e-02  4.57121432e-01 -6.65196627e-02 -1.32303864e-01\n",
            " -1.66709319e-01 -1.82598859e-01  2.49926195e-01  1.12161256e-01\n",
            "  2.47518420e-01 -1.67752564e-01  3.14126760e-01  7.17777312e-02\n",
            "  2.90699899e-01  7.56803229e-02 -5.80049232e-02  1.74664304e-01\n",
            "  1.05579220e-01  3.76641780e-01 -1.48685323e-02 -2.67737269e-01\n",
            " -3.69704366e-02  7.35490620e-01 -6.27110600e-02 -5.85418777e-04\n",
            "  2.98069507e-01  1.25209987e-01  1.14699826e-01  1.31187541e-02\n",
            "  1.10532486e+00  1.25516325e-01  1.45327911e-01  2.27704532e-02\n",
            " -7.41875395e-02 -1.65855363e-01  1.68738946e-01 -2.14574766e+00\n",
            " -8.35884809e-02  9.62899700e-02 -5.63546317e-03  1.04020923e-01\n",
            " -7.43263066e-02 -2.44466010e-02 -1.32259950e-01  4.20849472e-01\n",
            "  1.83781609e-01  2.04388108e-02 -2.10757822e-01  6.56032413e-02\n",
            "  2.22166739e-02 -1.53525782e+00 -3.79052646e-02 -2.05125902e-02\n",
            "  2.20872700e-01 -1.82246327e-01 -5.86868562e-02 -5.98580018e-02\n",
            "  8.78626555e-02  6.25865832e-02  2.36389980e-01 -1.20214045e-01\n",
            "  3.67130399e-01 -2.12667197e-01  1.00114882e+00  2.25343406e-01\n",
            " -1.51469871e-01 -3.96366209e-01 -2.48659045e-01 -2.31700819e-02\n",
            "  5.49613714e-01 -2.27661684e-01  7.68354684e-02 -7.57987872e-02\n",
            " -8.43013525e-02 -3.82915922e-02  3.26382011e-01 -1.65754840e-01\n",
            " -4.06029113e-02 -3.62336755e-01 -6.16210364e-02 -4.72218096e-01\n",
            "  7.27452785e-02 -1.20410979e-01  5.12339920e-03  1.93149954e-01\n",
            "  2.27286890e-01 -2.21592233e-01  7.08773285e-02  1.80947483e-01\n",
            " -1.81521535e-01  7.35724494e-02  3.56717147e-02 -8.08112137e-03\n",
            "  1.23184092e-01  3.54464889e-01 -2.28206158e-01  1.34763062e-01\n",
            "  1.68076545e-01  3.74289565e-02  6.79590628e-02  2.06560910e-01\n",
            "  2.53113657e-01  1.87480286e-01 -3.61852758e-02 -2.25646377e-01\n",
            " -4.70806390e-01 -9.65724051e-01  5.28272875e-02  1.91564739e-01\n",
            "  2.26629451e-01 -1.11322410e-01  2.19889637e-02 -5.30646443e-01\n",
            " -5.10961525e-02 -6.32069707e-02 -4.05985773e-01 -2.38945205e-02\n",
            "  1.56808868e-01 -5.81789240e-02  6.31587282e-02 -7.02965707e-02\n",
            " -1.55227077e+00  2.16385290e-01 -9.95072164e-03  4.33889292e-02\n",
            "  2.35609546e-01  2.75501221e-01 -2.01404393e-01 -1.21795289e-01\n",
            "  6.94168806e-02 -1.23994894e-01 -1.72816992e-01 -9.25481543e-02\n",
            "  9.13065821e-02  7.54717067e-02  2.03735664e-01  2.83153504e-01\n",
            "  9.42037478e-02 -1.83294559e+00  4.38961796e-02  1.83177553e-02\n",
            "  3.51624161e-01 -3.91170532e-02 -2.17361927e-01  2.74660468e-01\n",
            " -1.43832549e-01  5.94871156e-02  1.44309342e-01  3.62444043e-01\n",
            " -6.15100972e-02 -2.43400410e-01  1.60011128e-02 -1.02244593e-01\n",
            " -1.03782818e-01 -5.92936389e-02 -4.97573853e-01  2.09368378e-01\n",
            "  8.49614814e-02  1.23873159e-01 -1.01005420e-01  1.92746550e-01\n",
            " -2.13171765e-01  2.14163631e-01  2.64066845e-01 -4.63878028e-02\n",
            "  1.21028975e-01  1.45899549e-01  1.81336343e-01  9.67872664e-02\n",
            " -3.75302672e-01 -5.08550275e-03  1.78904593e-01  1.97301619e-02\n",
            " -1.01533048e-01  3.08675016e-03 -1.04156196e-01  3.73032004e-01\n",
            " -1.21103331e-01 -8.54368061e-02  1.29031584e-01 -3.11903030e-01\n",
            " -2.34591305e-01 -2.57361919e-01  1.82904601e-01  5.05565330e-02\n",
            " -1.84941031e-02  4.09538627e-01  4.01963979e-01  4.01136249e-01\n",
            " -1.83379933e-01 -7.11420894e-01  2.38089338e-02 -2.33833566e-01\n",
            "  1.33870214e-01 -1.35889202e-01  3.33132714e-01  4.64052893e-02\n",
            " -3.69351245e-02  4.57698405e-02 -1.23126376e+00  2.17944562e-01\n",
            "  2.36103553e-02 -1.66641748e+00  2.31125966e-01 -2.23260656e-01\n",
            " -1.50325879e-01 -2.15423778e-01 -1.13218121e-01  3.51563580e-02\n",
            "  1.83720533e-02  3.82256247e-02 -2.80465670e-02  1.15466021e-01\n",
            "  1.43400982e-01 -2.10008055e-01  3.03127587e-01  5.10385372e-02\n",
            "  1.10295117e-01 -1.61029682e-01 -1.29291132e-01 -2.14194530e-03\n",
            " -1.94689155e-01 -1.78264916e+00 -5.60397655e-02  4.65379171e-02\n",
            " -1.45666869e-02 -3.07060808e-01  2.50392314e-02 -9.45616066e-02\n",
            "  1.11623771e-01  9.63989198e-02 -1.54376790e-01 -3.32072191e-02\n",
            " -3.09771359e-01  2.69655228e-01 -8.64375383e-02 -6.21092558e-01\n",
            "  1.72386408e-01  5.72951674e-01 -1.61459997e-01 -2.80893028e-01\n",
            "  9.18932557e-02  3.92490476e-02  2.68539846e-01 -7.90076628e-02\n",
            "  2.94892728e-01  4.17807363e-02 -3.04626934e-02 -7.22008720e-02\n",
            "  4.60355431e-01 -1.37237942e+00 -2.00749016e+00  1.11597311e+00\n",
            " -1.64764106e-01  2.53133923e-01  5.24486080e-02  1.98068857e+00\n",
            "  1.74860612e-01  2.94262260e-01 -1.63667053e-01  1.49678085e-02\n",
            "  2.80453980e-01  3.32280183e+00  2.41433039e-01 -1.29148476e-02\n",
            "  1.47130537e+00  4.23368290e-02  1.09707408e-01 -9.09926370e-02\n",
            " -1.53104770e+00 -2.13590002e+00  8.90919566e-03 -3.31383318e-01\n",
            "  1.11237533e-01 -2.23402053e-01  6.35321736e-02 -2.06549019e-02\n",
            "  5.52774929e-02 -3.75178576e-01 -1.43289343e-01 -1.17846139e-01\n",
            "  5.89554496e-02 -1.34339720e-01  5.43748662e-02 -1.64538115e-01\n",
            " -1.66771915e-02 -7.40577206e-02  3.04959089e-01  9.80405435e-02\n",
            " -1.70287848e-01  1.39170408e-01  2.70312309e-01 -2.34900165e+00\n",
            "  3.82287741e-01  2.71663398e-01  4.36563157e-02 -1.70945734e-01\n",
            "  3.81078839e-01  9.49514285e-02  2.68736005e-01 -1.68953806e-01\n",
            " -1.13287173e-01  1.73475325e-01 -1.00928836e-01 -7.34163001e-02\n",
            " -2.21752092e-01  1.92684874e-01  9.58925560e-02 -3.79976891e-02\n",
            " -1.57523483e-01  2.68265891e+00 -8.80106017e-02 -2.61896521e-01\n",
            "  2.91841298e-01 -1.60986021e-01 -3.67356054e-02 -3.19822967e-01\n",
            "  2.86197841e-01  1.40601592e-02  1.94032580e-01 -2.52278503e-02\n",
            " -3.43028754e-01  2.14565739e-01 -4.74290401e-01  8.43474939e-02\n",
            " -1.29560038e-01  1.35400474e-01  7.42726684e-01  3.42636049e-01\n",
            " -2.00126603e-01 -1.23448908e+00 -8.89381543e-02  4.21731919e-02\n",
            "  2.94525176e-01 -4.57140096e-02  7.06747621e-02 -3.33952047e-02\n",
            "  3.24441761e-01  5.04002441e-03 -1.25946224e-01 -8.32610130e-02\n",
            " -1.58843860e-01 -2.13661805e-01 -8.62711966e-02 -1.92363679e-01\n",
            "  3.78158316e-02 -3.27871621e-01 -1.49653479e-01 -4.08817619e-01\n",
            " -2.89280862e-01  1.28102350e+00  5.42803444e-02  4.83534224e-02\n",
            "  1.17025208e+00 -1.95032030e-01  3.44760306e-02  6.56641722e-02\n",
            " -1.61001086e-01 -8.96103531e-02 -2.55417973e-02 -3.29014480e-01\n",
            " -1.95661843e-01 -1.50788248e-01 -6.95996359e-02 -1.13351988e-02\n",
            "  3.31651181e-01  9.37159956e-02  2.39178762e-02  4.16188210e-01\n",
            "  3.13239038e-01 -1.28586978e-01 -2.22930402e-01 -3.26298177e-01\n",
            " -3.94788571e-03 -2.10771918e-01 -5.72646335e-02  5.45093000e-01\n",
            "  3.76483381e-01  1.57929048e-01 -4.81482521e-02  4.26029041e-02\n",
            " -1.24350458e-01  1.17950201e-01 -2.99516916e-01  1.82239816e-01\n",
            " -1.15179442e-01 -1.92319661e-01 -1.61032677e-02  8.87465402e-02\n",
            "  3.96197699e-02 -7.52876047e-03  2.58442163e-01 -6.39042035e-02\n",
            " -1.88350007e-01  2.92665571e-01  1.97362363e-01 -3.41703594e-01\n",
            "  1.17633760e-01 -1.28988475e-01 -3.47281188e-01  1.40331939e-01\n",
            " -4.80991453e-01 -5.91803715e-03 -2.53491458e-02  1.65921062e-01\n",
            " -9.33578461e-02 -2.26943672e-01 -1.75684363e-01  3.56108308e-01\n",
            " -1.23782000e-02  5.46622239e-02  8.95735547e-02  4.35413361e-01\n",
            "  1.25501409e-01 -3.31772804e-01 -1.06191009e-01 -2.34225288e-01\n",
            "  1.21841565e-01 -2.85311967e-01  4.22602057e-01 -2.82707036e-01\n",
            "  1.65698584e-02 -2.49367263e-02 -1.24816112e-01  2.03979522e-01\n",
            " -5.21477878e-01  9.71142575e-02  5.14951572e-02 -3.62330675e-02\n",
            " -1.27351046e-01  1.56895384e-01 -1.24432780e-01 -1.93935406e+00\n",
            " -2.20983922e-01  6.21085875e-02  2.40013674e-01  7.57867396e-02\n",
            "  4.29869592e-02  6.88468695e-01  2.02510327e-01 -1.90064222e-01\n",
            "  2.50964891e-02 -5.38430661e-02 -1.36508584e-01 -1.11061163e-01\n",
            " -1.45405978e-01 -4.18370813e-01  7.17180148e-02 -2.90203750e-01\n",
            "  9.73437056e-02 -1.24782659e-01 -8.27096924e-02 -1.68158615e+00\n",
            " -1.44954160e-01  8.92796293e-02 -5.56638800e-02  2.58885503e-01\n",
            " -1.53137505e-01 -2.76092440e-01 -2.71154165e-01 -1.45240217e-01\n",
            "  5.47415353e-02 -2.02813223e-01 -3.90528023e-01  2.10590456e-02\n",
            "  8.41951743e-02 -7.74111133e-03  3.79004776e-01 -1.96594566e-01\n",
            "  1.99157506e-01 -4.94708210e-01  4.80223224e-02  4.05905396e-01\n",
            "  2.35137828e-02 -8.95563811e-02  2.14877889e-01  2.32626557e-01\n",
            "  2.27857828e-01 -4.15105335e-02  3.29027206e-01  2.68910136e-02\n",
            "  1.31268101e-02 -1.70389295e+00  3.41057569e-01 -1.32109690e-02\n",
            " -6.42497316e-02 -3.91519099e-01  2.00234860e-01  1.21150389e-02\n",
            " -2.07935914e-01  8.95056594e-03 -1.12849019e-01 -4.49076027e-01\n",
            "  3.68780978e-02  3.07848871e-01  2.61733830e-01 -1.08144850e-01\n",
            "  1.96412981e-01  3.49425524e-01  1.52879253e-01 -4.21484858e-01\n",
            " -7.09532946e-02 -2.66934298e-02 -3.54906231e-01  5.49714983e-01\n",
            "  3.64982262e-02  3.83563340e-01  1.13868490e-01  2.59758327e-02\n",
            "  4.24345136e-02  1.90481618e-02  3.63467969e-02 -6.36223033e-02\n",
            " -8.44159126e-01  1.43471017e-01  7.99321607e-02 -2.86486000e-01\n",
            " -3.05917323e-01  3.88245247e-02  1.84901431e-01  2.93394983e-01\n",
            "  3.47323179e-01  2.72668242e-01  6.05860770e-01  2.15612221e+00\n",
            " -3.43077034e-02 -1.09940059e-01  1.96779162e-01  1.77150711e-01\n",
            " -4.30802722e-03  4.11051586e-02 -1.67136833e-01  2.07728481e+00\n",
            "  1.20691638e-02  1.26052365e-01 -7.54919322e-03  2.68556148e-01\n",
            " -1.22835919e-01  1.96827137e+00 -2.22880356e-02  1.01901721e-02\n",
            " -2.45146409e-01  1.78917289e-01  1.26886129e-01  1.60427973e-01\n",
            "  3.95966098e-02 -2.46581003e-01  7.56380633e-02 -8.03318322e-01\n",
            "  2.99019981e-02 -9.22958553e-02  2.66389728e-01 -6.51732162e-02\n",
            " -3.14624280e-01 -8.59037489e-02  1.20074684e-02 -3.72603267e-01\n",
            "  2.41036192e-01  5.44852614e-02 -3.44170064e-01 -9.59397554e-02\n",
            "  3.63619179e-01 -1.86280236e-01 -8.79669935e-02  6.41378164e-02\n",
            " -4.45747405e-01 -9.40753967e-02  1.74119081e-02 -2.97870725e-01\n",
            "  2.42433682e-01 -4.12288815e-01  1.04904138e-01  6.63465798e-01\n",
            "  1.28079325e-01  1.05075248e-01  7.98647255e-02 -1.71596974e-01\n",
            " -3.35537434e-01 -4.07709628e-01  3.23033333e-01  4.11360443e-01\n",
            " -1.07278764e-01  1.77250355e-01  9.30845141e-02 -1.85754210e-01]\n",
            "\n",
            "Размер вектора  текста: 'коты любят тыгыдыкать'\n",
            "(768,)\n",
            "\n",
            "Вектор для текста: 'коты любят тыгыдыкать'\n",
            "[-1.01355895e-01 -1.45421967e-01  3.17054451e-01  3.65245610e-01\n",
            "  4.38309491e-01  1.32684708e-01  3.54519091e-03 -3.79845984e-02\n",
            "  5.65994382e-02  3.45482767e-01  1.59490556e-01 -2.44813576e-01\n",
            "  3.68781447e-01 -3.41099426e-02 -7.88881719e-01  3.63398381e-02\n",
            "  1.19219959e-01  7.66633034e-01  9.95592251e-02  7.42189050e-01\n",
            "  1.02598839e-01  2.61110723e-01 -1.64760053e-01 -1.23988651e-01\n",
            "  4.60275337e-02 -1.89037323e-01 -1.73966259e-01  2.48142496e-01\n",
            "  4.38752621e-01  1.69477820e-01  1.75174102e-01  1.01560270e-02\n",
            "  2.47584835e-01  3.84171009e-02 -1.91329688e-01  7.34184403e-03\n",
            " -1.97347128e+00  6.97851256e-02  5.31598032e-02  1.55697793e-01\n",
            " -3.85200381e-01  9.48980674e-02 -2.81956226e-01 -6.23820610e-02\n",
            "  2.35210061e-01  6.27693474e-01 -1.33609816e-01  5.76905953e-03\n",
            "  1.16688561e+00 -5.62863052e-01  3.30210686e-01 -5.04696846e-01\n",
            " -4.07233387e-02 -1.35829341e+00  5.87627105e-02  5.74159399e-02\n",
            " -2.96465047e-02 -9.55410674e-02 -1.62984263e-02  1.29890651e-01\n",
            "  5.46701178e-02  7.56435543e-02  1.52075374e-02  5.89467660e-02\n",
            " -5.27718604e-01 -2.13871017e-01  9.06150267e-02  4.86546844e-01\n",
            "  5.04217558e-02  3.17695528e-01  2.42049187e-01  2.56594658e-01\n",
            "  3.65035869e-02  7.40384236e-02 -1.10575132e-01  2.32835393e-02\n",
            "  4.86684352e-01 -1.61002442e-01  9.80356261e-02  1.77852139e-02\n",
            "  3.35429423e-02  1.33702859e-01 -1.02940142e-01  2.08961725e-01\n",
            " -1.74554422e-01 -5.26684940e-01  1.10356435e-01 -3.25365573e-01\n",
            " -1.41353101e-01 -1.16347820e-01 -3.37646395e-01 -5.67267500e-02\n",
            " -5.77897072e-01 -1.35222953e-02 -4.20204163e-01 -7.62160301e-01\n",
            "  2.78988719e-01  7.64998421e-03  3.35616060e-02 -2.18069796e-02\n",
            " -3.01911384e-02  1.62446225e+00  5.12604296e-01  2.29649335e-01\n",
            " -2.81558561e+00  2.26332143e-01  1.18866563e-01 -4.28848803e-01\n",
            "  4.03772920e-01  1.57638878e-01  1.72634572e-01 -3.19956504e-02\n",
            "  5.84943295e-02 -6.91363588e-02 -3.55788949e-03 -1.32212818e-01\n",
            " -7.68708438e-02 -3.85729074e-01 -3.52509707e-01 -6.34838864e-02\n",
            "  1.65615708e-01 -1.21217743e-01  3.36348534e-01 -3.30268770e-01\n",
            "  8.06581974e-03  1.55464085e-02  2.88947552e-01 -1.83725893e-01\n",
            "  1.43471792e-01  1.05715251e+00 -1.90090418e-01  1.79317713e+00\n",
            "  8.77732560e-02 -3.92512590e-01  2.93515861e-01  1.50485194e+00\n",
            "  3.98033738e-01  3.72594684e-01  1.78370520e-01  2.67250627e-01\n",
            " -6.91684857e-02 -3.97542030e-01  1.89165100e-01 -5.30290782e-01\n",
            "  2.18523368e-01  3.25941354e-01  1.78297386e-01  1.37155309e-01\n",
            " -3.75110447e-01 -4.16661769e-01  3.49430889e-02 -6.20394707e-01\n",
            "  1.92498818e-01  1.11824960e-01  1.00281745e-01 -1.30451486e-01\n",
            "  3.70578319e-02 -3.84577125e-01 -1.83168665e-01  5.00362456e-01\n",
            "  1.47145295e+00  3.32497060e-01 -1.68832749e-01  5.57104468e-01\n",
            "  1.05061300e-01 -9.04245861e-03 -1.83028981e-01  1.90668270e-01\n",
            " -3.30867440e-01 -3.48137856e-01 -2.80234784e-01 -1.36630461e-01\n",
            "  4.85042036e-01  3.31632614e-01  9.26956907e-02 -1.26817925e-02\n",
            "  2.13322341e-01  1.74331963e-01  1.11986682e-01  1.59079269e-01\n",
            " -4.69860673e-01  5.17125651e-02 -2.92064399e-01 -1.09252863e-01\n",
            " -2.86805481e-02  2.06678987e-01 -3.20298404e-01 -2.22255290e-01\n",
            " -4.41120416e-02  1.60713214e-02  1.48681074e-01  3.91488463e-01\n",
            "  1.39391378e-01 -1.71371121e-02  1.26780897e-01  1.80217117e-01\n",
            " -1.92512259e-01  2.28595272e-01 -1.42509773e-01  8.74933973e-02\n",
            "  1.98497325e-02  2.19907075e-01 -1.32024288e-01  2.59987116e-02\n",
            "  9.51570645e-02  5.70260227e-01  1.72670141e-01  5.72652593e-02\n",
            "  1.43436193e-01  3.20561007e-02 -1.66647807e-01 -6.80270270e-02\n",
            "  6.57972932e-01  1.31110460e-01  5.70362866e-01  3.17025691e-01\n",
            " -3.91431302e-02  8.57475400e-02  2.84977853e-01 -2.10073113e+00\n",
            " -1.04410492e-01  2.22093210e-01 -4.00335968e-01  3.18491906e-01\n",
            " -1.79271221e-01 -1.23858817e-01 -1.55331373e-01  2.94190615e-01\n",
            "  4.08418477e-01  1.77308843e-01  5.21031283e-02 -3.12585682e-01\n",
            " -1.59849636e-02 -1.64630198e+00 -2.69285534e-02 -8.42097476e-02\n",
            "  1.99932605e-01 -1.65248021e-01 -3.03871095e-01  1.72864541e-01\n",
            "  3.58512312e-01  3.01269703e-02  1.84494689e-01 -1.19976923e-01\n",
            "  2.17889920e-01 -3.87634456e-01  6.77393556e-01  9.97409150e-02\n",
            "  2.24806681e-01 -4.07768697e-01  9.13099721e-02  3.42232406e-01\n",
            "  8.22635517e-02 -2.23770186e-01  5.54712154e-02 -7.62000754e-02\n",
            "  3.09205860e-01  8.37800326e-04  6.58932030e-02 -9.77244321e-03\n",
            " -1.88330486e-01 -1.23910189e-01 -2.84146160e-01 -3.87540579e-01\n",
            " -3.80978212e-02  9.61491838e-02  2.14785933e-01  2.28681952e-01\n",
            " -1.50658876e-01  1.34818545e-02  2.47487083e-01 -8.02251250e-02\n",
            "  2.64812708e-01 -4.94782999e-02 -2.41320152e-02  1.74203545e-01\n",
            " -8.45176652e-02  9.04493034e-03  1.26882553e-01 -1.58811852e-01\n",
            " -2.29762688e-01  2.65475780e-01  1.79683432e-01  4.98644337e-02\n",
            "  2.25725938e-02 -9.34821144e-02  1.27062097e-01 -1.25050411e-01\n",
            " -6.23864114e-01 -7.33435333e-01  6.47640452e-02  2.07450390e-01\n",
            " -4.61126827e-02 -5.46813846e-01  1.45783663e-01 -2.84685105e-01\n",
            " -3.33944827e-01  7.79385865e-02  1.10022901e-02  7.49477744e-02\n",
            "  2.49856085e-01 -4.43315715e-01  1.75101221e-01  1.99696004e-01\n",
            " -1.37655818e+00  1.27119437e-01  3.47718224e-03 -5.64338565e-02\n",
            "  4.80214328e-01  2.38372505e-01 -6.28590062e-02 -1.78173795e-01\n",
            "  1.26830608e-01 -1.79216638e-01 -2.20287815e-01 -1.97359964e-01\n",
            "  3.57781053e-01 -1.16596073e-01 -6.46655113e-02  4.47022431e-02\n",
            " -1.72900707e-01 -1.69205737e+00 -3.09141457e-01  6.98436871e-02\n",
            "  1.76513806e-01  1.13236748e-01 -2.27516457e-01 -1.26161799e-01\n",
            "  2.55085349e-01  2.05672294e-01 -2.45190840e-02  5.64497970e-02\n",
            " -2.53328294e-01 -3.34326118e-01 -1.30036339e-01  1.98219359e-01\n",
            " -4.69450951e-02  1.86440811e-01 -2.65051067e-01 -5.22465520e-02\n",
            "  2.02610902e-03  9.22927633e-02  3.28795671e-01  1.16609208e-01\n",
            "  2.50738502e-01  2.67899305e-01 -6.21768869e-02 -5.55533886e-01\n",
            "  1.92218259e-01  4.44970816e-01  1.11093588e-01  3.65431964e-01\n",
            " -3.52997899e-01 -3.91942680e-01  1.42231137e-01 -2.13504761e-01\n",
            "  2.04381302e-01  9.18631032e-02 -1.82363510e-01  3.97705257e-01\n",
            " -3.19838107e-01  6.54477254e-02 -1.19787134e-01 -3.11450846e-02\n",
            " -3.73059921e-02 -2.21596032e-01  2.04540417e-02 -3.75426039e-02\n",
            " -6.47672564e-02  3.47380668e-01  3.35735291e-01  4.41577107e-01\n",
            " -1.88865796e-01 -7.25369453e-01 -2.49079436e-01 -3.41196746e-01\n",
            "  5.47060370e-01 -2.27253497e-01 -1.38443246e-01 -1.35127351e-01\n",
            "  3.46861094e-01 -1.37338623e-01 -1.02399814e+00  2.45849565e-01\n",
            "  1.78074867e-01 -1.33935666e+00 -1.53486170e-02 -4.05262142e-01\n",
            " -3.14986229e-01 -6.79685362e-03 -2.55702175e-02  5.94512224e-02\n",
            "  1.65053070e-01 -2.52991647e-01 -2.28954136e-01 -2.40205929e-01\n",
            " -8.77834707e-02  1.32914688e-02 -2.29878798e-01  4.81232442e-02\n",
            "  5.81470467e-02  1.23241305e-01  8.60952511e-02 -1.09946065e-01\n",
            " -7.54925013e-02 -1.38786960e+00  2.16650724e-01  4.73944470e-02\n",
            " -5.65973781e-02 -9.03853253e-02  8.27196687e-02 -1.10478915e-01\n",
            "  5.28523803e-01 -2.20194589e-02  3.64875972e-01  1.12141714e-01\n",
            " -7.56892383e-01  9.38443020e-02  2.04188451e-01 -6.05093718e-01\n",
            "  3.66887540e-01  1.73042566e-01 -5.53821810e-02 -1.99033290e-01\n",
            "  1.11524992e-01  1.68744370e-01 -5.97760128e-03 -4.02871698e-01\n",
            "  3.25480610e-01 -3.90817374e-02 -3.60046417e-01  1.57784543e-03\n",
            "  9.28060561e-02 -1.37381148e+00 -1.61612201e+00  1.12874675e+00\n",
            " -3.18835020e-01  3.46866280e-01  6.93772286e-02  1.67808747e+00\n",
            "  3.18542659e-01  3.27100635e-01 -2.09397301e-01  2.06007902e-02\n",
            "  9.47295055e-02  2.62486362e+00 -8.94573182e-02  3.43779102e-02\n",
            "  1.26990819e+00 -7.74048641e-02  5.34818828e-01 -5.55109322e-01\n",
            " -1.61604798e+00 -1.73429811e+00 -4.80405614e-03 -2.29716673e-01\n",
            "  2.73711294e-01  1.09091021e-01  5.63113354e-02  2.65879929e-02\n",
            " -7.69223720e-02  2.15386987e-01 -6.34422675e-02 -3.27085316e-01\n",
            "  9.06667039e-02 -3.36417288e-01 -1.15980498e-01 -1.87683269e-01\n",
            " -4.86766815e-01  3.57166201e-01  8.82214531e-02  8.71354938e-02\n",
            " -2.04601377e-01 -8.56672525e-02 -1.90045655e-01 -1.76049435e+00\n",
            "  2.29382515e-01  1.41954139e-01 -1.40782371e-01  3.59377041e-02\n",
            "  2.55250055e-02  3.79494280e-02 -1.74633935e-01 -4.34837162e-01\n",
            " -2.03127354e-01  2.96733201e-01  1.20364711e-01 -3.39617617e-02\n",
            " -2.47336403e-02 -1.41331106e-01  3.85711819e-01 -1.39363304e-01\n",
            " -1.02058090e-02  1.72977638e+00 -1.18137412e-01 -1.11391410e-01\n",
            "  3.36184621e-01 -4.62577492e-02  7.15011656e-01 -3.82048100e-01\n",
            "  9.09727812e-02  1.56998441e-01 -1.63356923e-02  4.95722285e-03\n",
            " -1.63292125e-01  2.99932569e-01 -3.66465151e-01 -1.29022216e-03\n",
            " -6.85458407e-02  5.19292653e-01  5.30410647e-01  3.24177116e-01\n",
            "  6.26391545e-02 -8.53063166e-01  2.40309909e-01  1.33764371e-01\n",
            "  2.39786401e-01  5.19074239e-02  2.93915216e-02  1.00400254e-01\n",
            " -6.41537458e-02 -1.06926270e-01 -2.85338879e-01  1.12717971e-01\n",
            " -3.02789718e-01 -1.90247953e-01 -1.38375327e-01 -6.43939137e-01\n",
            "  1.76292852e-01  4.30289358e-02  1.76157989e-02 -2.46634662e-01\n",
            "  1.34438530e-01  1.61608016e+00 -9.61544216e-02  1.47874385e-01\n",
            "  7.69290268e-01  9.42864567e-02 -3.40412468e-01 -2.40243096e-02\n",
            "  2.06823811e-01  3.15815397e-02 -5.60336947e-01 -1.27292588e-01\n",
            "  1.04488708e-01  2.52785712e-01 -2.26265877e-01  5.79692572e-02\n",
            "  3.90509255e-02  2.15824038e-01  2.56236214e-02  5.97874343e-01\n",
            "  3.68227184e-01  2.19702035e-01 -4.70758602e-02 -2.23662198e-01\n",
            " -1.24451872e-02  2.69962877e-01 -1.48351640e-01  7.03686997e-02\n",
            "  3.20181787e-01  6.93607181e-02  1.87189713e-01 -2.04131007e-01\n",
            "  3.61954629e-01 -4.15972441e-01 -6.93110898e-02  9.18042809e-02\n",
            "  2.59010911e-01  2.34043807e-01  1.35852814e-01  2.67372757e-01\n",
            " -2.95238107e-01 -2.35208273e-01  9.75913703e-02 -2.69542575e-01\n",
            " -7.17046037e-02  1.63273409e-01  1.15614533e-01 -2.06955060e-01\n",
            "  2.93126255e-01 -1.29363000e-01 -1.11573018e-01  1.60537586e-01\n",
            " -4.92284864e-01 -4.50755730e-02  9.33351889e-02  1.67396352e-01\n",
            " -5.46375401e-02 -1.64555743e-01  5.23309819e-02  1.56513095e-01\n",
            "  6.82363629e-01  2.37182468e-01  1.93785459e-01  1.00418702e-01\n",
            " -8.90423432e-02 -9.17174593e-02  1.07169030e-02 -1.08877182e-01\n",
            " -6.72487095e-02  2.78170139e-01  2.18524918e-01 -1.43626004e-01\n",
            " -2.41386846e-01 -3.43989618e-02  2.87226111e-01  4.11155000e-02\n",
            " -6.62254870e-01  2.38976851e-01  7.85771832e-02  1.62083670e-01\n",
            "  1.99072689e-01  2.39451796e-01  1.78457499e-01 -2.22785234e+00\n",
            " -4.19781417e-01 -2.90800333e-01  1.45426497e-01  8.03788677e-02\n",
            "  5.97025231e-02  4.38269734e-01  1.94597468e-01 -1.80376068e-01\n",
            " -1.65213481e-01 -3.26983072e-03 -9.81759802e-02 -6.89995568e-03\n",
            " -2.88101472e-02 -5.97969472e-01 -1.63578808e-01 -1.28500715e-01\n",
            "  3.77170473e-01 -5.56824282e-02 -3.37550372e-01 -1.42172480e+00\n",
            " -1.54317781e-01 -3.74161512e-01 -4.71713692e-02  2.20828056e-01\n",
            " -2.24966630e-01 -2.24663422e-01 -1.38755711e-02 -6.68382108e-01\n",
            "  7.85439312e-02 -1.24686748e-01 -2.63039410e-01  1.38220742e-01\n",
            " -3.28084767e-01 -1.08680360e-01  9.43017229e-02 -2.42992967e-01\n",
            " -2.82960743e-01 -4.17057961e-01 -3.49220969e-02  9.34943482e-02\n",
            " -1.51867524e-01 -2.02562287e-01  2.03881636e-01  4.93859172e-01\n",
            "  1.84053645e-01  1.26267046e-01 -8.17650184e-02 -6.46363422e-02\n",
            " -9.61912721e-02 -1.52963269e+00 -1.37445644e-01  3.44785713e-02\n",
            "  2.21739352e-01 -1.92053109e-01  3.56896490e-01  7.87631720e-02\n",
            " -2.00470075e-01  4.34256196e-02  3.36702138e-01 -6.52884007e-01\n",
            " -5.20015880e-02  5.26417613e-01 -5.54978549e-02 -3.57294470e-01\n",
            "  1.88399144e-02  3.89006615e-01  2.21774027e-01  1.93922222e-01\n",
            " -4.69780676e-02 -5.78596853e-02  2.08428115e-01  3.09383839e-01\n",
            " -1.01812296e-01 -9.50077772e-02  2.92433798e-01 -1.36084944e-01\n",
            "  3.21927428e-01 -1.36950925e-01  4.88355547e-01  1.00785829e-01\n",
            " -9.40870225e-01  2.43532822e-01 -1.94969282e-01 -8.85209665e-02\n",
            " -2.04567760e-01 -4.16158885e-01  5.07985167e-02  1.71991870e-01\n",
            "  5.59557416e-02 -1.12998456e-01  3.86104316e-01  1.64236665e+00\n",
            "  1.71363145e-01  7.38712549e-02  1.36041209e-01  1.35985985e-01\n",
            " -3.69625658e-01  1.18155420e-01 -3.77859086e-01  1.60708869e+00\n",
            "  5.01045212e-02  2.77001143e-01 -1.40130565e-01  3.02704394e-01\n",
            " -3.82691510e-02  8.91466677e-01  4.24829423e-01  4.82856542e-01\n",
            " -1.54623047e-01 -4.41429541e-02  1.71155721e-01  2.46451586e-01\n",
            " -6.45995662e-02  4.13237214e-02 -5.70737161e-02 -1.44669974e+00\n",
            " -2.40289137e-01  4.37332720e-01  3.04882616e-01  2.24566218e-02\n",
            " -4.52598453e-01  6.84569836e-01 -3.05457145e-01 -3.20475399e-01\n",
            " -2.46055406e-02  2.15218633e-01 -2.88824201e-01 -1.13593958e-01\n",
            " -3.81302059e-01 -1.98982313e-01 -9.04872119e-02 -3.92757393e-02\n",
            " -2.20596269e-01 -9.18937027e-02  4.53067154e-01 -1.15702748e-01\n",
            "  5.89723289e-01 -1.59725115e-01  6.65629357e-02  4.47131872e-01\n",
            "  2.13524818e-01 -1.35351285e-01  1.05461992e-01  1.00141585e-01\n",
            " -3.21914256e-01 -1.25310704e-01  2.60393530e-01  2.27817327e-01\n",
            " -2.21969448e-02  3.80199552e-01 -1.80520147e-01 -4.65820394e-02]\n",
            "\n"
          ]
        }
      ]
    },
    {
      "cell_type": "code",
      "source": [],
      "metadata": {
        "id": "pUMTd6aEjg24"
      },
      "execution_count": null,
      "outputs": []
    }
  ]
}